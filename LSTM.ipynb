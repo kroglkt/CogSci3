{
 "cells": [
  {
   "cell_type": "code",
   "execution_count": 15,
   "metadata": {},
   "outputs": [],
   "source": [
    "import pandas as pd\n",
    "import numpy as np\n",
    "import keras\n",
    "from tqdm.notebook import tqdm\n",
    "from IPython.display import display\n",
    "import sklearn\n",
    "from matplotlib import pyplot as plt\n",
    "from keras.layers import LSTM, Dropout, Dense, BatchNormalization, Flatten, Input\n",
    "from sklearn.metrics import roc_curve, confusion_matrix\n",
    "from sklearn.model_selection import train_test_split\n",
    "from sklearn.dummy import DummyClassifier\n",
    "from sklearn.ensemble import RandomForestClassifier\n",
    "#https://machinelearningmastery.com/how-to-develop-rnn-models-for-human-activity-recognition-time-series-classification/"
   ]
  },
  {
   "cell_type": "markdown",
   "metadata": {},
   "source": [
    "To do:\n",
    "\n",
    "- Load alle trials i stedte for data (all_readings = np.load('all_readings.npy', allow_pickle=True))\n",
    "- Ryd op i de trials.\n",
    "- Generér uniform trials (3D array med [batch, samples,features])\n",
    "    - Altså, cellen med #Make all trials same length - Save this cell\n",
    "    - batch er alle dine træningspunkter\n",
    "    - samples er dine time series (små udklip af eye tracking)\n",
    "    - features er... ja, features.\n",
    "- Få LSTM til at virke med din data - skidevære med metrics.\n",
    "- Når det virker kan du rode rundt med ordentlig klassifikation\n",
    "- Evt separer saccades og fixations?"
   ]
  },
  {
   "cell_type": "code",
   "execution_count": 9,
   "metadata": {},
   "outputs": [],
   "source": [
    "target = 'gender' #'age'\n",
    "even_gender = False\n",
    "\n",
    "sample_length = 10\n",
    "seed = 42\n",
    "\n",
    "epochs=5\n",
    "verbose=True\n",
    "batch_size=32\n",
    "\n",
    "np.random.seed(seed) "
   ]
  },
  {
   "cell_type": "code",
   "execution_count": 3,
   "metadata": {},
   "outputs": [],
   "source": [
    "data = np.load('all_readings.npy', allow_pickle=True)\n",
    "data = [i for i in data if len(i)>sample_length]\n",
    "\n",
    "if even_gender:\n",
    "    data = data[:-52]"
   ]
  },
  {
   "cell_type": "code",
   "execution_count": 4,
   "metadata": {},
   "outputs": [],
   "source": [
    "def make_trials_uniform(trials):\n",
    "    uniform_X = []\n",
    "    uniform_y = []\n",
    "    show = True\n",
    "    for trial in tqdm(trials):\n",
    "        X, y = cleanup_reading(trial, show=show)\n",
    "        show=False\n",
    "        length = X.shape[0]\n",
    "        for i in range(sample_length, length-length%sample_length, sample_length):\n",
    "            uniform_X.append(X.iloc[i-sample_length:i])\n",
    "            uniform_y.append(y.values[0])\n",
    "\n",
    "    return np.array(uniform_X), np.array(uniform_y)\n",
    "\n",
    "def experimental(trial):    \n",
    "    trial = trial[trial['eventType']==0]\n",
    "    trial = trial.drop('eventType', axis=1)\n",
    "    trial = trial.replace(0,np.nan).dropna(axis=1,how=\"all\")\n",
    "    trial['false'] = np\n",
    "    return trial[['duration','meanPupilDiameter']]\n",
    "\n",
    "    \n",
    "\n",
    "def cleanup_reading(trial, show=False):\n",
    "    trial = trial[trial.columns[1:]]\n",
    "    trial = trial[trial['eye']=='right']\n",
    "    trial = trial.drop('eye',1)\n",
    "    trial = trial.drop('eventIdxLeft',1)\n",
    "    trial = trial.drop('eventIdxRight',1)\n",
    "    trial['eventType'] = trial['eventType'].replace(['saccade'], 1)\n",
    "    trial['eventType'] = trial['eventType'].replace(['fixation'], 0)\n",
    "    trial = trial.fillna(0)\n",
    "    \n",
    "    #trial = experimental(trial)\n",
    "    \n",
    "    feats = trial.columns\n",
    "    trial = trial.reset_index()\n",
    "    \n",
    "    if show:\n",
    "        print(\"Your features\")\n",
    "        display(trial.head())\n",
    "        \n",
    "    return trial[feats[:-2]], trial[feats[-2:]]"
   ]
  },
  {
   "cell_type": "code",
   "execution_count": 5,
   "metadata": {
    "scrolled": true
   },
   "outputs": [
    {
     "data": {
      "application/vnd.jupyter.widget-view+json": {
       "model_id": "a3f4b25e081f445e9f182d3144012a15",
       "version_major": 2,
       "version_minor": 0
      },
      "text/plain": [
       "  0%|          | 0/5584 [00:00<?, ?it/s]"
      ]
     },
     "metadata": {},
     "output_type": "display_data"
    },
    {
     "name": "stdout",
     "output_type": "stream",
     "text": [
      "Your features\n"
     ]
    },
    {
     "data": {
      "text/html": [
       "<div>\n",
       "<style scoped>\n",
       "    .dataframe tbody tr th:only-of-type {\n",
       "        vertical-align: middle;\n",
       "    }\n",
       "\n",
       "    .dataframe tbody tr th {\n",
       "        vertical-align: top;\n",
       "    }\n",
       "\n",
       "    .dataframe thead th {\n",
       "        text-align: right;\n",
       "    }\n",
       "</style>\n",
       "<table border=\"1\" class=\"dataframe\">\n",
       "  <thead>\n",
       "    <tr style=\"text-align: right;\">\n",
       "      <th></th>\n",
       "      <th>index</th>\n",
       "      <th>duration</th>\n",
       "      <th>meanPupilDiameter</th>\n",
       "      <th>eventType</th>\n",
       "      <th>meanX</th>\n",
       "      <th>meanY</th>\n",
       "      <th>startSaccadeX</th>\n",
       "      <th>startSaccadeY</th>\n",
       "      <th>endSaccadeX</th>\n",
       "      <th>endSaccadeY</th>\n",
       "      <th>microsaccadeCount</th>\n",
       "      <th>microsaccadeAmplitude</th>\n",
       "      <th>microsaccadePeakVelocity</th>\n",
       "      <th>gender</th>\n",
       "      <th>age</th>\n",
       "    </tr>\n",
       "  </thead>\n",
       "  <tbody>\n",
       "    <tr>\n",
       "      <th>0</th>\n",
       "      <td>10</td>\n",
       "      <td>20</td>\n",
       "      <td>0.000000</td>\n",
       "      <td>1</td>\n",
       "      <td>0.000000</td>\n",
       "      <td>0.000000</td>\n",
       "      <td>409.952</td>\n",
       "      <td>199.078</td>\n",
       "      <td>528.719</td>\n",
       "      <td>201.141</td>\n",
       "      <td>0.0</td>\n",
       "      <td>0.000000</td>\n",
       "      <td>0.000000</td>\n",
       "      <td>2.0</td>\n",
       "      <td>24.0</td>\n",
       "    </tr>\n",
       "    <tr>\n",
       "      <th>1</th>\n",
       "      <td>12</td>\n",
       "      <td>216</td>\n",
       "      <td>3.416491</td>\n",
       "      <td>0</td>\n",
       "      <td>531.211073</td>\n",
       "      <td>205.176436</td>\n",
       "      <td>0.000</td>\n",
       "      <td>0.000</td>\n",
       "      <td>0.000</td>\n",
       "      <td>0.000</td>\n",
       "      <td>1.0</td>\n",
       "      <td>7.146511</td>\n",
       "      <td>16.783910</td>\n",
       "      <td>2.0</td>\n",
       "      <td>24.0</td>\n",
       "    </tr>\n",
       "    <tr>\n",
       "      <th>2</th>\n",
       "      <td>15</td>\n",
       "      <td>24</td>\n",
       "      <td>0.000000</td>\n",
       "      <td>1</td>\n",
       "      <td>0.000000</td>\n",
       "      <td>0.000000</td>\n",
       "      <td>529.090</td>\n",
       "      <td>195.423</td>\n",
       "      <td>705.419</td>\n",
       "      <td>198.423</td>\n",
       "      <td>0.0</td>\n",
       "      <td>0.000000</td>\n",
       "      <td>0.000000</td>\n",
       "      <td>2.0</td>\n",
       "      <td>24.0</td>\n",
       "    </tr>\n",
       "    <tr>\n",
       "      <th>3</th>\n",
       "      <td>16</td>\n",
       "      <td>196</td>\n",
       "      <td>3.429929</td>\n",
       "      <td>0</td>\n",
       "      <td>718.079880</td>\n",
       "      <td>200.171140</td>\n",
       "      <td>0.000</td>\n",
       "      <td>0.000</td>\n",
       "      <td>0.000</td>\n",
       "      <td>0.000</td>\n",
       "      <td>1.0</td>\n",
       "      <td>4.147090</td>\n",
       "      <td>14.326414</td>\n",
       "      <td>2.0</td>\n",
       "      <td>24.0</td>\n",
       "    </tr>\n",
       "    <tr>\n",
       "      <th>4</th>\n",
       "      <td>18</td>\n",
       "      <td>16</td>\n",
       "      <td>0.000000</td>\n",
       "      <td>1</td>\n",
       "      <td>0.000000</td>\n",
       "      <td>0.000000</td>\n",
       "      <td>728.998</td>\n",
       "      <td>186.610</td>\n",
       "      <td>665.861</td>\n",
       "      <td>198.548</td>\n",
       "      <td>0.0</td>\n",
       "      <td>0.000000</td>\n",
       "      <td>0.000000</td>\n",
       "      <td>2.0</td>\n",
       "      <td>24.0</td>\n",
       "    </tr>\n",
       "  </tbody>\n",
       "</table>\n",
       "</div>"
      ],
      "text/plain": [
       "   index  duration  meanPupilDiameter  eventType       meanX       meanY  \\\n",
       "0     10        20           0.000000          1    0.000000    0.000000   \n",
       "1     12       216           3.416491          0  531.211073  205.176436   \n",
       "2     15        24           0.000000          1    0.000000    0.000000   \n",
       "3     16       196           3.429929          0  718.079880  200.171140   \n",
       "4     18        16           0.000000          1    0.000000    0.000000   \n",
       "\n",
       "   startSaccadeX  startSaccadeY  endSaccadeX  endSaccadeY  microsaccadeCount  \\\n",
       "0        409.952        199.078      528.719      201.141                0.0   \n",
       "1          0.000          0.000        0.000        0.000                1.0   \n",
       "2        529.090        195.423      705.419      198.423                0.0   \n",
       "3          0.000          0.000        0.000        0.000                1.0   \n",
       "4        728.998        186.610      665.861      198.548                0.0   \n",
       "\n",
       "   microsaccadeAmplitude  microsaccadePeakVelocity  gender   age  \n",
       "0               0.000000                  0.000000     2.0  24.0  \n",
       "1               7.146511                 16.783910     2.0  24.0  \n",
       "2               0.000000                  0.000000     2.0  24.0  \n",
       "3               4.147090                 14.326414     2.0  24.0  \n",
       "4               0.000000                  0.000000     2.0  24.0  "
      ]
     },
     "metadata": {},
     "output_type": "display_data"
    },
    {
     "name": "stdout",
     "output_type": "stream",
     "text": [
      "X shape: (14969, 10, 12), y shape: (14969, 1)\n"
     ]
    }
   ],
   "source": [
    "np.random.shuffle(data)\n",
    "X,y = make_trials_uniform(data)\n",
    "X,y = sklearn.utils.shuffle(X, y, random_state=seed)\n",
    "y = y-1\n",
    "\n",
    "if target == 'gender':\n",
    "    y = y[:,0] #Only tage gender\n",
    "else:\n",
    "    y = y[:,1]\n",
    "\n",
    "y = y.reshape(-1, 1)\n",
    "print(f'X shape: {X.shape}, y shape: {y.shape}')\n",
    "\n",
    "X_train, X_test, y_train, y_test = train_test_split(X,y,random_state=seed)"
   ]
  },
  {
   "cell_type": "code",
   "execution_count": 10,
   "metadata": {},
   "outputs": [],
   "source": [
    "model = keras.Sequential()\n",
    "model.add(Input(shape=(X_train[0].shape)))\n",
    "model.add(BatchNormalization(input_shape = (32,1)))\n",
    "model.add(LSTM(10))\n",
    "model.add(Dense(100, activation='relu'))\n",
    "model.add(Dropout(0.5))\n",
    "model.add(Dense(1, activation=\"sigmoid\"))\n",
    "model.compile(loss=\"binary_crossentropy\"\n",
    "              , metrics=[keras.metrics.binary_accuracy]\n",
    "              , optimizer=\"adam\")\n",
    "\n",
    "model.compile(\n",
    "    optimizer='adam', \n",
    "    loss='binary_crossentropy', \n",
    "    metrics=['accuracy']\n",
    ")"
   ]
  },
  {
   "cell_type": "code",
   "execution_count": 11,
   "metadata": {
    "scrolled": true
   },
   "outputs": [
    {
     "name": "stdout",
     "output_type": "stream",
     "text": [
      "Epoch 1/5\n",
      "281/281 [==============================] - 5s 19ms/step - loss: 0.6873 - accuracy: 0.5429 - val_loss: 0.6790 - val_accuracy: 0.5748\n",
      "Epoch 2/5\n",
      "281/281 [==============================] - 4s 16ms/step - loss: 0.6745 - accuracy: 0.5787 - val_loss: 0.6693 - val_accuracy: 0.5859\n",
      "Epoch 3/5\n",
      "281/281 [==============================] - 4s 16ms/step - loss: 0.6719 - accuracy: 0.5867 - val_loss: 0.6702 - val_accuracy: 0.5846\n",
      "Epoch 4/5\n",
      "281/281 [==============================] - 4s 14ms/step - loss: 0.6692 - accuracy: 0.5920 - val_loss: 0.6698 - val_accuracy: 0.5788\n",
      "Epoch 5/5\n",
      "281/281 [==============================] - 4s 13ms/step - loss: 0.6668 - accuracy: 0.5902 - val_loss: 0.6673 - val_accuracy: 0.5895\n"
     ]
    }
   ],
   "source": [
    "callback = keras.callbacks.EarlyStopping(monitor='val_loss', patience=30)\n",
    "history = model.fit(X_train, y_train, validation_split=0.2, epochs=epochs, \n",
    "                         batch_size=batch_size, callbacks=[callback])"
   ]
  },
  {
   "cell_type": "code",
   "execution_count": 12,
   "metadata": {},
   "outputs": [
    {
     "data": {
      "image/png": "[encoded data removed]",
      "text/plain": [
       "<Figure size 432x288 with 1 Axes>"
      ]
     },
     "metadata": {
      "needs_background": "light"
     },
     "output_type": "display_data"
    }
   ],
   "source": [
    "plt.plot(history.history['loss'], label=\"loss\");\n",
    "plt.plot(history.history['accuracy'], label=\"acc\");\n",
    "plt.plot(history.history['val_loss'], '--', label=\"val loss\");\n",
    "plt.plot(history.history['val_accuracy'], '--', label=\"val acc\");\n",
    "plt.legend();"
   ]
  },
  {
   "cell_type": "code",
   "execution_count": 13,
   "metadata": {},
   "outputs": [],
   "source": [
    "y_pred= model.predict(X_test).ravel()\n",
    "y_pred = (np.floor(y_pred+0.5)*2)-1\n",
    "fpr, tpr, thresholds = roc_curve((y_test*2)-1, y_pred, pos_label=1)\n",
    "\n",
    "dummy = DummyClassifier()\n",
    "dummy.fit(X_train, y_train)\n",
    "dum_y_pred= dummy.predict(X_test).ravel()\n",
    "dum_fpr, dum_tpr, dum_thresholds = roc_curve((y_test*2)-1, dum_y_pred, pos_label=1)\n",
    "\n",
    "# rfc = RandomForestClassifier()\n",
    "# rfc.fit(X_train, y_train)\n",
    "# rfc_y_pred= rfc.predict(X_test).ravel()\n",
    "# rfc_fpr, rfc_tpr, rfc_thresholds = roc_curve(y_test-1, rfc_y_pred-1)"
   ]
  },
  {
   "cell_type": "code",
   "execution_count": 14,
   "metadata": {},
   "outputs": [
    {
     "data": {
      "text/plain": [
       "<matplotlib.legend.Legend at 0x1ec6f3a5d48>"
      ]
     },
     "execution_count": 14,
     "metadata": {},
     "output_type": "execute_result"
    },
    {
     "data": {
      "image/png": "[encoded data removed]",
      "text/plain": [
       "<Figure size 432x288 with 1 Axes>"
      ]
     },
     "metadata": {
      "needs_background": "light"
     },
     "output_type": "display_data"
    }
   ],
   "source": [
    "# fig = plt.figure(figsize=(8,6))\n",
    "plt.plot(fpr,tpr,label=\"LSTM\")\n",
    "plt.plot(dum_fpr,dum_tpr,'--',label=\"Dummy\", c='purple')\n",
    "plt.title(\"ROC curve for LSTM\")\n",
    "plt.legend()"
   ]
  },
  {
   "cell_type": "code",
   "execution_count": 16,
   "metadata": {},
   "outputs": [],
   "source": [
    "def plot_roc_cur(fper, tper, label=\"\", line=\"\", title=\"plot title\"):\n",
    "    plt.plot(fper, tper, line, label=label)\n",
    "    #plt.plot([0, 1], [0, 1], color='darkblue', linestyle='--')\n",
    "    plt.xlabel('False Positive Rate')\n",
    "    plt.ylabel('True Positive Rate')\n",
    "    plt.title(title)\n",
    "    plt.legend(loc='lower right')\n",
    "    \n",
    "def create_roc_curve(preds, targets, label=\"\", line=\"\", title=\"\"):\n",
    "    all_fpr, all_tpr = [], []\n",
    "    fpr, tpr, thresholds = roc_curve(targets, preds)\n",
    "    all_fpr.append(fpr)\n",
    "    all_tpr.append(tpr)\n",
    "    all_fpr = np.array(all_fpr)\n",
    "    all_tpr = np.array(tpr)\n",
    "    \n",
    "    plot_roc_cur(all_fpr[0], all_tpr, label=label, line=line, title=title) "
   ]
  },
  {
   "cell_type": "code",
   "execution_count": 19,
   "metadata": {},
   "outputs": [
    {
     "data": {
      "image/png": "[encoded data removed]",
      "text/plain": [
       "<Figure size 432x288 with 1 Axes>"
      ]
     },
     "metadata": {
      "needs_background": "light"
     },
     "output_type": "display_data"
    }
   ],
   "source": [
    "y_pred= model.predict(X_test).ravel()\n",
    "y_pred = (np.floor(y_pred+0.5)*2)-1\n",
    "\n",
    "create_roc_curve(model.predict(X_test), y_test, label=\"LSTM\")\n",
    "create_roc_curve(dummy.predict(X_test), y_test, label=\"Dummy\")"
   ]
  },
  {
   "cell_type": "code",
   "execution_count": null,
   "metadata": {},
   "outputs": [],
   "source": [
    "y_train[0], y_train[2]"
   ]
  },
  {
   "cell_type": "code",
   "execution_count": null,
   "metadata": {},
   "outputs": [],
   "source": [
    "y_train"
   ]
  },
  {
   "cell_type": "code",
   "execution_count": null,
   "metadata": {},
   "outputs": [],
   "source": []
  }
 ],
 "metadata": {
  "kernelspec": {
   "display_name": "Python 3",
   "language": "python",
   "name": "python3"
  },
  "language_info": {
   "codemirror_mode": {
    "name": "ipython",
    "version": 3
   },
   "file_extension": ".py",
   "mimetype": "text/x-python",
   "name": "python",
   "nbconvert_exporter": "python",
   "pygments_lexer": "ipython3",
   "version": "3.7.4"
  }
 },
 "nbformat": 4,
 "nbformat_minor": 4
}
