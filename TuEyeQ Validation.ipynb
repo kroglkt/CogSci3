{
 "cells": [
  {
   "cell_type": "markdown",
   "metadata": {},
   "source": [
    "# TüEyeQ dataset validation\n",
    "Extracking data for comparison with other dataset. "
   ]
  },
  {
   "cell_type": "code",
   "execution_count": 8,
   "metadata": {},
   "outputs": [],
   "source": [
    "import numpy as np\n",
    "import pandas as pd\n",
    "from matplotlib import pyplot as plt\n",
    "import os\n",
    "from tqdm import tqdm"
   ]
  },
  {
   "cell_type": "markdown",
   "metadata": {},
   "source": [
    "### Loading the participant features\n",
    "The table below holds the info we have on each participant. Each participant has a unique subject ID. The info about the tasks was removed, as it was deemed unnecessary. Our taget value should be age / gender."
   ]
  },
  {
   "cell_type": "code",
   "execution_count": 2,
   "metadata": {},
   "outputs": [
    {
     "data": {
      "text/html": [
       "<div>\n",
       "<style scoped>\n",
       "    .dataframe tbody tr th:only-of-type {\n",
       "        vertical-align: middle;\n",
       "    }\n",
       "\n",
       "    .dataframe tbody tr th {\n",
       "        vertical-align: top;\n",
       "    }\n",
       "\n",
       "    .dataframe thead th {\n",
       "        text-align: right;\n",
       "    }\n",
       "</style>\n",
       "<table border=\"1\" class=\"dataframe\">\n",
       "  <thead>\n",
       "    <tr style=\"text-align: right;\">\n",
       "      <th></th>\n",
       "      <th>age</th>\n",
       "      <th>gender</th>\n",
       "      <th>handedness</th>\n",
       "      <th>native_german</th>\n",
       "      <th>native_german_mother</th>\n",
       "      <th>native_language_mother</th>\n",
       "      <th>native_german_father</th>\n",
       "      <th>native_language_father</th>\n",
       "      <th>education_mother</th>\n",
       "      <th>education_father</th>\n",
       "      <th>...</th>\n",
       "      <th>leisure_hobbies</th>\n",
       "      <th>leisure_play_games</th>\n",
       "      <th>leisure_relaxation</th>\n",
       "      <th>leisure_social_activity</th>\n",
       "      <th>leisure_humanitarian_services</th>\n",
       "      <th>leisure_nature_activities</th>\n",
       "      <th>leisure_travel_tourism</th>\n",
       "      <th>study_subject_primary</th>\n",
       "      <th>study_subject_secondary</th>\n",
       "      <th>cft_sum_full</th>\n",
       "    </tr>\n",
       "    <tr>\n",
       "      <th>subject</th>\n",
       "      <th></th>\n",
       "      <th></th>\n",
       "      <th></th>\n",
       "      <th></th>\n",
       "      <th></th>\n",
       "      <th></th>\n",
       "      <th></th>\n",
       "      <th></th>\n",
       "      <th></th>\n",
       "      <th></th>\n",
       "      <th></th>\n",
       "      <th></th>\n",
       "      <th></th>\n",
       "      <th></th>\n",
       "      <th></th>\n",
       "      <th></th>\n",
       "      <th></th>\n",
       "      <th></th>\n",
       "      <th></th>\n",
       "      <th></th>\n",
       "      <th></th>\n",
       "    </tr>\n",
       "  </thead>\n",
       "  <tbody>\n",
       "    <tr>\n",
       "      <th>AAB14</th>\n",
       "      <td>19.0</td>\n",
       "      <td>2.0</td>\n",
       "      <td>1.0</td>\n",
       "      <td>1.0</td>\n",
       "      <td>0.0</td>\n",
       "      <td>Türkisch</td>\n",
       "      <td>0.0</td>\n",
       "      <td>Italienisch</td>\n",
       "      <td>2.0</td>\n",
       "      <td>0.0</td>\n",
       "      <td>...</td>\n",
       "      <td>0</td>\n",
       "      <td>0</td>\n",
       "      <td>0</td>\n",
       "      <td>1</td>\n",
       "      <td>0</td>\n",
       "      <td>1</td>\n",
       "      <td>0</td>\n",
       "      <td>Social sciences, journalism and information</td>\n",
       "      <td>NaN</td>\n",
       "      <td>28.0</td>\n",
       "    </tr>\n",
       "    <tr>\n",
       "      <th>AAO14</th>\n",
       "      <td>27.0</td>\n",
       "      <td>2.0</td>\n",
       "      <td>1.0</td>\n",
       "      <td>0.0</td>\n",
       "      <td>0.0</td>\n",
       "      <td>Englisch</td>\n",
       "      <td>0.0</td>\n",
       "      <td>Hindi</td>\n",
       "      <td>NaN</td>\n",
       "      <td>4.0</td>\n",
       "      <td>...</td>\n",
       "      <td>1</td>\n",
       "      <td>0</td>\n",
       "      <td>0</td>\n",
       "      <td>0</td>\n",
       "      <td>0</td>\n",
       "      <td>0</td>\n",
       "      <td>0</td>\n",
       "      <td>Natural sciences, mathematics and statistics</td>\n",
       "      <td>NaN</td>\n",
       "      <td>30.0</td>\n",
       "    </tr>\n",
       "    <tr>\n",
       "      <th>AAR28</th>\n",
       "      <td>29.0</td>\n",
       "      <td>1.0</td>\n",
       "      <td>1.0</td>\n",
       "      <td>1.0</td>\n",
       "      <td>1.0</td>\n",
       "      <td>NaN</td>\n",
       "      <td>1.0</td>\n",
       "      <td>NaN</td>\n",
       "      <td>3.0</td>\n",
       "      <td>5.0</td>\n",
       "      <td>...</td>\n",
       "      <td>0</td>\n",
       "      <td>1</td>\n",
       "      <td>0</td>\n",
       "      <td>0</td>\n",
       "      <td>0</td>\n",
       "      <td>1</td>\n",
       "      <td>1</td>\n",
       "      <td>Education</td>\n",
       "      <td>Arts and humanities</td>\n",
       "      <td>35.0</td>\n",
       "    </tr>\n",
       "    <tr>\n",
       "      <th>ABT22</th>\n",
       "      <td>21.0</td>\n",
       "      <td>2.0</td>\n",
       "      <td>1.0</td>\n",
       "      <td>1.0</td>\n",
       "      <td>1.0</td>\n",
       "      <td>NaN</td>\n",
       "      <td>0.0</td>\n",
       "      <td>Serbisch</td>\n",
       "      <td>5.0</td>\n",
       "      <td>4.0</td>\n",
       "      <td>...</td>\n",
       "      <td>0</td>\n",
       "      <td>0</td>\n",
       "      <td>0</td>\n",
       "      <td>0</td>\n",
       "      <td>0</td>\n",
       "      <td>0</td>\n",
       "      <td>1</td>\n",
       "      <td>Business, administration and law</td>\n",
       "      <td>NaN</td>\n",
       "      <td>37.0</td>\n",
       "    </tr>\n",
       "    <tr>\n",
       "      <th>ACB13</th>\n",
       "      <td>25.0</td>\n",
       "      <td>1.0</td>\n",
       "      <td>2.0</td>\n",
       "      <td>1.0</td>\n",
       "      <td>1.0</td>\n",
       "      <td>NaN</td>\n",
       "      <td>1.0</td>\n",
       "      <td>NaN</td>\n",
       "      <td>3.0</td>\n",
       "      <td>5.0</td>\n",
       "      <td>...</td>\n",
       "      <td>0</td>\n",
       "      <td>0</td>\n",
       "      <td>0</td>\n",
       "      <td>0</td>\n",
       "      <td>0</td>\n",
       "      <td>0</td>\n",
       "      <td>0</td>\n",
       "      <td>Business, administration and law</td>\n",
       "      <td>NaN</td>\n",
       "      <td>28.0</td>\n",
       "    </tr>\n",
       "  </tbody>\n",
       "</table>\n",
       "<p>5 rows × 76 columns</p>\n",
       "</div>"
      ],
      "text/plain": [
       "          age  gender  handedness  native_german  native_german_mother  \\\n",
       "subject                                                                  \n",
       "AAB14    19.0     2.0         1.0            1.0                   0.0   \n",
       "AAO14    27.0     2.0         1.0            0.0                   0.0   \n",
       "AAR28    29.0     1.0         1.0            1.0                   1.0   \n",
       "ABT22    21.0     2.0         1.0            1.0                   1.0   \n",
       "ACB13    25.0     1.0         2.0            1.0                   1.0   \n",
       "\n",
       "        native_language_mother  native_german_father native_language_father  \\\n",
       "subject                                                                       \n",
       "AAB14                 Türkisch                   0.0            Italienisch   \n",
       "AAO14                 Englisch                   0.0                  Hindi   \n",
       "AAR28                      NaN                   1.0                    NaN   \n",
       "ABT22                      NaN                   0.0               Serbisch   \n",
       "ACB13                      NaN                   1.0                    NaN   \n",
       "\n",
       "         education_mother  education_father  ...  leisure_hobbies  \\\n",
       "subject                                      ...                    \n",
       "AAB14                 2.0               0.0  ...                0   \n",
       "AAO14                 NaN               4.0  ...                1   \n",
       "AAR28                 3.0               5.0  ...                0   \n",
       "ABT22                 5.0               4.0  ...                0   \n",
       "ACB13                 3.0               5.0  ...                0   \n",
       "\n",
       "         leisure_play_games  leisure_relaxation leisure_social_activity  \\\n",
       "subject                                                                   \n",
       "AAB14                     0                   0                       1   \n",
       "AAO14                     0                   0                       0   \n",
       "AAR28                     1                   0                       0   \n",
       "ABT22                     0                   0                       0   \n",
       "ACB13                     0                   0                       0   \n",
       "\n",
       "        leisure_humanitarian_services  leisure_nature_activities  \\\n",
       "subject                                                            \n",
       "AAB14                               0                          1   \n",
       "AAO14                               0                          0   \n",
       "AAR28                               0                          1   \n",
       "ABT22                               0                          0   \n",
       "ACB13                               0                          0   \n",
       "\n",
       "         leisure_travel_tourism                         study_subject_primary  \\\n",
       "subject                                                                         \n",
       "AAB14                         0   Social sciences, journalism and information   \n",
       "AAO14                         0  Natural sciences, mathematics and statistics   \n",
       "AAR28                         1                                     Education   \n",
       "ABT22                         1              Business, administration and law   \n",
       "ACB13                         0              Business, administration and law   \n",
       "\n",
       "         study_subject_secondary  cft_sum_full  \n",
       "subject                                         \n",
       "AAB14                        NaN          28.0  \n",
       "AAO14                        NaN          30.0  \n",
       "AAR28        Arts and humanities          35.0  \n",
       "ABT22                        NaN          37.0  \n",
       "ACB13                        NaN          28.0  \n",
       "\n",
       "[5 rows x 76 columns]"
      ]
     },
     "execution_count": 2,
     "metadata": {},
     "output_type": "execute_result"
    }
   ],
   "source": [
    "participant_features = pd.read_csv('TuEyeQ/cft_full.csv', index_col=1)\n",
    "del participant_features['task_id']\n",
    "del participant_features['cft_task']\n",
    "participant_features = participant_features.drop_duplicates()\n",
    "participant_features.head()"
   ]
  },
  {
   "cell_type": "markdown",
   "metadata": {},
   "source": [
    "### Reading eye tracking features\n",
    " Here is what eye tracking features for Some of the participants and some readings have been removed due to too much noise. "
   ]
  },
  {
   "cell_type": "code",
   "execution_count": 3,
   "metadata": {},
   "outputs": [
    {
     "data": {
      "text/html": [
       "<div>\n",
       "<style scoped>\n",
       "    .dataframe tbody tr th:only-of-type {\n",
       "        vertical-align: middle;\n",
       "    }\n",
       "\n",
       "    .dataframe tbody tr th {\n",
       "        vertical-align: top;\n",
       "    }\n",
       "\n",
       "    .dataframe thead th {\n",
       "        text-align: right;\n",
       "    }\n",
       "</style>\n",
       "<table border=\"1\" class=\"dataframe\">\n",
       "  <thead>\n",
       "    <tr style=\"text-align: right;\">\n",
       "      <th></th>\n",
       "      <th>starttime</th>\n",
       "      <th>duration</th>\n",
       "      <th>meanPupilDiameter</th>\n",
       "      <th>eye</th>\n",
       "      <th>eventType</th>\n",
       "      <th>eventIdxLeft</th>\n",
       "      <th>eventIdxRight</th>\n",
       "      <th>meanX</th>\n",
       "      <th>meanY</th>\n",
       "      <th>startSaccadeX</th>\n",
       "      <th>startSaccadeY</th>\n",
       "      <th>endSaccadeX</th>\n",
       "      <th>endSaccadeY</th>\n",
       "      <th>microsaccadeCount</th>\n",
       "      <th>microsaccadeAmplitude</th>\n",
       "      <th>microsaccadePeakVelocity</th>\n",
       "      <th>gender</th>\n",
       "    </tr>\n",
       "  </thead>\n",
       "  <tbody>\n",
       "    <tr>\n",
       "      <th>14</th>\n",
       "      <td>3032142</td>\n",
       "      <td>44</td>\n",
       "      <td>NaN</td>\n",
       "      <td>left</td>\n",
       "      <td>saccade</td>\n",
       "      <td>1.0</td>\n",
       "      <td>NaN</td>\n",
       "      <td>NaN</td>\n",
       "      <td>NaN</td>\n",
       "      <td>514.678</td>\n",
       "      <td>410.290</td>\n",
       "      <td>701.580</td>\n",
       "      <td>311.073</td>\n",
       "      <td>NaN</td>\n",
       "      <td>NaN</td>\n",
       "      <td>NaN</td>\n",
       "      <td>2.0</td>\n",
       "    </tr>\n",
       "    <tr>\n",
       "      <th>15</th>\n",
       "      <td>3032146</td>\n",
       "      <td>40</td>\n",
       "      <td>NaN</td>\n",
       "      <td>right</td>\n",
       "      <td>saccade</td>\n",
       "      <td>1.0</td>\n",
       "      <td>4.0</td>\n",
       "      <td>NaN</td>\n",
       "      <td>NaN</td>\n",
       "      <td>554.941</td>\n",
       "      <td>409.684</td>\n",
       "      <td>713.569</td>\n",
       "      <td>319.930</td>\n",
       "      <td>NaN</td>\n",
       "      <td>NaN</td>\n",
       "      <td>NaN</td>\n",
       "      <td>2.0</td>\n",
       "    </tr>\n",
       "    <tr>\n",
       "      <th>16</th>\n",
       "      <td>3032190</td>\n",
       "      <td>100</td>\n",
       "      <td>3.053042</td>\n",
       "      <td>left</td>\n",
       "      <td>fixation</td>\n",
       "      <td>1.0</td>\n",
       "      <td>NaN</td>\n",
       "      <td>714.207654</td>\n",
       "      <td>299.538000</td>\n",
       "      <td>NaN</td>\n",
       "      <td>NaN</td>\n",
       "      <td>NaN</td>\n",
       "      <td>NaN</td>\n",
       "      <td>0.0</td>\n",
       "      <td>NaN</td>\n",
       "      <td>NaN</td>\n",
       "      <td>2.0</td>\n",
       "    </tr>\n",
       "    <tr>\n",
       "      <th>17</th>\n",
       "      <td>3032190</td>\n",
       "      <td>104</td>\n",
       "      <td>3.053560</td>\n",
       "      <td>right</td>\n",
       "      <td>fixation</td>\n",
       "      <td>1.0</td>\n",
       "      <td>5.0</td>\n",
       "      <td>729.511444</td>\n",
       "      <td>305.095778</td>\n",
       "      <td>NaN</td>\n",
       "      <td>NaN</td>\n",
       "      <td>NaN</td>\n",
       "      <td>NaN</td>\n",
       "      <td>2.0</td>\n",
       "      <td>3.521654</td>\n",
       "      <td>10.08638</td>\n",
       "      <td>2.0</td>\n",
       "    </tr>\n",
       "    <tr>\n",
       "      <th>18</th>\n",
       "      <td>3032294</td>\n",
       "      <td>24</td>\n",
       "      <td>NaN</td>\n",
       "      <td>left</td>\n",
       "      <td>saccade</td>\n",
       "      <td>2.0</td>\n",
       "      <td>NaN</td>\n",
       "      <td>NaN</td>\n",
       "      <td>NaN</td>\n",
       "      <td>721.452</td>\n",
       "      <td>301.986</td>\n",
       "      <td>804.455</td>\n",
       "      <td>229.362</td>\n",
       "      <td>NaN</td>\n",
       "      <td>NaN</td>\n",
       "      <td>NaN</td>\n",
       "      <td>2.0</td>\n",
       "    </tr>\n",
       "    <tr>\n",
       "      <th>19</th>\n",
       "      <td>3032298</td>\n",
       "      <td>20</td>\n",
       "      <td>NaN</td>\n",
       "      <td>right</td>\n",
       "      <td>saccade</td>\n",
       "      <td>2.0</td>\n",
       "      <td>5.0</td>\n",
       "      <td>NaN</td>\n",
       "      <td>NaN</td>\n",
       "      <td>741.377</td>\n",
       "      <td>292.951</td>\n",
       "      <td>818.070</td>\n",
       "      <td>220.246</td>\n",
       "      <td>NaN</td>\n",
       "      <td>NaN</td>\n",
       "      <td>NaN</td>\n",
       "      <td>2.0</td>\n",
       "    </tr>\n",
       "  </tbody>\n",
       "</table>\n",
       "</div>"
      ],
      "text/plain": [
       "    starttime  duration  meanPupilDiameter    eye eventType  eventIdxLeft  \\\n",
       "14    3032142        44                NaN   left   saccade           1.0   \n",
       "15    3032146        40                NaN  right   saccade           1.0   \n",
       "16    3032190       100           3.053042   left  fixation           1.0   \n",
       "17    3032190       104           3.053560  right  fixation           1.0   \n",
       "18    3032294        24                NaN   left   saccade           2.0   \n",
       "19    3032298        20                NaN  right   saccade           2.0   \n",
       "\n",
       "    eventIdxRight       meanX       meanY  startSaccadeX  startSaccadeY  \\\n",
       "14            NaN         NaN         NaN        514.678        410.290   \n",
       "15            4.0         NaN         NaN        554.941        409.684   \n",
       "16            NaN  714.207654  299.538000            NaN            NaN   \n",
       "17            5.0  729.511444  305.095778            NaN            NaN   \n",
       "18            NaN         NaN         NaN        721.452        301.986   \n",
       "19            5.0         NaN         NaN        741.377        292.951   \n",
       "\n",
       "    endSaccadeX  endSaccadeY  microsaccadeCount  microsaccadeAmplitude  \\\n",
       "14      701.580      311.073                NaN                    NaN   \n",
       "15      713.569      319.930                NaN                    NaN   \n",
       "16          NaN          NaN                0.0                    NaN   \n",
       "17          NaN          NaN                2.0               3.521654   \n",
       "18      804.455      229.362                NaN                    NaN   \n",
       "19      818.070      220.246                NaN                    NaN   \n",
       "\n",
       "    microsaccadePeakVelocity  gender  \n",
       "14                       NaN     2.0  \n",
       "15                       NaN     2.0  \n",
       "16                       NaN     2.0  \n",
       "17                  10.08638     2.0  \n",
       "18                       NaN     2.0  \n",
       "19                       NaN     2.0  "
      ]
     },
     "execution_count": 3,
     "metadata": {},
     "output_type": "execute_result"
    }
   ],
   "source": [
    "eye_tracking_features_path = 'TuEyeQ/EyeMovementData/split'\n",
    "arbitrary_eye_tracking_features = pd.read_csv(eye_tracking_features_path+'/ABT22/task_01.csv', index_col=0)\n",
    "arbitrary_eye_tracking_features['gender'] = participant_features.loc['ABT22']['gender']\n",
    "arbitrary_eye_tracking_features.head(6)"
   ]
  },
  {
   "cell_type": "markdown",
   "metadata": {},
   "source": [
    "### Appending target values to feature vectors\n",
    "We want a feature vector to consist of eye tracking features and then a target value in the end, based on the subject ID."
   ]
  },
  {
   "cell_type": "code",
   "execution_count": 4,
   "metadata": {},
   "outputs": [],
   "source": [
    "participants = list(set(participant_features.index))\n",
    "\n",
    "def load_participant(participant_id):\n",
    "    tasks = []\n",
    "    \n",
    "    if not os.path.isdir(eye_tracking_features_path+'/'+participant_id):\n",
    "        #print(participant_id+' has no readings.')\n",
    "        return\n",
    "    \n",
    "    for task in os.listdir(eye_tracking_features_path+'/'+participant_id):\n",
    "        df = pd.read_csv(eye_tracking_features_path+'/'+participant_id+'/'+task, index_col=0)\n",
    "        gender = participant_features.loc[participant_id]['gender']\n",
    "        age = participant_features.loc[participant_id]['age']\n",
    "        df['gender'] = gender\n",
    "        df['age'] = age\n",
    "        tasks.append(df)\n",
    "        \n",
    "    return tasks\n",
    "\n",
    "def drop_nulls(lst):\n",
    "    return list(filter(None, lst))"
   ]
  },
  {
   "cell_type": "code",
   "execution_count": 5,
   "metadata": {},
   "outputs": [],
   "source": [
    "abt22 = load_participant('ABT22')"
   ]
  },
  {
   "cell_type": "markdown",
   "metadata": {},
   "source": [
    "### Making a heat map\n",
    "It might be a good idea to visualise the data before attacking it. Perhaps we can even see a difference. Here I make a heatmap of the locations the male and female participants look and scanpaths."
   ]
  },
  {
   "cell_type": "code",
   "execution_count": 9,
   "metadata": {},
   "outputs": [
    {
     "name": "stderr",
     "output_type": "stream",
     "text": [
      "100%|██████████████████████████████████████████████████████████████████████████████████| 94/94 [00:24<00:00,  3.81it/s]\n",
      "100%|████████████████████████████████████████████████████████████████████████████████| 217/217 [01:04<00:00,  3.38it/s]\n"
     ]
    }
   ],
   "source": [
    "all_males = participant_features[participant_features['gender']==1].index\n",
    "all_females = participant_features[participant_features['gender']==2].index\n",
    "\n",
    "all_male_readings = drop_nulls([load_participant(subject) for subject in tqdm(all_males)])\n",
    "all_female_readings = drop_nulls([load_participant(subject) for subject in tqdm(all_females)])"
   ]
  },
  {
   "cell_type": "code",
   "execution_count": 125,
   "metadata": {},
   "outputs": [],
   "source": [
    "def make_heatmap_scanpath(readings, verbose=True):\n",
    "    heatmaps, all_x, all_y = [], [], []\n",
    "\n",
    "    for subject_ind, subject in tqdm(enumerate(readings)):\n",
    "        for reading_ind, i in enumerate(subject):\n",
    "            fixations = i[i['eventType']=='fixation']\n",
    "            mean_x = fixations['meanX']\n",
    "            mean_y = fixations['meanY']\n",
    "\n",
    "            if mean_x.shape[0] < 2 and mean_y.shape[0] < 2:\n",
    "                if verbose:\n",
    "                    print(f\"Reading {reading_ind} on subject {subject_ind} too small to work with.\")\n",
    "                break\n",
    "            heatmap, x_edges, y_edges = np.histogram2d(mean_x, mean_y, bins=(20,40))\n",
    "            heatmaps.append(heatmap)\n",
    "            all_x.append(mean_x)\n",
    "            all_y.append(mean_y)\n",
    "\n",
    "    combined_heatmap = sum(heatmaps)\n",
    "    if verbose:\n",
    "        print(\"Drawing...\")\n",
    "    plt.figure(figsize=(10,8))\n",
    "    plt.subplot(2,1,1)\n",
    "    plt.imshow(combined_heatmap);\n",
    "    ax = plt.gca() # Inverter x-akse. Den passede ikke af en eller anden årsag.\n",
    "    ax.invert_xaxis()\n",
    "    \n",
    "    plt.subplot(2,1,2)\n",
    "    for x, y in zip(all_x, all_y):\n",
    "        plt.plot(x, y, linewidth=len(readings)*.1e-10, c='blue')"
   ]
  },
  {
   "cell_type": "code",
   "execution_count": 126,
   "metadata": {},
   "outputs": [
    {
     "name": "stderr",
     "output_type": "stream",
     "text": [
      "52it [00:05, 10.26it/s]\n"
     ]
    },
    {
     "data": {
      "image/png": "[encoded data removed]",
      "text/plain": [
       "<Figure size 720x576 with 2 Axes>"
      ]
     },
     "metadata": {
      "needs_background": "light"
     },
     "output_type": "display_data"
    }
   ],
   "source": [
    "make_heatmap_scanpath(all_male_readings, verbose=False)"
   ]
  },
  {
   "cell_type": "code",
   "execution_count": 127,
   "metadata": {},
   "outputs": [
    {
     "name": "stderr",
     "output_type": "stream",
     "text": [
      "130it [00:12, 10.15it/s]\n"
     ]
    },
    {
     "data": {
      "image/png": "[encoded data removed]",
      "text/plain": [
       "<Figure size 720x576 with 2 Axes>"
      ]
     },
     "metadata": {
      "needs_background": "light"
     },
     "output_type": "display_data"
    }
   ],
   "source": [
    "make_heatmap_scanpath(all_female_readings, verbose=False)"
   ]
  },
  {
   "cell_type": "code",
   "execution_count": 78,
   "metadata": {},
   "outputs": [
    {
     "data": {
      "text/plain": [
       "True"
      ]
     },
     "execution_count": 78,
     "metadata": {},
     "output_type": "execute_result"
    }
   ],
   "source": [
    "f = all_male_readings[3][55]\n",
    "fix = f[f['eventType']=='fixation']\n",
    "x = fix['meanX']\n",
    "y = fix['meanY']\n",
    "\n",
    "#heatmap, x_edges, y_edges = np.histogram2d(x, y, bins=(40,80))\n",
    "#plt.imshow(heatmap)\n",
    "\n",
    "x.shape[0]>1"
   ]
  },
  {
   "cell_type": "code",
   "execution_count": null,
   "metadata": {},
   "outputs": [],
   "source": [
    "for subject in all_male_readings:\n",
    "    print(type(subject))\n",
    "    for i in subject:\n",
    "        pass"
   ]
  },
  {
   "cell_type": "code",
   "execution_count": 31,
   "metadata": {},
   "outputs": [
    {
     "name": "stderr",
     "output_type": "stream",
     "text": [
      "c:\\python37\\lib\\site-packages\\ipykernel_launcher.py:1: DeprecationWarning: The default dtype for empty Series will be 'object' instead of 'float64' in a future version. Specify a dtype explicitly to silence this warning.\n",
      "  \"\"\"Entry point for launching an IPython kernel.\n"
     ]
    }
   ],
   "source": [
    "f = pd.Series()"
   ]
  },
  {
   "cell_type": "code",
   "execution_count": 34,
   "metadata": {},
   "outputs": [
    {
     "data": {
      "text/plain": [
       "True"
      ]
     },
     "execution_count": 34,
     "metadata": {},
     "output_type": "execute_result"
    }
   ],
   "source": [
    "f.empty"
   ]
  },
  {
   "cell_type": "code",
   "execution_count": 124,
   "metadata": {},
   "outputs": [
    {
     "data": {
      "text/plain": [
       "1e-10"
      ]
     },
     "execution_count": 124,
     "metadata": {},
     "output_type": "execute_result"
    }
   ],
   "source": [
    "1e-10"
   ]
  },
  {
   "cell_type": "code",
   "execution_count": null,
   "metadata": {},
   "outputs": [],
   "source": []
  }
 ],
 "metadata": {
  "kernelspec": {
   "display_name": "Python 3",
   "language": "python",
   "name": "python3"
  },
  "language_info": {
   "codemirror_mode": {
    "name": "ipython",
    "version": 3
   },
   "file_extension": ".py",
   "mimetype": "text/x-python",
   "name": "python",
   "nbconvert_exporter": "python",
   "pygments_lexer": "ipython3",
   "version": "3.7.4"
  }
 },
 "nbformat": 4,
 "nbformat_minor": 4
}
