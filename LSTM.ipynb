{
 "cells": [
  {
   "cell_type": "code",
   "execution_count": 1,
   "metadata": {},
   "outputs": [],
   "source": [
    "import pandas as pd\n",
    "import numpy as np\n",
    "import keras\n",
    "from tqdm import tqdm\n",
    "import sklearn\n",
    "from matplotlib import pyplot as plt\n",
    "from keras.layers import LSTM, Dropout, Dense\n",
    "from sklearn.metrics import roc_curve\n",
    "from sklearn.model_selection import train_test_split\n",
    "from sklearn.dummy import DummyClassifier\n",
    "#https://machinelearningmastery.com/how-to-develop-rnn-models-for-human-activity-recognition-time-series-classification/"
   ]
  },
  {
   "cell_type": "markdown",
   "metadata": {},
   "source": [
    "To do:\n",
    "\n",
    "- Load alle trials i stedte for data (all_readings = np.load('all_readings.npy', allow_pickle=True))\n",
    "- Ryd op i de trials.\n",
    "- Generér uniform trials (3D array med [batch, samples,features])\n",
    "    - Altså, cellen med #Make all trials same length - Save this cell\n",
    "    - batch er alle dine træningspunkter\n",
    "    - samples er dine time series (små udklip af eye tracking)\n",
    "    - features er... ja, features.\n",
    "- Få LSTM til at virke med din data - skidevære med metrics.\n",
    "- Når det virker kan du rode rundt med ordentlig klassifikation\n",
    "- Evt separer saccades og fixations?"
   ]
  },
  {
   "cell_type": "code",
   "execution_count": 14,
   "metadata": {},
   "outputs": [],
   "source": [
    "target = 'gender' #'age'\n",
    "even_gender = False\n",
    "\n",
    "sample_length = 10\n",
    "seed = 42\n",
    "\n",
    "epochs=3\n",
    "verbose=True\n",
    "batch_size=32\n",
    "\n",
    "np.random.seed(seed) "
   ]
  },
  {
   "cell_type": "code",
   "execution_count": 3,
   "metadata": {},
   "outputs": [],
   "source": [
    "data = np.load('all_readings.npy', allow_pickle=True)\n",
    "data = [i for i in data if len(i)>sample_length]\n",
    "\n",
    "if even_gender:\n",
    "    data = data[:-52]"
   ]
  },
  {
   "cell_type": "code",
   "execution_count": 4,
   "metadata": {},
   "outputs": [],
   "source": [
    "def make_trials_uniform(trials):\n",
    "    uniform_X = []\n",
    "    uniform_y = []\n",
    "    for trial in tqdm(trials):\n",
    "        X, y = cleanup_reading(trial)\n",
    "        length = X.shape[0]\n",
    "        for i in range(sample_length, length-length%sample_length, sample_length):\n",
    "            uniform_X.append(X.iloc[i-sample_length:i])\n",
    "            uniform_y.append(y.values[0])\n",
    "\n",
    "    return np.array(uniform_X), np.array(uniform_y)\n",
    "\n",
    "\n",
    "def cleanup_reading(trial):\n",
    "    trial = trial[trial.columns[1:]]\n",
    "    trial = trial[trial['eye']=='right']\n",
    "    trial = trial.drop('eye',1)\n",
    "    trial = trial.drop('eventIdxLeft',1)\n",
    "    trial = trial.drop('eventIdxRight',1)\n",
    "    trial['eventType'] = trial['eventType'].replace(['saccade'], 1)\n",
    "    trial['eventType'] = trial['eventType'].replace(['fixation'], 0)\n",
    "    \n",
    "    trial = trial.fillna(0)\n",
    "    feats = trial.columns\n",
    "    trial = trial.reset_index()\n",
    "    return trial[feats[:-2]], trial[feats[-2:]]"
   ]
  },
  {
   "cell_type": "code",
   "execution_count": 5,
   "metadata": {},
   "outputs": [
    {
     "name": "stderr",
     "output_type": "stream",
     "text": [
      "100%|█████████████████████████████████████████████████████████████████████████████| 5584/5584 [00:25<00:00, 219.01it/s]\n"
     ]
    }
   ],
   "source": [
    "X,y = make_trials_uniform(data)\n",
    "X,y = sklearn.utils.shuffle(X, y, random_state=seed)\n",
    "\n",
    "if target == 'gender':\n",
    "    y = y[:,0] #Only tage gender\n",
    "else:\n",
    "    y = y[:,1]\n",
    "\n",
    "X_train, X_test, y_train, y_test = train_test_split(X,y,random_state=seed)"
   ]
  },
  {
   "cell_type": "code",
   "execution_count": 15,
   "metadata": {},
   "outputs": [
    {
     "name": "stdout",
     "output_type": "stream",
     "text": [
      "Model: \"sequential_2\"\n",
      "_________________________________________________________________\n",
      "Layer (type)                 Output Shape              Param #   \n",
      "=================================================================\n",
      "lstm_2 (LSTM)                (None, 100)               45200     \n",
      "_________________________________________________________________\n",
      "dropout_2 (Dropout)          (None, 100)               0         \n",
      "_________________________________________________________________\n",
      "dense_3 (Dense)              (None, 100)               10100     \n",
      "_________________________________________________________________\n",
      "dense_4 (Dense)              (None, 1)                 101       \n",
      "=================================================================\n",
      "Total params: 55,401\n",
      "Trainable params: 55,401\n",
      "Non-trainable params: 0\n",
      "_________________________________________________________________\n"
     ]
    }
   ],
   "source": [
    "model = keras.Sequential()\n",
    "model.add(LSTM(100, input_shape = (10, 12)))\n",
    "model.add(Dropout(0.5))\n",
    "model.add(Dense(100, activation='relu'))\n",
    "model.add(Dense(1, activation=\"sigmoid\"))\n",
    "model.compile(loss=\"binary_crossentropy\"\n",
    "              , metrics=[keras.metrics.binary_accuracy]\n",
    "              , optimizer=\"adam\")\n",
    "\n",
    "model.compile(\n",
    "    optimizer='adam', \n",
    "    loss='binary_crossentropy', \n",
    "    metrics=['accuracy']\n",
    ")\n",
    "model.summary()"
   ]
  },
  {
   "cell_type": "code",
   "execution_count": 16,
   "metadata": {
    "scrolled": true
   },
   "outputs": [
    {
     "name": "stdout",
     "output_type": "stream",
     "text": [
      "Epoch 1/3\n",
      "1123/1123 [==============================] - 6s 5ms/step - loss: -2447.0508 - accuracy: 0.5009\n",
      "Epoch 2/3\n",
      "1123/1123 [==============================] - 6s 5ms/step - loss: -16745.2578 - accuracy: 0.5010\n",
      "Epoch 3/3\n",
      "1123/1123 [==============================] - 6s 5ms/step - loss: -42855.7148 - accuracy: 0.5010\n"
     ]
    }
   ],
   "source": [
    "history = model.fit(X_train, y_train, epochs=epochs, batch_size=batch_size, verbose=verbose)"
   ]
  },
  {
   "cell_type": "code",
   "execution_count": 17,
   "metadata": {},
   "outputs": [
    {
     "data": {
      "image/png": "[encoded data removed]",
      "text/plain": [
       "<Figure size 432x288 with 1 Axes>"
      ]
     },
     "metadata": {
      "needs_background": "light"
     },
     "output_type": "display_data"
    }
   ],
   "source": [
    "plt.plot(history.history['loss']);"
   ]
  },
  {
   "cell_type": "code",
   "execution_count": 18,
   "metadata": {},
   "outputs": [],
   "source": [
    "y_pred= model.predict(X_test).ravel()\n",
    "fpr, tpr, thresholds = roc_curve(y_test-1, y_pred-1)\n",
    "\n",
    "dummy = DummyClassifier()\n",
    "dummy.fit(X_train, y_train)\n",
    "dum_y_pred= dummy.predict(X_test).ravel()\n",
    "dum_fpr, dum_tpr, dum_thresholds = roc_curve(y_test-1, y_pred-1)"
   ]
  },
  {
   "cell_type": "code",
   "execution_count": 19,
   "metadata": {},
   "outputs": [
    {
     "data": {
      "text/plain": [
       "<matplotlib.legend.Legend at 0x275afcdd5c8>"
      ]
     },
     "execution_count": 19,
     "metadata": {},
     "output_type": "execute_result"
    },
    {
     "data": {
      "image/png": "[encoded data removed]",
      "text/plain": [
       "<Figure size 576x432 with 1 Axes>"
      ]
     },
     "metadata": {
      "needs_background": "light"
     },
     "output_type": "display_data"
    }
   ],
   "source": [
    "fig = plt.figure(figsize=(8,6))\n",
    "plt.plot(fpr,tpr,label=\"LSTM\")\n",
    "plt.plot(dum_fpr,dum_tpr,'--',label=\"Dummy\", c='purple')\n",
    "plt.title(\"ROC curve for LSTM\")\n",
    "plt.legend()"
   ]
  },
  {
   "cell_type": "code",
   "execution_count": 11,
   "metadata": {},
   "outputs": [
    {
     "data": {
      "text/plain": [
       "array([   0, 7470, 7499], dtype=int64)"
      ]
     },
     "execution_count": 11,
     "metadata": {},
     "output_type": "execute_result"
    }
   ],
   "source": [
    "np.bincount(y.astype(int))"
   ]
  },
  {
   "cell_type": "code",
   "execution_count": 24,
   "metadata": {},
   "outputs": [
    {
     "data": {
      "text/plain": [
       "array([   0, 3743], dtype=int64)"
      ]
     },
     "execution_count": 24,
     "metadata": {},
     "output_type": "execute_result"
    }
   ],
   "source": [
    "np.bincount(model.predict(X_test).ravel().astype(int))"
   ]
  },
  {
   "cell_type": "code",
   "execution_count": 27,
   "metadata": {},
   "outputs": [
    {
     "data": {
      "text/plain": [
       "array([[ 36.        ,   0.        ,   1.        ,   0.        ,\n",
       "          0.        , 953.637     , 217.946     , 513.494     ,\n",
       "        393.107     ,   0.        ,   0.        ,   0.        ],\n",
       "       [564.        ,   3.77989643,   0.        , 434.56587324,\n",
       "        380.90603521,   0.        ,   0.        ,   0.        ,\n",
       "          0.        ,   3.        ,   7.81057172,  39.0419566 ],\n",
       "       [ 20.        ,   0.        ,   1.        ,   0.        ,\n",
       "          0.        , 381.032     , 365.377     , 482.942     ,\n",
       "        369.093     ,   0.        ,   0.        ,   0.        ],\n",
       "       [380.        ,   3.73101053,   0.        , 497.5974375 ,\n",
       "        378.60046875,   0.        ,   0.        ,   0.        ,\n",
       "          0.        ,   1.        ,   5.51383721,  16.72453877],\n",
       "       [ 16.        ,   0.        ,   1.        ,   0.        ,\n",
       "          0.        , 499.426     , 378.313     , 426.635     ,\n",
       "        375.036     ,   0.        ,   0.        ,   0.        ],\n",
       "       [620.        ,   3.75040968,   0.        , 393.66303205,\n",
       "        370.75875   ,   0.        ,   0.        ,   0.        ,\n",
       "          0.        ,   4.        ,   5.76257649,  18.09948533],\n",
       "       [  0.        ,   0.        ,   1.        ,   0.        ,\n",
       "          0.        , 435.634     , 378.846     , 435.634     ,\n",
       "        378.846     ,   0.        ,   0.        ,   0.        ],\n",
       "       [804.        ,   3.78661386,   0.        , 486.23628218,\n",
       "        388.04420792,   0.        ,   0.        ,   0.        ,\n",
       "          0.        ,   3.        ,   6.70157122,  24.49902079],\n",
       "       [ 12.        ,   0.        ,   1.        ,   0.        ,\n",
       "          0.        , 503.614     , 416.9       , 498.752     ,\n",
       "        459.744     ,   0.        ,   0.        ,   0.        ],\n",
       "       [480.        ,   3.87209167,   0.        , 467.17055372,\n",
       "        491.84395041,   0.        ,   0.        ,   0.        ,\n",
       "          0.        ,   0.        ,   0.        ,   0.        ]])"
      ]
     },
     "execution_count": 27,
     "metadata": {},
     "output_type": "execute_result"
    }
   ],
   "source": []
  },
  {
   "cell_type": "code",
   "execution_count": null,
   "metadata": {},
   "outputs": [],
   "source": []
  }
 ],
 "metadata": {
  "kernelspec": {
   "display_name": "Python 3",
   "language": "python",
   "name": "python3"
  },
  "language_info": {
   "codemirror_mode": {
    "name": "ipython",
    "version": 3
   },
   "file_extension": ".py",
   "mimetype": "text/x-python",
   "name": "python",
   "nbconvert_exporter": "python",
   "pygments_lexer": "ipython3",
   "version": "3.7.4"
  }
 },
 "nbformat": 4,
 "nbformat_minor": 4
}
