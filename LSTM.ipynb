{
 "cells": [
  {
   "cell_type": "code",
   "execution_count": 1,
   "metadata": {},
   "outputs": [],
   "source": [
    "import pandas as pd\n",
    "import numpy as np\n",
    "import keras\n",
    "from tqdm.notebook import tqdm\n",
    "from IPython.display import display\n",
    "import sklearn\n",
    "from matplotlib import pyplot as plt\n",
    "from keras.layers import LSTM, Dropout, Dense, BatchNormalization, Flatten, Input\n",
    "from sklearn.metrics import roc_curve\n",
    "from sklearn.model_selection import train_test_split\n",
    "from sklearn.dummy import DummyClassifier\n",
    "from sklearn.ensemble import RandomForestClassifier\n",
    "#https://machinelearningmastery.com/how-to-develop-rnn-models-for-human-activity-recognition-time-series-classification/"
   ]
  },
  {
   "cell_type": "markdown",
   "metadata": {},
   "source": [
    "To do:\n",
    "\n",
    "- Load alle trials i stedte for data (all_readings = np.load('all_readings.npy', allow_pickle=True))\n",
    "- Ryd op i de trials.\n",
    "- Generér uniform trials (3D array med [batch, samples,features])\n",
    "    - Altså, cellen med #Make all trials same length - Save this cell\n",
    "    - batch er alle dine træningspunkter\n",
    "    - samples er dine time series (små udklip af eye tracking)\n",
    "    - features er... ja, features.\n",
    "- Få LSTM til at virke med din data - skidevære med metrics.\n",
    "- Når det virker kan du rode rundt med ordentlig klassifikation\n",
    "- Evt separer saccades og fixations?"
   ]
  },
  {
   "cell_type": "code",
   "execution_count": 2,
   "metadata": {},
   "outputs": [],
   "source": [
    "target = 'gender' #'age'\n",
    "even_gender = False\n",
    "\n",
    "sample_length = 10\n",
    "seed = 42\n",
    "\n",
    "epochs=40\n",
    "verbose=True\n",
    "batch_size=32\n",
    "\n",
    "np.random.seed(seed) "
   ]
  },
  {
   "cell_type": "code",
   "execution_count": null,
   "metadata": {},
   "outputs": [],
   "source": [
    "data = np.load('all_readings.npy', allow_pickle=True)\n",
    "data = [i for i in data if len(i)>sample_length]\n",
    "\n",
    "if even_gender:\n",
    "    data = data[:-52]"
   ]
  },
  {
   "cell_type": "code",
   "execution_count": null,
   "metadata": {},
   "outputs": [],
   "source": [
    "def make_trials_uniform(trials):\n",
    "    uniform_X = []\n",
    "    uniform_y = []\n",
    "    show = True\n",
    "    for trial in tqdm(trials):\n",
    "        X, y = cleanup_reading(trial, show=show)\n",
    "        show=False\n",
    "        length = X.shape[0]\n",
    "        for i in range(sample_length, length-length%sample_length, sample_length):\n",
    "            uniform_X.append(X.iloc[i-sample_length:i])\n",
    "            uniform_y.append(y.values[0])\n",
    "\n",
    "    return np.array(uniform_X), np.array(uniform_y)\n",
    "\n",
    "def experimental(trial):    \n",
    "    trial = trial[trial['eventType']==0]\n",
    "    trial = trial.drop('eventType', axis=1)\n",
    "    trial = trial.replace(0,np.nan).dropna(axis=1,how=\"all\")\n",
    "    trial['false'] = np\n",
    "    return trial[['duration','meanPupilDiameter']]\n",
    "\n",
    "    \n",
    "\n",
    "def cleanup_reading(trial, show=False):\n",
    "    trial = trial[trial.columns[1:]]\n",
    "    trial = trial[trial['eye']=='right']\n",
    "    trial = trial.drop('eye',1)\n",
    "    trial = trial.drop('eventIdxLeft',1)\n",
    "    trial = trial.drop('eventIdxRight',1)\n",
    "    trial['eventType'] = trial['eventType'].replace(['saccade'], 1)\n",
    "    trial['eventType'] = trial['eventType'].replace(['fixation'], 0)\n",
    "    trial = trial.fillna(0)\n",
    "    \n",
    "    #trial = experimental(trial)\n",
    "    \n",
    "    feats = trial.columns\n",
    "    trial = trial.reset_index()\n",
    "    \n",
    "    if show:\n",
    "        print(\"Your features\")\n",
    "        display(trial.head())\n",
    "        \n",
    "    return trial[feats[:-2]], trial[feats[-2:]]"
   ]
  },
  {
   "cell_type": "code",
   "execution_count": null,
   "metadata": {},
   "outputs": [],
   "source": [
    "np.random.shuffle(data)\n",
    "X,y = make_trials_uniform(data)\n",
    "X,y = sklearn.utils.shuffle(X, y, random_state=seed)\n",
    "y = y-1\n",
    "\n",
    "if target == 'gender':\n",
    "    y = y[:,0] #Only tage gender\n",
    "else:\n",
    "    y = y[:,1]\n",
    "\n",
    "y = y.reshape(-1, 1)\n",
    "print(f'X shape: {X.shape}, y shape: {y.shape}')\n",
    "\n",
    "X_train, X_test, y_train, y_test = train_test_split(X,y,random_state=seed)"
   ]
  },
  {
   "cell_type": "code",
   "execution_count": null,
   "metadata": {},
   "outputs": [],
   "source": [
    "model = keras.Sequential()\n",
    "model.add(Input(shape=(X_train[0].shape)))\n",
    "#model.add(BatchNormalization(input_shape = (32,1)))\n",
    "model.add(LSTM(10))\n",
    "model.add(Dense(100, activation='relu'))\n",
    "model.add(Dropout(0.5))\n",
    "model.add(Dense(1, activation=\"sigmoid\"))\n",
    "model.compile(loss=\"binary_crossentropy\"\n",
    "              , metrics=[keras.metrics.binary_accuracy]\n",
    "              , optimizer=\"adam\")\n",
    "\n",
    "model.compile(\n",
    "    optimizer='adam', \n",
    "    loss='binary_crossentropy', \n",
    "    metrics=['accuracy']\n",
    ")"
   ]
  },
  {
   "cell_type": "code",
   "execution_count": null,
   "metadata": {
    "scrolled": true
   },
   "outputs": [],
   "source": [
    "callback = keras.callbacks.EarlyStopping(monitor='val_loss', patience=30)\n",
    "history = model.fit(X_train, y_train, validation_split=0.2, epochs=epochs, \n",
    "                         batch_size=batch_size, callbacks=[callback])"
   ]
  },
  {
   "cell_type": "code",
   "execution_count": null,
   "metadata": {},
   "outputs": [],
   "source": [
    "plt.plot(history.history['loss'], label=\"loss\");\n",
    "plt.plot(history.history['accuracy'], label=\"acc\");\n",
    "plt.plot(history.history['val_loss'], '--', label=\"val loss\");\n",
    "plt.plot(history.history['val_accuracy'], '--', label=\"val acc\");\n",
    "plt.legend();"
   ]
  },
  {
   "cell_type": "code",
   "execution_count": null,
   "metadata": {},
   "outputs": [],
   "source": [
    "y_pred= model.predict(X_test).ravel()\n",
    "y_pred = (np.floor(y_pred+0.5)*2)-1\n",
    "fpr, tpr, thresholds = roc_curve((y_test*2)-1, y_pred, pos_label=1)\n",
    "\n",
    "dummy = DummyClassifier()\n",
    "dummy.fit(X_train, y_train)\n",
    "dum_y_pred= dummy.predict(X_test).ravel()\n",
    "dum_fpr, dum_tpr, dum_thresholds = roc_curve((y_test*2)-1, dum_y_pred, pos_label=1)\n",
    "\n",
    "# rfc = RandomForestClassifier()\n",
    "# rfc.fit(X_train, y_train)\n",
    "# rfc_y_pred= rfc.predict(X_test).ravel()\n",
    "# rfc_fpr, rfc_tpr, rfc_thresholds = roc_curve(y_test-1, rfc_y_pred-1)"
   ]
  },
  {
   "cell_type": "code",
   "execution_count": null,
   "metadata": {},
   "outputs": [],
   "source": [
    "# fig = plt.figure(figsize=(8,6))\n",
    "plt.plot(fpr,tpr,label=\"LSTM\")\n",
    "plt.plot(dum_fpr,dum_tpr,'--',label=\"Dummy\", c='purple')\n",
    "plt.title(\"ROC curve for LSTM\")\n",
    "plt.legend()"
   ]
  },
  {
   "cell_type": "code",
   "execution_count": null,
   "metadata": {},
   "outputs": [],
   "source": [
    "np.bincount(model.predict(X_test).ravel().astype(int))"
   ]
  },
  {
   "cell_type": "code",
   "execution_count": null,
   "metadata": {},
   "outputs": [],
   "source": [
    "plt.plot(X_train[0])\n",
    "plt.plot(X_train[2])"
   ]
  },
  {
   "cell_type": "code",
   "execution_count": null,
   "metadata": {},
   "outputs": [],
   "source": [
    "y_train[0], y_train[2]"
   ]
  },
  {
   "cell_type": "code",
   "execution_count": null,
   "metadata": {},
   "outputs": [],
   "source": [
    "y_train"
   ]
  },
  {
   "cell_type": "code",
   "execution_count": null,
   "metadata": {},
   "outputs": [],
   "source": []
  }
 ],
 "metadata": {
  "kernelspec": {
   "display_name": "Python 3",
   "language": "python",
   "name": "python3"
  },
  "language_info": {
   "codemirror_mode": {
    "name": "ipython",
    "version": 3
   },
   "file_extension": ".py",
   "mimetype": "text/x-python",
   "name": "python",
   "nbconvert_exporter": "python",
   "pygments_lexer": "ipython3",
   "version": "3.7.4"
  }
 },
 "nbformat": 4,
 "nbformat_minor": 4
}
