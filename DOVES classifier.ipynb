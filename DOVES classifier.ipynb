{
 "cells": [
  {
   "cell_type": "code",
   "execution_count": 37,
   "id": "296a34a9",
   "metadata": {},
   "outputs": [],
   "source": [
    "import os\n",
    "import pandas as pd\n",
    "import numpy as np\n",
    "from sklearn.ensemble import RandomForestClassifier\n",
    "from sklearn.metrics import classification_report\n",
    "from sklearn.metrics import f1_score\n",
    "from sklearn.metrics import precision_score\n",
    "from sklearn.metrics import recall_score\n",
    "from sklearn.metrics import roc_curve, roc_auc_score\n",
    "from sklearn.metrics import plot_roc_curve\n",
    "from sklearn.metrics import accuracy_score\n",
    "from sklearn.model_selection import KFold\n",
    "from sklearn.dummy import DummyClassifier\n",
    "import h5py\n",
    "import mat4py\n",
    "import matplotlib.pyplot as plt\n",
    "import math\n",
    "from sklearn.feature_selection import RFE\n",
    "from sklearn.model_selection import RandomizedSearchCV\n",
    "\n",
    "# Ignoring warning messages in output\n",
    "import warnings\n",
    "warnings.filterwarnings('ignore')"
   ]
  },
  {
   "cell_type": "code",
   "execution_count": 114,
   "id": "e157b375",
   "metadata": {},
   "outputs": [],
   "source": [
    "# Function for accessing the raw data from the .eye files\n",
    "\n",
    "def eye2array(file, debug=False):\n",
    "    #Converts the .eye file to numpy array.\n",
    "    #Open file and split into trials.\n",
    "    with open(file, 'r') as f:\n",
    "        string = f.read()\n",
    "    strings = string.split('[Eye Sample Data (')[1:]\n",
    "\n",
    "    #Remove metadata from each trial.\n",
    "    for i in range(len(strings)):\n",
    "        #Print trial number if debug is on.\n",
    "        if debug:\n",
    "            num_end = strings[i].find('of 101)]')-1\n",
    "            num = int(strings[i][:num_end])\n",
    "            print(num)\n",
    "\n",
    "        #Split at the exact place. And seperate x,y,z coordinates.\n",
    "        strings[i] = strings[i].split('.iml')\n",
    "        strings[i] = strings[i][1][5:]\n",
    "        strings[i] = strings[i].split('\\n[Task Data]\\n')[0]\n",
    "        strings[i] = strings[i].split('\\n')\n",
    "\n",
    "        #Convert each reading into numpy array\n",
    "        for x in range(len(strings[i])):        \n",
    "            strings[i][x] = np.array(strings[i][x].split(), dtype=float)\n",
    "        strings[i] = np.array(strings[i])\n",
    "        \n",
    "    return np.array(strings)\n",
    "            \n",
    "def punish_all_eyes(folder, debug=False, verbose=False):\n",
    "    #Saves all files as numpy arrays in a dictionary, participant ID as key.\n",
    "    all_eyes = {}\n",
    "    files = os.listdir(folder)\n",
    "    files = [x for x in files if x[0] != '.']\n",
    "\n",
    "    #Loop through files in folder and convert\n",
    "    for file in files:\n",
    "        if verbose:\n",
    "            print(f'Converting {file}...')\n",
    "        all_eyes[file[:-4]] = eye2array(os.path.join(folder, file), debug=debug)\n",
    "        \n",
    "        if debug:\n",
    "            print(len(all_eyes[file[:-4]]), 'recordings.')\n",
    "            \n",
    "\n",
    "    return all_eyes"
   ]
  },
  {
   "cell_type": "code",
   "execution_count": 134,
   "id": "97725597",
   "metadata": {},
   "outputs": [],
   "source": [
    "# Get participant data from file and remove nan values\n",
    "os.chdir(\"C:\\\\Users\\lasse\\Desktop\\Cognitive Science 3\\Report\\Datasets\\Doves\")\n",
    "particip_data_doves = pd.read_excel('DOVES_Observer_Details.xls', header=2)\n",
    "particip_data_doves.dropna(subset = ['Age'], inplace=True)\n",
    "\n",
    "# Get list of filenames\n",
    "os.chdir(\"C:\\\\Users\\lasse\\Desktop\\Cognitive Science 3\\Report\\Datasets\\Doves\\Fixations\")\n",
    "file_names = os.listdir()\n",
    "del file_names[0]\n",
    "\n",
    "# Load fixation data from files\n",
    "data_doves = []\n",
    "for f in file_names:\n",
    "    #print(f)\n",
    "    data_doves.append(mat4py.loadmat(f))\n",
    "\n",
    "# Load raw data from files\n",
    "os.chdir(\"C:\\\\Users\\lasse\\Desktop\\Cognitive Science 3\\Report\\Datasets\\Doves\")\n",
    "rawdata_doves = punish_all_eyes('RawData', debug=False, verbose=False)\n",
    "\n",
    "# Generate a list of the order of participants. Used for selecting correct data from raw data dictionary\n",
    "subject_ordered_list = data_doves[0]['subj_names_list']\n",
    "for num, sub in enumerate(subject_ordered_list):\n",
    "    split = sub.split('.', 1)\n",
    "    subject_ordered_list[num] = split[0]"
   ]
  },
  {
   "cell_type": "markdown",
   "id": "e93fa6f0",
   "metadata": {},
   "source": [
    "### Participant Data:"
   ]
  },
  {
   "cell_type": "code",
   "execution_count": 21,
   "id": "1fa5eb9c",
   "metadata": {},
   "outputs": [
    {
     "name": "stdout",
     "output_type": "stream",
     "text": [
      "DOVES Max age: 45.0, min age: 16.0, mean age: 26.586206896551722\n",
      "DOVES Number of females: 18, number of males: 11\n"
     ]
    }
   ],
   "source": [
    "# Print statistics of participant data\n",
    "print(f\"DOVES Max age: {particip_data_doves.Age.max()}, min age: {particip_data_doves.Age.min()}, mean age: {particip_data_doves.Age.mean()}\")\n",
    "print(f\"DOVES Number of females: {particip_data_doves.Gender.value_counts()[0]}, number of males: {particip_data_doves.Gender.value_counts()[1]}\")"
   ]
  },
  {
   "cell_type": "markdown",
   "id": "38bfdb63",
   "metadata": {},
   "source": [
    "### Feature Selection"
   ]
  },
  {
   "cell_type": "code",
   "execution_count": 22,
   "id": "547b4a01",
   "metadata": {},
   "outputs": [],
   "source": [
    "# Generate lists of ages and gender from dataframe\n",
    "gender_list = particip_data_doves.Gender.tolist()\n",
    "age_list = particip_data_doves.Age.tolist()"
   ]
  },
  {
   "cell_type": "code",
   "execution_count": 23,
   "id": "019f34d0",
   "metadata": {},
   "outputs": [],
   "source": [
    "# Utility for getting distance bewteen two points\n",
    "def get_dist(p1, p2):\n",
    "    dist = math.sqrt(((p1[0]-p2[0])**2)+((p1[1]-p2[1])**2))\n",
    "    return dist"
   ]
  },
  {
   "cell_type": "code",
   "execution_count": 25,
   "id": "5de12a64",
   "metadata": {},
   "outputs": [],
   "source": [
    "# DOVES feature extraction\n",
    "# data_doves['fix_data'] is all data for 1(!) image, with each index being data for each participant.\n",
    "\n",
    "# Features to extract\n",
    "mean_fixdur = []\n",
    "sd_fixdur = []\n",
    "max_fixdur = []\n",
    "min_fixdur = []\n",
    "\n",
    "n_fix = []\n",
    "\n",
    "mean_saccade_len = []\n",
    "sd_saccade_len = []\n",
    "max_saccade_len = []\n",
    "min_saccade_len = []\n",
    "total_saccade_len = []\n",
    "\n",
    "fixations_X = []\n",
    "fixations_Y = []\n",
    "\n",
    "# Loop through fixation data, appending data to the designated lists\n",
    "for img_entry in data_doves:\n",
    "    for entry in img_entry['fix_data']:\n",
    "        mean_fixdur.append(np.mean(entry[2]))\n",
    "        sd_fixdur.append(np.std(entry[2]))\n",
    "        max_fixdur.append(max(entry[2]))\n",
    "        min_fixdur.append(min(entry[2]))\n",
    "        \n",
    "        n_fix.append(len(entry[0]))\n",
    "        \n",
    "        xfix = entry[0]\n",
    "        yfix = entry[1]\n",
    "        if len(entry[0]) < 22:\n",
    "            fixations_X.append(xfix.extend([0]*(22-len(xfix))))\n",
    "            fixations_Y.append(yfix.extend([0]*(22-len(yfix))))\n",
    "        else:\n",
    "            fixations_X.append(xfix)\n",
    "            fixations_Y.append(yfix)\n",
    "        \n",
    "        saccade_dists = []\n",
    "        for i in range(len(entry[0])-1):\n",
    "            p1 = [entry[0][i], entry[1][i]]\n",
    "            p2 = [entry[0][i+1], entry[1][i+1]]\n",
    "            saccade_dists.append(get_dist(p1, p2))\n",
    "        if len(saccade_dists) > 0:\n",
    "            mean_saccade_len.append(np.mean(saccade_dists))\n",
    "            sd_saccade_len.append(np.std(saccade_dists))\n",
    "            max_saccade_len.append(max(saccade_dists))\n",
    "            min_saccade_len.append(min(saccade_dists))\n",
    "            total_saccade_len.append(sum(saccade_dists))\n",
    "        else:\n",
    "            mean_saccade_len.append(0)\n",
    "            sd_saccade_len.append(0)\n",
    "            max_saccade_len.append(0)\n",
    "            min_saccade_len.append(0)\n",
    "            total_saccade_len.append(0)\n",
    "\n",
    "# Create a feature vector and append it to X\n",
    "X = []\n",
    "for i in range(len(mean_fixdur)):\n",
    "    X.append([\n",
    "        mean_fixdur[i], sd_fixdur[i], max_fixdur[i],\n",
    "        min_fixdur[i], n_fix[i], mean_saccade_len[i],\n",
    "        sd_saccade_len[i], max_saccade_len[i], min_saccade_len[i],\n",
    "        total_saccade_len[i]\n",
    "    ])\n",
    "    X[i].extend(fixations_X[i])\n",
    "    X[i].extend(fixations_Y[i])"
   ]
  },
  {
   "cell_type": "code",
   "execution_count": 81,
   "id": "5d776cb2",
   "metadata": {},
   "outputs": [],
   "source": [
    "# Y definition\n",
    "\n",
    "# Gender Y\n",
    "Y = []\n",
    "\n",
    "for img_entry in data_doves:\n",
    "    for i in range(len(img_entry['fix_data'])):\n",
    "        Y.append(gender_list[i])\n",
    "        \n",
    "for i in range(len(Y)):\n",
    "    if Y[i] == 'M':\n",
    "        Y[i] = 0\n",
    "    elif Y[i] == 'F':\n",
    "        Y[i] = 1\n",
    "        \n",
    "\n",
    "# Age Y\n",
    "alt_Y = []\n",
    "\n",
    "for img_entry in data_doves:\n",
    "    for i in range(len(img_entry['fix_data'])):\n",
    "        alt_Y.append(age_list[i])\n",
    "        \n",
    "for i in range(len(alt_Y)):\n",
    "    if alt_Y[i] >= 27:\n",
    "        alt_Y[i] = 0\n",
    "    elif alt_Y[i] < 27:\n",
    "        alt_Y[i] = 1"
   ]
  },
  {
   "cell_type": "code",
   "execution_count": 82,
   "id": "4625bf4d",
   "metadata": {},
   "outputs": [],
   "source": [
    "# Remove nan's from the X values and replace them with 0\n",
    "for i in range(len(X)):\n",
    "    for j in range(len(X[i])):\n",
    "        if math.isnan(X[i][j]):\n",
    "            X[i][j] = 0"
   ]
  },
  {
   "cell_type": "markdown",
   "id": "d2bf0313",
   "metadata": {},
   "source": [
    "### Classification"
   ]
  },
  {
   "cell_type": "code",
   "execution_count": 85,
   "id": "d0a18683",
   "metadata": {},
   "outputs": [
    {
     "data": {
      "image/png": "[encoded data removed]",
      "text/plain": [
       "<Figure size 432x288 with 1 Axes>"
      ]
     },
     "metadata": {
      "needs_background": "light"
     },
     "output_type": "display_data"
    }
   ],
   "source": [
    "# Random Forest\n",
    "\n",
    "X = np.array(X)\n",
    "y = np.array(Y)\n",
    "\n",
    "model = RandomForestClassifier(\n",
    "    n_estimators=1000, criterion='entropy', min_samples_split=5,\n",
    "    min_samples_leaf=1, random_state=42, max_features='sqrt'\n",
    ")\n",
    "\n",
    "acc_score = []\n",
    "f1 = []\n",
    "recall = []\n",
    "precision = []\n",
    "\n",
    "k = 5\n",
    "kf = KFold(n_splits=k, shuffle=False)\n",
    "for train_index, test_index in kf.split(X):\n",
    "    X_train, X_test = X[train_index], X[test_index]\n",
    "    y_train, y_test = y[train_index], y[test_index]\n",
    "    \n",
    "    model.fit(X_train,y_train)\n",
    "    pred_values = model.predict(X_test)\n",
    "    \n",
    "    acc_score.append(accuracy_score(y_test, pred_values))\n",
    "    f1.append(f1_score(y_test, pred_values))\n",
    "    precision.append(precision_score(y_test, pred_values))\n",
    "    recall.append(recall_score(y_test, pred_values))\n",
    "\n",
    "ax = plt.gca()\n",
    "rfc_disp = plot_roc_curve(model, X_test, y_test, ax=ax, alpha=0.8)\n",
    "    \n",
    "rfc_avg_acc_score = sum(acc_score)/k\n",
    "rfc_avg_f1_score = sum(f1)/k\n",
    "rfc_avg_recall = sum(recall)/k\n",
    "rfc_avg_precision = sum(precision)/k"
   ]
  },
  {
   "cell_type": "code",
   "execution_count": 86,
   "id": "b9436ef1",
   "metadata": {},
   "outputs": [
    {
     "name": "stdout",
     "output_type": "stream",
     "text": [
      "\n",
      "Random forest classifier results:\n",
      "Avg. acc. = 0.6995513549779762\n",
      "Avg. F1 = 0.4680671942915022\n",
      "Avg. recall = 0.35038008402610166\n",
      "Avg. precision = 0.7153726737522417\n",
      "\n",
      "Dummy classifier results:\n",
      "Avg. acc. = 0.6206878445786296\n",
      "Avg. F1 = 0.0\n",
      "Avg. recall = 0.0\n",
      "Avg. precision = 0.0\n",
      "\n"
     ]
    },
    {
     "data": {
      "image/png": "[encoded data removed]",
      "text/plain": [
       "<Figure size 432x288 with 1 Axes>"
      ]
     },
     "metadata": {
      "needs_background": "light"
     },
     "output_type": "display_data"
    }
   ],
   "source": [
    "# Dummy Classifier\n",
    "\n",
    "X = np.array(X)\n",
    "y = np.array(Y)\n",
    "\n",
    "model = DummyClassifier(strategy=\"most_frequent\")\n",
    "\n",
    "acc_score = []\n",
    "f1 = []\n",
    "recall = []\n",
    "precision = []\n",
    "\n",
    "k = 5\n",
    "kf = KFold(n_splits=k, shuffle=False)\n",
    "for train_index, test_index in kf.split(X):\n",
    "    X_train, X_test = X[train_index], X[test_index]\n",
    "    y_train, y_test = y[train_index], y[test_index]\n",
    "    \n",
    "    model.fit(X_train,y_train)\n",
    "    pred_values = model.predict(X_test)\n",
    "    \n",
    "    acc_score.append(accuracy_score(y_test, pred_values))\n",
    "    f1.append(f1_score(y_test, pred_values))\n",
    "    precision.append(precision_score(y_test, pred_values))\n",
    "    recall.append(recall_score(y_test, pred_values))\n",
    "\n",
    "ax = plt.gca()\n",
    "d_disp = plot_roc_curve(model, X_test, y_test, ax=ax, alpha=0.8)\n",
    "rfc_disp.plot(ax=ax, alpha=0.8)\n",
    "    \n",
    "d_avg_acc_score = sum(acc_score)/k\n",
    "d_avg_f1_score = sum(f1)/k\n",
    "d_avg_recall = sum(recall)/k\n",
    "d_avg_precision = sum(precision)/k\n",
    "\n",
    "print(f\"\"\"\n",
    "Random forest classifier results:\n",
    "Avg. acc. = {rfc_avg_acc_score}\n",
    "Avg. F1 = {rfc_avg_f1_score}\n",
    "Avg. recall = {rfc_avg_recall}\n",
    "Avg. precision = {rfc_avg_precision}\n",
    "\n",
    "Dummy classifier results:\n",
    "Avg. acc. = {d_avg_acc_score}\n",
    "Avg. F1 = {d_avg_f1_score}\n",
    "Avg. recall = {d_avg_recall}\n",
    "Avg. precision = {d_avg_precision}\n",
    "\"\"\")\n"
   ]
  },
  {
   "cell_type": "code",
   "execution_count": null,
   "id": "07389461",
   "metadata": {},
   "outputs": [],
   "source": []
  }
 ],
 "metadata": {
  "kernelspec": {
   "display_name": "Python 3 (ipykernel)",
   "language": "python",
   "name": "python3"
  },
  "language_info": {
   "codemirror_mode": {
    "name": "ipython",
    "version": 3
   },
   "file_extension": ".py",
   "mimetype": "text/x-python",
   "name": "python",
   "nbconvert_exporter": "python",
   "pygments_lexer": "ipython3",
   "version": "3.7.11"
  }
 },
 "nbformat": 4,
 "nbformat_minor": 5
}
