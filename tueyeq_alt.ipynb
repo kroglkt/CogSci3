{
 "cells": [
  {
   "cell_type": "markdown",
   "metadata": {},
   "source": [
    "# TüEyeQ dataset validation\n",
    "Extracking data for comparison with other dataset. "
   ]
  },
  {
   "cell_type": "code",
   "execution_count": 1,
   "metadata": {},
   "outputs": [],
   "source": [
    "import numpy as np\n",
    "import pandas as pd\n",
    "from matplotlib import pyplot as plt\n",
    "import os\n",
    "from tqdm import tqdm\n",
    "from sklearn.ensemble import RandomForestClassifier\n",
    "from sklearn.model_selection import train_test_split, KFold\n",
    "from sklearn.metrics import f1_score, roc_auc_score, plot_roc_curve, accuracy_score\n",
    "from sklearn.dummy import DummyClassifier\n",
    "from sklearn.preprocessing import Normalizer\n",
    "import csv"
   ]
  },
  {
   "cell_type": "markdown",
   "metadata": {},
   "source": [
    "### Loading the participant features\n",
    "The table below holds the info we have on each participant. Each participant has a unique subject ID. The info about the tasks was removed, as it was deemed unnecessary. Our target value should be age / gender."
   ]
  },
  {
   "cell_type": "code",
   "execution_count": 2,
   "metadata": {},
   "outputs": [
    {
     "data": {
      "text/html": [
       "<div>\n",
       "<style scoped>\n",
       "    .dataframe tbody tr th:only-of-type {\n",
       "        vertical-align: middle;\n",
       "    }\n",
       "\n",
       "    .dataframe tbody tr th {\n",
       "        vertical-align: top;\n",
       "    }\n",
       "\n",
       "    .dataframe thead th {\n",
       "        text-align: right;\n",
       "    }\n",
       "</style>\n",
       "<table border=\"1\" class=\"dataframe\">\n",
       "  <thead>\n",
       "    <tr style=\"text-align: right;\">\n",
       "      <th></th>\n",
       "      <th>age</th>\n",
       "      <th>gender</th>\n",
       "      <th>handedness</th>\n",
       "      <th>native_german</th>\n",
       "      <th>native_german_mother</th>\n",
       "      <th>native_language_mother</th>\n",
       "      <th>native_german_father</th>\n",
       "      <th>native_language_father</th>\n",
       "      <th>education_mother</th>\n",
       "      <th>education_father</th>\n",
       "      <th>...</th>\n",
       "      <th>leisure_hobbies</th>\n",
       "      <th>leisure_play_games</th>\n",
       "      <th>leisure_relaxation</th>\n",
       "      <th>leisure_social_activity</th>\n",
       "      <th>leisure_humanitarian_services</th>\n",
       "      <th>leisure_nature_activities</th>\n",
       "      <th>leisure_travel_tourism</th>\n",
       "      <th>study_subject_primary</th>\n",
       "      <th>study_subject_secondary</th>\n",
       "      <th>cft_sum_full</th>\n",
       "    </tr>\n",
       "    <tr>\n",
       "      <th>subject</th>\n",
       "      <th></th>\n",
       "      <th></th>\n",
       "      <th></th>\n",
       "      <th></th>\n",
       "      <th></th>\n",
       "      <th></th>\n",
       "      <th></th>\n",
       "      <th></th>\n",
       "      <th></th>\n",
       "      <th></th>\n",
       "      <th></th>\n",
       "      <th></th>\n",
       "      <th></th>\n",
       "      <th></th>\n",
       "      <th></th>\n",
       "      <th></th>\n",
       "      <th></th>\n",
       "      <th></th>\n",
       "      <th></th>\n",
       "      <th></th>\n",
       "      <th></th>\n",
       "    </tr>\n",
       "  </thead>\n",
       "  <tbody>\n",
       "    <tr>\n",
       "      <th>AAB14</th>\n",
       "      <td>19.0</td>\n",
       "      <td>2.0</td>\n",
       "      <td>1.0</td>\n",
       "      <td>1.0</td>\n",
       "      <td>0.0</td>\n",
       "      <td>Türkisch</td>\n",
       "      <td>0.0</td>\n",
       "      <td>Italienisch</td>\n",
       "      <td>2.0</td>\n",
       "      <td>0.0</td>\n",
       "      <td>...</td>\n",
       "      <td>0</td>\n",
       "      <td>0</td>\n",
       "      <td>0</td>\n",
       "      <td>1</td>\n",
       "      <td>0</td>\n",
       "      <td>1</td>\n",
       "      <td>0</td>\n",
       "      <td>Social sciences, journalism and information</td>\n",
       "      <td>NaN</td>\n",
       "      <td>28.0</td>\n",
       "    </tr>\n",
       "    <tr>\n",
       "      <th>AAO14</th>\n",
       "      <td>27.0</td>\n",
       "      <td>2.0</td>\n",
       "      <td>1.0</td>\n",
       "      <td>0.0</td>\n",
       "      <td>0.0</td>\n",
       "      <td>Englisch</td>\n",
       "      <td>0.0</td>\n",
       "      <td>Hindi</td>\n",
       "      <td>NaN</td>\n",
       "      <td>4.0</td>\n",
       "      <td>...</td>\n",
       "      <td>1</td>\n",
       "      <td>0</td>\n",
       "      <td>0</td>\n",
       "      <td>0</td>\n",
       "      <td>0</td>\n",
       "      <td>0</td>\n",
       "      <td>0</td>\n",
       "      <td>Natural sciences, mathematics and statistics</td>\n",
       "      <td>NaN</td>\n",
       "      <td>30.0</td>\n",
       "    </tr>\n",
       "    <tr>\n",
       "      <th>AAR28</th>\n",
       "      <td>29.0</td>\n",
       "      <td>1.0</td>\n",
       "      <td>1.0</td>\n",
       "      <td>1.0</td>\n",
       "      <td>1.0</td>\n",
       "      <td>NaN</td>\n",
       "      <td>1.0</td>\n",
       "      <td>NaN</td>\n",
       "      <td>3.0</td>\n",
       "      <td>5.0</td>\n",
       "      <td>...</td>\n",
       "      <td>0</td>\n",
       "      <td>1</td>\n",
       "      <td>0</td>\n",
       "      <td>0</td>\n",
       "      <td>0</td>\n",
       "      <td>1</td>\n",
       "      <td>1</td>\n",
       "      <td>Education</td>\n",
       "      <td>Arts and humanities</td>\n",
       "      <td>35.0</td>\n",
       "    </tr>\n",
       "    <tr>\n",
       "      <th>ABT22</th>\n",
       "      <td>21.0</td>\n",
       "      <td>2.0</td>\n",
       "      <td>1.0</td>\n",
       "      <td>1.0</td>\n",
       "      <td>1.0</td>\n",
       "      <td>NaN</td>\n",
       "      <td>0.0</td>\n",
       "      <td>Serbisch</td>\n",
       "      <td>5.0</td>\n",
       "      <td>4.0</td>\n",
       "      <td>...</td>\n",
       "      <td>0</td>\n",
       "      <td>0</td>\n",
       "      <td>0</td>\n",
       "      <td>0</td>\n",
       "      <td>0</td>\n",
       "      <td>0</td>\n",
       "      <td>1</td>\n",
       "      <td>Business, administration and law</td>\n",
       "      <td>NaN</td>\n",
       "      <td>37.0</td>\n",
       "    </tr>\n",
       "    <tr>\n",
       "      <th>ACB13</th>\n",
       "      <td>25.0</td>\n",
       "      <td>1.0</td>\n",
       "      <td>2.0</td>\n",
       "      <td>1.0</td>\n",
       "      <td>1.0</td>\n",
       "      <td>NaN</td>\n",
       "      <td>1.0</td>\n",
       "      <td>NaN</td>\n",
       "      <td>3.0</td>\n",
       "      <td>5.0</td>\n",
       "      <td>...</td>\n",
       "      <td>0</td>\n",
       "      <td>0</td>\n",
       "      <td>0</td>\n",
       "      <td>0</td>\n",
       "      <td>0</td>\n",
       "      <td>0</td>\n",
       "      <td>0</td>\n",
       "      <td>Business, administration and law</td>\n",
       "      <td>NaN</td>\n",
       "      <td>28.0</td>\n",
       "    </tr>\n",
       "  </tbody>\n",
       "</table>\n",
       "<p>5 rows × 76 columns</p>\n",
       "</div>"
      ],
      "text/plain": [
       "          age  gender  handedness  native_german  native_german_mother  \\\n",
       "subject                                                                  \n",
       "AAB14    19.0     2.0         1.0            1.0                   0.0   \n",
       "AAO14    27.0     2.0         1.0            0.0                   0.0   \n",
       "AAR28    29.0     1.0         1.0            1.0                   1.0   \n",
       "ABT22    21.0     2.0         1.0            1.0                   1.0   \n",
       "ACB13    25.0     1.0         2.0            1.0                   1.0   \n",
       "\n",
       "        native_language_mother  native_german_father native_language_father  \\\n",
       "subject                                                                       \n",
       "AAB14                 Türkisch                   0.0            Italienisch   \n",
       "AAO14                 Englisch                   0.0                  Hindi   \n",
       "AAR28                      NaN                   1.0                    NaN   \n",
       "ABT22                      NaN                   0.0               Serbisch   \n",
       "ACB13                      NaN                   1.0                    NaN   \n",
       "\n",
       "         education_mother  education_father  ...  leisure_hobbies  \\\n",
       "subject                                      ...                    \n",
       "AAB14                 2.0               0.0  ...                0   \n",
       "AAO14                 NaN               4.0  ...                1   \n",
       "AAR28                 3.0               5.0  ...                0   \n",
       "ABT22                 5.0               4.0  ...                0   \n",
       "ACB13                 3.0               5.0  ...                0   \n",
       "\n",
       "         leisure_play_games  leisure_relaxation leisure_social_activity  \\\n",
       "subject                                                                   \n",
       "AAB14                     0                   0                       1   \n",
       "AAO14                     0                   0                       0   \n",
       "AAR28                     1                   0                       0   \n",
       "ABT22                     0                   0                       0   \n",
       "ACB13                     0                   0                       0   \n",
       "\n",
       "        leisure_humanitarian_services  leisure_nature_activities  \\\n",
       "subject                                                            \n",
       "AAB14                               0                          1   \n",
       "AAO14                               0                          0   \n",
       "AAR28                               0                          1   \n",
       "ABT22                               0                          0   \n",
       "ACB13                               0                          0   \n",
       "\n",
       "         leisure_travel_tourism                         study_subject_primary  \\\n",
       "subject                                                                         \n",
       "AAB14                         0   Social sciences, journalism and information   \n",
       "AAO14                         0  Natural sciences, mathematics and statistics   \n",
       "AAR28                         1                                     Education   \n",
       "ABT22                         1              Business, administration and law   \n",
       "ACB13                         0              Business, administration and law   \n",
       "\n",
       "         study_subject_secondary  cft_sum_full  \n",
       "subject                                         \n",
       "AAB14                        NaN          28.0  \n",
       "AAO14                        NaN          30.0  \n",
       "AAR28        Arts and humanities          35.0  \n",
       "ABT22                        NaN          37.0  \n",
       "ACB13                        NaN          28.0  \n",
       "\n",
       "[5 rows x 76 columns]"
      ]
     },
     "execution_count": 2,
     "metadata": {},
     "output_type": "execute_result"
    }
   ],
   "source": [
    "participant_features = pd.read_csv('TuEyeQ/cft_full.csv', index_col=1)\n",
    "del participant_features['task_id']\n",
    "del participant_features['cft_task']\n",
    "participant_features = participant_features.drop_duplicates()\n",
    "participant_features.head()"
   ]
  },
  {
   "cell_type": "markdown",
   "metadata": {},
   "source": [
    "### Reading eye tracking features\n",
    " Here is what eye tracking features for Some of the participants and some readings have been removed due to too much noise. "
   ]
  },
  {
   "cell_type": "code",
   "execution_count": 3,
   "metadata": {},
   "outputs": [
    {
     "data": {
      "text/html": [
       "<div>\n",
       "<style scoped>\n",
       "    .dataframe tbody tr th:only-of-type {\n",
       "        vertical-align: middle;\n",
       "    }\n",
       "\n",
       "    .dataframe tbody tr th {\n",
       "        vertical-align: top;\n",
       "    }\n",
       "\n",
       "    .dataframe thead th {\n",
       "        text-align: right;\n",
       "    }\n",
       "</style>\n",
       "<table border=\"1\" class=\"dataframe\">\n",
       "  <thead>\n",
       "    <tr style=\"text-align: right;\">\n",
       "      <th></th>\n",
       "      <th>starttime</th>\n",
       "      <th>duration</th>\n",
       "      <th>meanPupilDiameter</th>\n",
       "      <th>eye</th>\n",
       "      <th>eventType</th>\n",
       "      <th>eventIdxLeft</th>\n",
       "      <th>eventIdxRight</th>\n",
       "      <th>meanX</th>\n",
       "      <th>meanY</th>\n",
       "      <th>startSaccadeX</th>\n",
       "      <th>startSaccadeY</th>\n",
       "      <th>endSaccadeX</th>\n",
       "      <th>endSaccadeY</th>\n",
       "      <th>microsaccadeCount</th>\n",
       "      <th>microsaccadeAmplitude</th>\n",
       "      <th>microsaccadePeakVelocity</th>\n",
       "      <th>gender</th>\n",
       "    </tr>\n",
       "  </thead>\n",
       "  <tbody>\n",
       "    <tr>\n",
       "      <th>14</th>\n",
       "      <td>3032142</td>\n",
       "      <td>44</td>\n",
       "      <td>NaN</td>\n",
       "      <td>left</td>\n",
       "      <td>saccade</td>\n",
       "      <td>1.0</td>\n",
       "      <td>NaN</td>\n",
       "      <td>NaN</td>\n",
       "      <td>NaN</td>\n",
       "      <td>514.678</td>\n",
       "      <td>410.290</td>\n",
       "      <td>701.580</td>\n",
       "      <td>311.073</td>\n",
       "      <td>NaN</td>\n",
       "      <td>NaN</td>\n",
       "      <td>NaN</td>\n",
       "      <td>2.0</td>\n",
       "    </tr>\n",
       "    <tr>\n",
       "      <th>15</th>\n",
       "      <td>3032146</td>\n",
       "      <td>40</td>\n",
       "      <td>NaN</td>\n",
       "      <td>right</td>\n",
       "      <td>saccade</td>\n",
       "      <td>1.0</td>\n",
       "      <td>4.0</td>\n",
       "      <td>NaN</td>\n",
       "      <td>NaN</td>\n",
       "      <td>554.941</td>\n",
       "      <td>409.684</td>\n",
       "      <td>713.569</td>\n",
       "      <td>319.930</td>\n",
       "      <td>NaN</td>\n",
       "      <td>NaN</td>\n",
       "      <td>NaN</td>\n",
       "      <td>2.0</td>\n",
       "    </tr>\n",
       "    <tr>\n",
       "      <th>16</th>\n",
       "      <td>3032190</td>\n",
       "      <td>100</td>\n",
       "      <td>3.053042</td>\n",
       "      <td>left</td>\n",
       "      <td>fixation</td>\n",
       "      <td>1.0</td>\n",
       "      <td>NaN</td>\n",
       "      <td>714.207654</td>\n",
       "      <td>299.538000</td>\n",
       "      <td>NaN</td>\n",
       "      <td>NaN</td>\n",
       "      <td>NaN</td>\n",
       "      <td>NaN</td>\n",
       "      <td>0.0</td>\n",
       "      <td>NaN</td>\n",
       "      <td>NaN</td>\n",
       "      <td>2.0</td>\n",
       "    </tr>\n",
       "    <tr>\n",
       "      <th>17</th>\n",
       "      <td>3032190</td>\n",
       "      <td>104</td>\n",
       "      <td>3.053560</td>\n",
       "      <td>right</td>\n",
       "      <td>fixation</td>\n",
       "      <td>1.0</td>\n",
       "      <td>5.0</td>\n",
       "      <td>729.511444</td>\n",
       "      <td>305.095778</td>\n",
       "      <td>NaN</td>\n",
       "      <td>NaN</td>\n",
       "      <td>NaN</td>\n",
       "      <td>NaN</td>\n",
       "      <td>2.0</td>\n",
       "      <td>3.521654</td>\n",
       "      <td>10.08638</td>\n",
       "      <td>2.0</td>\n",
       "    </tr>\n",
       "    <tr>\n",
       "      <th>18</th>\n",
       "      <td>3032294</td>\n",
       "      <td>24</td>\n",
       "      <td>NaN</td>\n",
       "      <td>left</td>\n",
       "      <td>saccade</td>\n",
       "      <td>2.0</td>\n",
       "      <td>NaN</td>\n",
       "      <td>NaN</td>\n",
       "      <td>NaN</td>\n",
       "      <td>721.452</td>\n",
       "      <td>301.986</td>\n",
       "      <td>804.455</td>\n",
       "      <td>229.362</td>\n",
       "      <td>NaN</td>\n",
       "      <td>NaN</td>\n",
       "      <td>NaN</td>\n",
       "      <td>2.0</td>\n",
       "    </tr>\n",
       "    <tr>\n",
       "      <th>19</th>\n",
       "      <td>3032298</td>\n",
       "      <td>20</td>\n",
       "      <td>NaN</td>\n",
       "      <td>right</td>\n",
       "      <td>saccade</td>\n",
       "      <td>2.0</td>\n",
       "      <td>5.0</td>\n",
       "      <td>NaN</td>\n",
       "      <td>NaN</td>\n",
       "      <td>741.377</td>\n",
       "      <td>292.951</td>\n",
       "      <td>818.070</td>\n",
       "      <td>220.246</td>\n",
       "      <td>NaN</td>\n",
       "      <td>NaN</td>\n",
       "      <td>NaN</td>\n",
       "      <td>2.0</td>\n",
       "    </tr>\n",
       "  </tbody>\n",
       "</table>\n",
       "</div>"
      ],
      "text/plain": [
       "    starttime  duration  meanPupilDiameter    eye eventType  eventIdxLeft  \\\n",
       "14    3032142        44                NaN   left   saccade           1.0   \n",
       "15    3032146        40                NaN  right   saccade           1.0   \n",
       "16    3032190       100           3.053042   left  fixation           1.0   \n",
       "17    3032190       104           3.053560  right  fixation           1.0   \n",
       "18    3032294        24                NaN   left   saccade           2.0   \n",
       "19    3032298        20                NaN  right   saccade           2.0   \n",
       "\n",
       "    eventIdxRight       meanX       meanY  startSaccadeX  startSaccadeY  \\\n",
       "14            NaN         NaN         NaN        514.678        410.290   \n",
       "15            4.0         NaN         NaN        554.941        409.684   \n",
       "16            NaN  714.207654  299.538000            NaN            NaN   \n",
       "17            5.0  729.511444  305.095778            NaN            NaN   \n",
       "18            NaN         NaN         NaN        721.452        301.986   \n",
       "19            5.0         NaN         NaN        741.377        292.951   \n",
       "\n",
       "    endSaccadeX  endSaccadeY  microsaccadeCount  microsaccadeAmplitude  \\\n",
       "14      701.580      311.073                NaN                    NaN   \n",
       "15      713.569      319.930                NaN                    NaN   \n",
       "16          NaN          NaN                0.0                    NaN   \n",
       "17          NaN          NaN                2.0               3.521654   \n",
       "18      804.455      229.362                NaN                    NaN   \n",
       "19      818.070      220.246                NaN                    NaN   \n",
       "\n",
       "    microsaccadePeakVelocity  gender  \n",
       "14                       NaN     2.0  \n",
       "15                       NaN     2.0  \n",
       "16                       NaN     2.0  \n",
       "17                  10.08638     2.0  \n",
       "18                       NaN     2.0  \n",
       "19                       NaN     2.0  "
      ]
     },
     "execution_count": 3,
     "metadata": {},
     "output_type": "execute_result"
    }
   ],
   "source": [
    "eye_tracking_features_path = 'TuEyeQ/EyeMovementData/split'\n",
    "arbitrary_eye_tracking_features = pd.read_csv(eye_tracking_features_path+'/ABT22/task_01.csv', index_col=0)\n",
    "arbitrary_eye_tracking_features['gender'] = participant_features.loc['ABT22']['gender']\n",
    "arbitrary_eye_tracking_features.head(6)"
   ]
  },
  {
   "cell_type": "markdown",
   "metadata": {},
   "source": [
    "### Appending target values to feature vectors\n",
    "We want a feature vector to consist of eye tracking features and then a target value in the end, based on the subject ID."
   ]
  },
  {
   "cell_type": "code",
   "execution_count": 4,
   "metadata": {},
   "outputs": [],
   "source": [
    "participants = list(set(participant_features.index))\n",
    "\n",
    "def load_participant(participant_id):\n",
    "    tasks = []\n",
    "    \n",
    "    if not os.path.isdir(eye_tracking_features_path+'/'+participant_id):\n",
    "        #print(participant_id+' has no readings.')\n",
    "        return\n",
    "    \n",
    "    for task in os.listdir(eye_tracking_features_path+'/'+participant_id):\n",
    "        df = pd.read_csv(eye_tracking_features_path+'/'+participant_id+'/'+task, index_col=0)\n",
    "        gender = participant_features.loc[participant_id]['gender']\n",
    "        age = participant_features.loc[participant_id]['age']\n",
    "        df['gender'] = gender\n",
    "        df['age'] = age\n",
    "        tasks.append(df)\n",
    "        \n",
    "    return tasks\n",
    "\n",
    "def drop_nulls(lst):\n",
    "    return list(filter(None, lst))"
   ]
  },
  {
   "cell_type": "code",
   "execution_count": 5,
   "metadata": {},
   "outputs": [],
   "source": [
    "abt22 = load_participant('ABT22')"
   ]
  },
  {
   "cell_type": "markdown",
   "metadata": {},
   "source": [
    "### Making a heat map\n",
    "It might be a good idea to visualise the data before attacking it. Perhaps we can even see a difference. Here I make a heatmap of the locations the male and female participants look and scanpaths."
   ]
  },
  {
   "cell_type": "code",
   "execution_count": 6,
   "metadata": {},
   "outputs": [
    {
     "name": "stderr",
     "output_type": "stream",
     "text": [
      "100%|██████████████████████████████████████████████████████████████████████████████████| 94/94 [00:10<00:00,  8.59it/s]\n",
      "100%|████████████████████████████████████████████████████████████████████████████████| 217/217 [00:52<00:00,  4.17it/s]\n"
     ]
    }
   ],
   "source": [
    "all_males = participant_features[participant_features['gender']==1].index\n",
    "all_females = participant_features[participant_features['gender']==2].index\n",
    "\n",
    "all_male_readings = drop_nulls([load_participant(subject) for subject in tqdm(all_males)])\n",
    "all_female_readings = drop_nulls([load_participant(subject) for subject in tqdm(all_females)])"
   ]
  },
  {
   "cell_type": "code",
   "execution_count": 7,
   "metadata": {},
   "outputs": [],
   "source": [
    "def make_heatmap_scanpath(readings, verbose=True):\n",
    "    heatmaps, all_x, all_y = [], [], []\n",
    "\n",
    "    for subject_ind, subject in tqdm(enumerate(readings)):\n",
    "        for reading_ind, i in enumerate(subject):\n",
    "            fixations = i[i['eventType']=='fixation']\n",
    "            mean_x = fixations['meanX']\n",
    "            mean_y = fixations['meanY']\n",
    "\n",
    "            if mean_x.shape[0] < 2 and mean_y.shape[0] < 2:\n",
    "                if verbose:\n",
    "                    print(f\"Reading {reading_ind} on subject {subject_ind} too small to work with.\")\n",
    "                break\n",
    "            heatmap, x_edges, y_edges = np.histogram2d(mean_x, mean_y, bins=(20,40))\n",
    "            heatmaps.append(heatmap)\n",
    "            all_x.append(mean_x)\n",
    "            all_y.append(mean_y)\n",
    "\n",
    "    combined_heatmap = sum(heatmaps)\n",
    "    if verbose:\n",
    "        print(\"Drawing...\")\n",
    "    plt.figure(figsize=(10,8))\n",
    "    plt.subplot(2,1,1)\n",
    "    plt.imshow(combined_heatmap);\n",
    "    ax = plt.gca() # Inverter x-akse. Den passede ikke af en eller anden årsag.\n",
    "    ax.invert_xaxis()\n",
    "    \n",
    "    plt.subplot(2,1,2)\n",
    "    for x, y in zip(all_x, all_y):\n",
    "        plt.plot(x, y, linewidth=0.1/len(readings), c='blue')"
   ]
  },
  {
   "cell_type": "code",
   "execution_count": 8,
   "metadata": {},
   "outputs": [],
   "source": [
    "#make_heatmap_scanpath(all_male_readings, verbose=False)"
   ]
  },
  {
   "cell_type": "code",
   "execution_count": 9,
   "metadata": {},
   "outputs": [],
   "source": [
    "#make_heatmap_scanpath(all_female_readings, verbose=False)"
   ]
  },
  {
   "cell_type": "markdown",
   "metadata": {},
   "source": [
    "### Random Forest Classification - Initial Test"
   ]
  },
  {
   "cell_type": "code",
   "execution_count": 10,
   "metadata": {},
   "outputs": [
    {
     "name": "stderr",
     "output_type": "stream",
     "text": [
      "C:\\Users\\lasse\\anaconda3\\lib\\site-packages\\ipykernel_launcher.py:7: FutureWarning: Dropping of nuisance columns in DataFrame reductions (with 'numeric_only=None') is deprecated; in a future version this will raise TypeError.  Select only valid columns before calling the reduction.\n",
      "  import sys\n"
     ]
    }
   ],
   "source": [
    "#The features available in all entries - Except start time.\n",
    "feats = ['duration', 'meanPupilDiameter', 'eventIdxLeft', 'eventIdxRight', 'meanX', 'meanY',\n",
    "         'startSaccadeX', 'startSaccadeY', 'endSaccadeX', 'endSaccadeY', 'microsaccadeCount',\n",
    "        'microsaccadeAmplitude', 'microsaccadePeakVelocity']\n",
    "\n",
    "X_prepared = [i for p in all_male_readings+all_female_readings[:52] for i in p] #52 - fjern\n",
    "X_prepared = [d.mean() for d in X_prepared] #Take the mean of all values - To make single feature vector\n",
    "X_prepared = [x for x in X_prepared if not np.isnan(x.loc['gender'])] #Remove nan-values.\n",
    "X_prepared = [x.fillna(0) for x in X_prepared]\n",
    "np.random.shuffle(X_prepared)\n",
    "X = [x.loc[feats] for x in X_prepared] #Take all features except last two\n",
    "y = [x.loc['gender'] for x in X_prepared] # Take gender (last feature)"
   ]
  },
  {
   "cell_type": "code",
   "execution_count": 11,
   "metadata": {},
   "outputs": [
    {
     "name": "stderr",
     "output_type": "stream",
     "text": [
      "2it [00:26, 13.44s/it]\n",
      "C:\\Users\\lasse\\anaconda3\\lib\\site-packages\\sklearn\\utils\\deprecation.py:87: FutureWarning: Function plot_roc_curve is deprecated; Function `plot_roc_curve` is deprecated in 1.0 and will be removed in 1.2. Use one of the class methods: RocCurveDisplay.from_predictions or RocCurveDisplay.from_estimator.\n",
      "  warnings.warn(msg, category=FutureWarning)\n"
     ]
    },
    {
     "name": "stdout",
     "output_type": "stream",
     "text": [
      "Average Accuracy: 0.6957525430874406\n",
      "Average F1: 0.6872924080489047\n",
      "Average AUC: 0.695702279404709\n"
     ]
    },
    {
     "name": "stderr",
     "output_type": "stream",
     "text": [
      "C:\\Users\\lasse\\anaconda3\\lib\\site-packages\\sklearn\\utils\\deprecation.py:87: FutureWarning: Function plot_roc_curve is deprecated; Function `plot_roc_curve` is deprecated in 1.0 and will be removed in 1.2. Use one of the class methods: RocCurveDisplay.from_predictions or RocCurveDisplay.from_estimator.\n",
      "  warnings.warn(msg, category=FutureWarning)\n"
     ]
    },
    {
     "data": {
      "image/png": "[encoded data removed]",
      "text/plain": [
       "<Figure size 432x288 with 1 Axes>"
      ]
     },
     "metadata": {
      "needs_background": "light"
     },
     "output_type": "display_data"
    }
   ],
   "source": [
    "#Fit that model\n",
    "def fit_roc(X, y, k=2):\n",
    "\n",
    "    rfc = RandomForestClassifier(\n",
    "        n_estimators=1000, criterion='entropy', min_samples_split=5,\n",
    "        min_samples_leaf=1, random_state=42, max_features='sqrt'\n",
    "    )\n",
    "\n",
    "    dummy = DummyClassifier()\n",
    "\n",
    "    acc_score = []\n",
    "    f1 = []\n",
    "    auc = []\n",
    "\n",
    "    X = np.array(X)\n",
    "    y = np.array(y)\n",
    "\n",
    "    kf = KFold(n_splits=k, shuffle=False)\n",
    "    for train_index, test_index in tqdm(kf.split(X)):\n",
    "        X_train, X_test = X[train_index], X[test_index]\n",
    "        y_train, y_test = y[train_index], y[test_index]\n",
    "\n",
    "        rfc.fit(X_train,y_train)\n",
    "        pred_values = rfc.predict(X_test)\n",
    "        tueye_pred = pred_values\n",
    "        tueye_true_y = y_test\n",
    "\n",
    "        acc_score.append(accuracy_score(y_test, pred_values))\n",
    "        f1.append(f1_score(y_test, pred_values))\n",
    "        auc.append(roc_auc_score(y_test, pred_values))\n",
    "\n",
    "    dummy.fit(X_train, y_train)\n",
    "    ax = plt.gca()\n",
    "    rfc_disp = plot_roc_curve(rfc, X_test, y_test, ax=ax, alpha=0.8)\n",
    "    rfc_disp = plot_roc_curve(dummy, X_test, y_test, ax=ax, alpha=0.8)\n",
    "\n",
    "    rfc_avg_acc_score = sum(acc_score)/k\n",
    "    rfc_avg_f1_score = sum(f1)/k\n",
    "    rfc_avg_auc_score = sum(auc)/k\n",
    "\n",
    "    print('Average Accuracy:', rfc_avg_acc_score)\n",
    "    print('Average F1:', rfc_avg_f1_score)\n",
    "    print('Average AUC:', rfc_avg_auc_score)\n",
    "    return rfc, tueye_pred, tueye_true_y\n",
    "\n",
    "holder, tuteye_pred, tueye_true_y = fit_roc(X, y)"
   ]
  },
  {
   "cell_type": "markdown",
   "metadata": {},
   "source": [
    "## Time to make definitive feature sets!"
   ]
  },
  {
   "cell_type": "code",
   "execution_count": 12,
   "metadata": {},
   "outputs": [],
   "source": [
    "def get_dist(p1, p2):\n",
    "    dist = np.sqrt(((p1[0]-p2[0])**2)+((p1[1]-p2[1])**2))\n",
    "    return dist\n",
    "\n",
    "def format_dataframe(df, del_eye=True):\n",
    "    mono = df[df['eye']=='left']\n",
    "    fixations = mono[mono['eventType']=='fixation']\n",
    "    saccades = mono[mono['eventType']=='saccade']\n",
    "    \n",
    "    if del_eye: #Control to remove, only if the value is there.\n",
    "        fixations = fixations.drop(['eye', 'eventIdxLeft', 'eventIdxRight','eventType'], axis=1) #Remove eye-column (redundant)\n",
    "        fixations = fixations.drop(['startSaccadeX', 'endSaccadeX', 'startSaccadeY', 'endSaccadeY'], axis=1) #Remove saccade-specific values (NaN)\n",
    "    fixations = fixations.fillna(0)\n",
    "    fixations.replace(np.inf, 0, inplace=True)\n",
    "    \n",
    "    if del_eye:\n",
    "        saccades = saccades.drop(['eye', 'eventIdxLeft', 'eventIdxRight','eventType'], axis=1) #Remove  eye-columns\n",
    "        saccades = saccades.drop(['meanX', 'meanY', 'meanPupilDiameter', 'microsaccadeCount', 'microsaccadeAmplitude', 'microsaccadePeakVelocity'], axis=1)\n",
    "        \n",
    "    saccades['velocity'] = calculate_velocity(saccades['startSaccadeX'], saccades['startSaccadeY'], \n",
    "                                              saccades['endSaccadeX'], saccades['endSaccadeY'], saccades['duration'])\n",
    "    saccades = saccades.fillna(0) #Replace NaN entries with 0\n",
    "    saccades.replace(np.inf, 0, inplace=True) #Replace infinite values with 0\n",
    "    \n",
    "    return [fixations, saccades]\n",
    "\n",
    "def calculate_velocity(start_x, start_y, end_x, end_y, duration):\n",
    "    distance = get_dist((start_x, end_x),(start_y, end_y))\n",
    "    velocity = distance / duration\n",
    "    return velocity\n",
    "\n",
    "def calculate_fixation_ratio(fixation_df, saccade_df): #dataframes as input\n",
    "    fixation_dur = fixation_df['fix_duration'].sum()\n",
    "    saccade_dur = saccade_df['sac_duration'].sum()\n",
    "    if fixation_dur == 0 or saccade_dur == 0:\n",
    "        return 0\n",
    "    return fixation_dur / saccade_dur\n",
    "\n",
    "def transform_to_vector(fixations, saccades):\n",
    "    fixations = fixations.add_prefix('fix_')\n",
    "    saccades = saccades.add_prefix('sac_')\n",
    "    \n",
    "    #Get single values from dataframe\n",
    "    fixations_sums = fixations.sum()\n",
    "    saccades_sums = saccades.sum()\n",
    "    fixations_means = fixations.mean()\n",
    "    saccades_means = saccades.mean()\n",
    "    fixations_min = fixations.min()\n",
    "    saccades_min = saccades.min()\n",
    "    fixations_max = fixations.max()\n",
    "    saccades_max = saccades.max()\n",
    "    fixations_std = fixations.std()\n",
    "    saccades_std = saccades.std()\n",
    "    \n",
    "    fix_dur_ratio = pd.Series(calculate_fixation_ratio(fixations, saccades), index=['fixdur_ratio'])\n",
    "    \n",
    "    #Add suffixes to columns\n",
    "    fixations_sums = fixations_sums.add_suffix('_sum')\n",
    "    saccades_sums = saccades_sums.add_suffix('_sum')\n",
    "    fixations_means = fixations_means.add_suffix('_mean')\n",
    "    saccades_means = saccades_means.add_suffix('_mean')\n",
    "    fixations_min = fixations_min.add_suffix('_min')\n",
    "    saccades_min = saccades_min.add_suffix('_min')\n",
    "    fixations_max = fixations_max.add_suffix('_max')\n",
    "    saccades_max = saccades_max.add_suffix('_max')\n",
    "    fixations_std = fixations_std.add_suffix('_std')\n",
    "    saccades_std = saccades_std.add_suffix('_std')\n",
    "    \n",
    "    return pd.concat((fixations_sums, saccades_sums, fixations_means, saccades_means,\n",
    "                     fixations_min, saccades_min, fixations_max, saccades_max,\n",
    "                     fixations_std, saccades_std))\n",
    "    \n",
    "\n",
    "def participant_to_dataframe(participant_readings):\n",
    "    #Converts multiple participant readings into a single dataframe, each row being a test trial.\n",
    "    participant_df = pd.DataFrame()\n",
    "    age, gender = participant_readings[0]['age'], participant_readings[0]['gender']\n",
    "    \n",
    "    #loop through each trial of participant readings\n",
    "    for trial in participant_readings:\n",
    "        #Create two clean dataframes (fixation, saccade)\n",
    "        fixations, saccades = format_dataframe(trial.drop(['age', 'gender'], axis=1))\n",
    "        feature_vector = transform_to_vector(fixations, saccades)\n",
    "        participant_df = participant_df.append(feature_vector, ignore_index=True)\n",
    "    \n",
    "    participant_df = participant_df.assign(age=age.iloc[0], gender=gender.iloc[0]) #Add target values in end\n",
    "    \n",
    "    return participant_df\n",
    "        \n",
    "    \n",
    "def multiple_readings_to_dataframe(participant_readings):\n",
    "    #Converts a list of participant readings into a single dataframe.\n",
    "    participant_dfs = []\n",
    "    \n",
    "    for i in tqdm(range(len(participant_readings))):\n",
    "        participant_dfs.append(participant_to_dataframe(participant_readings[i]))\n",
    "    \n",
    "    return pd.concat(participant_dfs)"
   ]
  },
  {
   "cell_type": "code",
   "execution_count": 13,
   "metadata": {},
   "outputs": [
    {
     "name": "stderr",
     "output_type": "stream",
     "text": [
      "100%|████████████████████████████████████████████████████████████████████████████████| 104/104 [01:08<00:00,  1.53it/s]\n"
     ]
    }
   ],
   "source": [
    "features = multiple_readings_to_dataframe(all_male_readings+all_female_readings[:52])"
   ]
  },
  {
   "cell_type": "code",
   "execution_count": 14,
   "metadata": {},
   "outputs": [],
   "source": [
    "feats = features.columns\n",
    "feats = feats.drop(['age', 'gender'])\n",
    "features = features.sample(frac=1) #Shuffle dataset\n",
    "\n",
    "X = features[feats]\n",
    "y = features['gender']\n",
    "X = X.fillna(0)"
   ]
  },
  {
   "cell_type": "code",
   "execution_count": 15,
   "metadata": {},
   "outputs": [
    {
     "data": {
      "text/plain": [
       "47    3.144162\n",
       "50    3.784547\n",
       "19    3.757726\n",
       "32    3.380755\n",
       "54    3.127098\n",
       "        ...   \n",
       "24    3.943843\n",
       "33    3.376307\n",
       "28    3.941621\n",
       "54    3.750018\n",
       "51    3.069754\n",
       "Name: fix_meanPupilDiameter_max, Length: 5824, dtype: float64"
      ]
     },
     "execution_count": 15,
     "metadata": {},
     "output_type": "execute_result"
    }
   ],
   "source": [
    "X[\"fix_meanPupilDiameter_max\"]"
   ]
  },
  {
   "cell_type": "code",
   "execution_count": 16,
   "metadata": {},
   "outputs": [
    {
     "name": "stderr",
     "output_type": "stream",
     "text": [
      "5it [03:36, 43.28s/it]\n",
      "C:\\Users\\lasse\\anaconda3\\lib\\site-packages\\sklearn\\utils\\deprecation.py:87: FutureWarning: Function plot_roc_curve is deprecated; Function `plot_roc_curve` is deprecated in 1.0 and will be removed in 1.2. Use one of the class methods: RocCurveDisplay.from_predictions or RocCurveDisplay.from_estimator.\n",
      "  warnings.warn(msg, category=FutureWarning)\n"
     ]
    },
    {
     "name": "stdout",
     "output_type": "stream",
     "text": [
      "Average Accuracy: 0.7821061014999336\n",
      "Average F1: 0.7878830259321739\n",
      "Average AUC: 0.7821963671889615\n"
     ]
    },
    {
     "name": "stderr",
     "output_type": "stream",
     "text": [
      "C:\\Users\\lasse\\anaconda3\\lib\\site-packages\\sklearn\\utils\\deprecation.py:87: FutureWarning: Function plot_roc_curve is deprecated; Function `plot_roc_curve` is deprecated in 1.0 and will be removed in 1.2. Use one of the class methods: RocCurveDisplay.from_predictions or RocCurveDisplay.from_estimator.\n",
      "  warnings.warn(msg, category=FutureWarning)\n"
     ]
    },
    {
     "data": {
      "image/png": "[encoded data removed]",
      "text/plain": [
       "<Figure size 432x288 with 1 Axes>"
      ]
     },
     "metadata": {
      "needs_background": "light"
     },
     "output_type": "display_data"
    }
   ],
   "source": [
    "model = fit_roc(X,y,k=5)"
   ]
  },
  {
   "cell_type": "code",
   "execution_count": 17,
   "metadata": {},
   "outputs": [],
   "source": [
    "model = RandomForestClassifier(\n",
    "    n_estimators=1000, criterion='entropy', min_samples_split=5,\n",
    "    min_samples_leaf=1, random_state=42, max_features='sqrt'\n",
    ")\n",
    "\n",
    "model.fit(X, y)\n",
    "pred_values = model.predict(X)\n",
    "\n",
    "#rfc_acc_score = accuracy_score(test_y, pred_values)\n",
    "#rfc_f1_score = f1_score(test_y, pred_values)\n",
    "#rfc_recall_score = recall_score(test_y, pred_values)\n",
    "#rfc_precision_score = precision_score(test_y, pred_values)\n",
    "\n",
    "#ax = plt.gca()\n",
    "#rfc_disp = plot_roc_curve(model, test_X, test_y, ax=ax, alpha=0.8)"
   ]
  },
  {
   "cell_type": "code",
   "execution_count": 18,
   "metadata": {},
   "outputs": [
    {
     "data": {
      "text/plain": [
       "[(0.04699209110396732, 'fix_meanPupilDiameter_max'),\n",
       " (0.04083026963249183, 'fix_microsaccadeAmplitude_std'),\n",
       " (0.03251854692265633, 'fix_meanPupilDiameter_mean'),\n",
       " (0.032171576131657, 'sac_starttime_min'),\n",
       " (0.03171240840664773, 'fix_microsaccadeCount_mean'),\n",
       " (0.03168778748771862, 'fix_starttime_min'),\n",
       " (0.03125483112339608, 'sac_starttime_max'),\n",
       " (0.030787054923450068, 'fix_starttime_mean'),\n",
       " (0.03067077862069879, 'fix_starttime_max'),\n",
       " (0.03056943831706545, 'sac_starttime_mean'),\n",
       " (0.02273196831707477, 'fix_microsaccadeAmplitude_max'),\n",
       " (0.020662561341559454, 'fix_microsaccadeCount_std'),\n",
       " (0.019206736429221088, 'fix_meanPupilDiameter_min'),\n",
       " (0.018397228745883485, 'fix_microsaccadeAmplitude_mean'),\n",
       " (0.0176201468919807, 'fix_microsaccadePeakVelocity_mean')]"
      ]
     },
     "execution_count": 18,
     "metadata": {},
     "output_type": "execute_result"
    }
   ],
   "source": [
    "importances = zip(model.feature_importances_, X.columns)\n",
    "importances = [i for i in importances]\n",
    "sorted(importances)[::-1][:15] #5 most important features."
   ]
  },
  {
   "cell_type": "code",
   "execution_count": 19,
   "metadata": {},
   "outputs": [
    {
     "data": {
      "text/plain": [
       "[<matplotlib.lines.Line2D at 0x1c66af06388>]"
      ]
     },
     "execution_count": 19,
     "metadata": {},
     "output_type": "execute_result"
    },
    {
     "data": {
      "image/png": "[encoded data removed]",
      "text/plain": [
       "<Figure size 432x288 with 1 Axes>"
      ]
     },
     "metadata": {
      "needs_background": "light"
     },
     "output_type": "display_data"
    }
   ],
   "source": [
    "plt.plot([i[0] for i in sorted(importances)[::-1]])"
   ]
  },
  {
   "cell_type": "markdown",
   "metadata": {},
   "source": [
    "### Export some stuff"
   ]
  },
  {
   "cell_type": "code",
   "execution_count": 20,
   "metadata": {},
   "outputs": [],
   "source": [
    "# Mapping values\n",
    "\n",
    "def normalize(feature_list):\n",
    "    feature_list = [i/np.nanmax(feature_list) for i in feature_list]\n",
    "    return feature_list"
   ]
  },
  {
   "cell_type": "code",
   "execution_count": 21,
   "metadata": {},
   "outputs": [],
   "source": [
    "export_item_1 = X[\"fix_duration_mean\"].tolist()\n",
    "export_item_2 = X[\"fix_duration_min\"].tolist()\n",
    "export_item_3 = X[\"fix_duration_max\"].tolist()\n",
    "export_item_4 = X[\"fix_duration_std\"].tolist()\n",
    "\n",
    "export_item_5 = X[\"sac_duration_mean\"].tolist()\n",
    "export_item_6 = X[\"sac_duration_min\"].tolist()\n",
    "export_item_7 = X[\"sac_duration_max\"].tolist()\n",
    "export_item_8 = X[\"sac_duration_std\"].tolist()\n",
    "\n",
    "export_item_9 = X[\"fix_meanPupilDiameter_mean\"].tolist()\n",
    "export_item_10 = X[\"fix_meanPupilDiameter_min\"].tolist()\n",
    "export_item_11 = X[\"fix_meanPupilDiameter_max\"].tolist()\n",
    "export_item_12 = X[\"fix_meanPupilDiameter_std\"].tolist()\n",
    "\n",
    "export_item_13 = X[\"fix_meanX_mean\"].tolist()\n",
    "export_item_14 = X[\"fix_meanX_min\"].tolist()\n",
    "export_item_15 = X[\"fix_meanX_max\"].tolist()\n",
    "export_item_16 = X[\"fix_meanX_std\"].tolist()\n",
    "\n",
    "export_item_17 = X[\"fix_meanY_mean\"].tolist()\n",
    "export_item_18 = X[\"fix_meanY_min\"].tolist()\n",
    "export_item_19 = X[\"fix_meanY_max\"].tolist()\n",
    "export_item_20 = X[\"fix_meanY_std\"].tolist()\n",
    "\n",
    "export_item_21 = X[\"fix_microsaccadeCount_mean\"].tolist()\n",
    "export_item_22 = X[\"fix_microsaccadeCount_min\"].tolist()\n",
    "export_item_23 = X[\"fix_microsaccadeCount_max\"].tolist()\n",
    "export_item_24 = X[\"fix_microsaccadeCount_std\"].tolist()\n",
    "\n",
    "export_item_25 = X[\"fix_microsaccadeAmplitude_mean\"].tolist()\n",
    "export_item_26 = X[\"fix_microsaccadeAmplitude_min\"].tolist()\n",
    "export_item_27 = X[\"fix_microsaccadeAmplitude_max\"].tolist()\n",
    "export_item_28 = X[\"fix_microsaccadeAmplitude_std\"].tolist()\n",
    "\n",
    "export_item_29 = X[\"fix_microsaccadePeakVelocity_mean\"].tolist()\n",
    "export_item_30 = X[\"fix_microsaccadePeakVelocity_min\"].tolist()\n",
    "export_item_31 = X[\"fix_microsaccadePeakVelocity_max\"].tolist()\n",
    "export_item_32 = X[\"fix_microsaccadePeakVelocity_std\"].tolist()\n",
    "\n",
    "export_item_33 = X[\"sac_startSaccadeX_mean\"].tolist()\n",
    "export_item_34 = X[\"sac_startSaccadeX_min\"].tolist()\n",
    "export_item_35 = X[\"sac_startSaccadeX_max\"].tolist()\n",
    "export_item_36 = X[\"sac_startSaccadeX_std\"].tolist()\n",
    "\n",
    "export_item_37 = X[\"sac_startSaccadeY_mean\"].tolist()\n",
    "export_item_38 = X[\"sac_startSaccadeY_min\"].tolist()\n",
    "export_item_39 = X[\"sac_startSaccadeY_max\"].tolist()\n",
    "export_item_40 = X[\"sac_startSaccadeY_std\"].tolist()\n",
    "\n",
    "export_item_41 = X[\"sac_endSaccadeX_mean\"].tolist()\n",
    "export_item_42 = X[\"sac_endSaccadeX_min\"].tolist()\n",
    "export_item_43 = X[\"sac_endSaccadeX_max\"].tolist()\n",
    "export_item_44 = X[\"sac_endSaccadeX_std\"].tolist()\n",
    "\n",
    "export_item_45 = X[\"sac_endSaccadeY_mean\"].tolist()\n",
    "export_item_46 = X[\"sac_endSaccadeY_min\"].tolist()\n",
    "export_item_47 = X[\"sac_endSaccadeY_max\"].tolist()\n",
    "export_item_48 = X[\"sac_endSaccadeY_std\"].tolist()"
   ]
  },
  {
   "cell_type": "code",
   "execution_count": 22,
   "metadata": {},
   "outputs": [
    {
     "data": {
      "text/plain": [
       "'\\nexport_item_1 = normalize(export_item_1)\\nexport_item_2 = normalize(export_item_2)\\nexport_item_3 = normalize(export_item_3)\\nexport_item_4 = normalize(export_item_4)\\nexport_item_5 = normalize(export_item_5)\\nexport_item_6 = normalize(export_item_6)\\nexport_item_7 = normalize(export_item_7)\\nexport_item_8 = normalize(export_item_8)\\nexport_item_9 = normalize(export_item_9)\\nexport_item_10 = normalize(export_item_10)\\nexport_item_11 = normalize(export_item_11)\\nexport_item_12 = normalize(export_item_12)\\nexport_item_13 = normalize(export_item_13)\\nexport_item_14 = normalize(export_item_14)\\nexport_item_15 = normalize(export_item_15)\\nexport_item_16 = normalize(export_item_16)\\nexport_item_17 = normalize(export_item_17)\\nexport_item_18 = normalize(export_item_18)\\nexport_item_19 = normalize(export_item_19)\\nexport_item_20 = normalize(export_item_20)\\nexport_item_21 = normalize(export_item_21)\\nexport_item_22 = normalize(export_item_22)\\nexport_item_23 = normalize(export_item_23)\\nexport_item_24 = normalize(export_item_24)\\nexport_item_25 = normalize(export_item_25)\\nexport_item_26 = normalize(export_item_26)\\nexport_item_27 = normalize(export_item_27)\\nexport_item_28 = normalize(export_item_28)\\nexport_item_29 = normalize(export_item_29)\\nexport_item_30 = normalize(export_item_30)\\nexport_item_31 = normalize(export_item_31)\\nexport_item_32 = normalize(export_item_32)\\nexport_item_33 = normalize(export_item_33)\\nexport_item_34 = normalize(export_item_34)\\nexport_item_35 = normalize(export_item_35)\\nexport_item_36 = normalize(export_item_36)\\nexport_item_37 = normalize(export_item_37)\\nexport_item_38 = normalize(export_item_38)\\nexport_item_39 = normalize(export_item_39)\\nexport_item_40 = normalize(export_item_40)\\nexport_item_41 = normalize(export_item_41)\\nexport_item_42 = normalize(export_item_42)\\nexport_item_43 = normalize(export_item_43)\\nexport_item_44 = normalize(export_item_44)\\nexport_item_45 = normalize(export_item_45)\\nexport_item_46 = normalize(export_item_46)\\nexport_item_47 = normalize(export_item_47)\\nexport_item_48 = normalize(export_item_48)\\n'"
      ]
     },
     "execution_count": 22,
     "metadata": {},
     "output_type": "execute_result"
    }
   ],
   "source": [
    "\"\"\"\n",
    "export_item_1 = normalize(export_item_1)\n",
    "export_item_2 = normalize(export_item_2)\n",
    "export_item_3 = normalize(export_item_3)\n",
    "export_item_4 = normalize(export_item_4)\n",
    "export_item_5 = normalize(export_item_5)\n",
    "export_item_6 = normalize(export_item_6)\n",
    "export_item_7 = normalize(export_item_7)\n",
    "export_item_8 = normalize(export_item_8)\n",
    "export_item_9 = normalize(export_item_9)\n",
    "export_item_10 = normalize(export_item_10)\n",
    "export_item_11 = normalize(export_item_11)\n",
    "export_item_12 = normalize(export_item_12)\n",
    "export_item_13 = normalize(export_item_13)\n",
    "export_item_14 = normalize(export_item_14)\n",
    "export_item_15 = normalize(export_item_15)\n",
    "export_item_16 = normalize(export_item_16)\n",
    "export_item_17 = normalize(export_item_17)\n",
    "export_item_18 = normalize(export_item_18)\n",
    "export_item_19 = normalize(export_item_19)\n",
    "export_item_20 = normalize(export_item_20)\n",
    "export_item_21 = normalize(export_item_21)\n",
    "export_item_22 = normalize(export_item_22)\n",
    "export_item_23 = normalize(export_item_23)\n",
    "export_item_24 = normalize(export_item_24)\n",
    "export_item_25 = normalize(export_item_25)\n",
    "export_item_26 = normalize(export_item_26)\n",
    "export_item_27 = normalize(export_item_27)\n",
    "export_item_28 = normalize(export_item_28)\n",
    "export_item_29 = normalize(export_item_29)\n",
    "export_item_30 = normalize(export_item_30)\n",
    "export_item_31 = normalize(export_item_31)\n",
    "export_item_32 = normalize(export_item_32)\n",
    "export_item_33 = normalize(export_item_33)\n",
    "export_item_34 = normalize(export_item_34)\n",
    "export_item_35 = normalize(export_item_35)\n",
    "export_item_36 = normalize(export_item_36)\n",
    "export_item_37 = normalize(export_item_37)\n",
    "export_item_38 = normalize(export_item_38)\n",
    "export_item_39 = normalize(export_item_39)\n",
    "export_item_40 = normalize(export_item_40)\n",
    "export_item_41 = normalize(export_item_41)\n",
    "export_item_42 = normalize(export_item_42)\n",
    "export_item_43 = normalize(export_item_43)\n",
    "export_item_44 = normalize(export_item_44)\n",
    "export_item_45 = normalize(export_item_45)\n",
    "export_item_46 = normalize(export_item_46)\n",
    "export_item_47 = normalize(export_item_47)\n",
    "export_item_48 = normalize(export_item_48)\n",
    "\"\"\""
   ]
  },
  {
   "cell_type": "code",
   "execution_count": 23,
   "metadata": {},
   "outputs": [],
   "source": [
    "X_to_export = []\n",
    "\n",
    "for i in range(len(export_item_1)):\n",
    "    X_to_export.append([\n",
    "        export_item_1[i],\n",
    "        export_item_2[i],\n",
    "        export_item_3[i],\n",
    "        export_item_4[i],\n",
    "        export_item_5[i],\n",
    "        export_item_6[i],\n",
    "        export_item_7[i],\n",
    "        export_item_8[i],\n",
    "        export_item_9[i],\n",
    "        export_item_10[i],\n",
    "        export_item_11[i],\n",
    "        export_item_12[i],\n",
    "        export_item_13[i],\n",
    "        export_item_14[i],\n",
    "        export_item_15[i],\n",
    "        export_item_16[i],\n",
    "        export_item_17[i],\n",
    "        export_item_18[i],\n",
    "        export_item_19[i],\n",
    "        export_item_20[i],\n",
    "        export_item_21[i],\n",
    "        export_item_22[i],\n",
    "        export_item_23[i],\n",
    "        export_item_24[i],\n",
    "        export_item_25[i],\n",
    "        export_item_26[i],\n",
    "        export_item_27[i],\n",
    "        export_item_28[i],\n",
    "        export_item_29[i],\n",
    "        export_item_30[i],\n",
    "        export_item_31[i],\n",
    "        export_item_32[i],\n",
    "        export_item_33[i],\n",
    "        export_item_34[i],\n",
    "        export_item_35[i],\n",
    "        export_item_36[i],\n",
    "        export_item_37[i],\n",
    "        export_item_38[i],\n",
    "        export_item_39[i],\n",
    "        export_item_40[i],\n",
    "        export_item_41[i],\n",
    "        export_item_42[i],\n",
    "        export_item_43[i],\n",
    "        export_item_44[i],\n",
    "        export_item_45[i],\n",
    "        export_item_46[i],\n",
    "        export_item_47[i],\n",
    "        export_item_48[i]\n",
    "    ])"
   ]
  },
  {
   "cell_type": "code",
   "execution_count": 24,
   "metadata": {},
   "outputs": [],
   "source": [
    "y_to_export = y.tolist()\n",
    "for count, item in enumerate(y_to_export):\n",
    "    if item == 1:\n",
    "        y_to_export[count] = 0\n",
    "    if item == 2:\n",
    "        y_to_export[count] = 1"
   ]
  },
  {
   "cell_type": "code",
   "execution_count": 25,
   "metadata": {},
   "outputs": [],
   "source": [
    "with open('TuEyeQ_X.csv', 'w') as f:\n",
    "    write = csv.writer(f)\n",
    "    write.writerows(X_to_export)\n",
    "\n",
    "with open('TuEyeQ_y.csv', 'w') as f:\n",
    "    writer = csv.writer(f)\n",
    "    for val in y_to_export:\n",
    "        writer.writerow([val])"
   ]
  },
  {
   "cell_type": "code",
   "execution_count": 31,
   "metadata": {},
   "outputs": [
    {
     "data": {
      "text/plain": [
       "75"
      ]
     },
     "execution_count": 31,
     "metadata": {},
     "output_type": "execute_result"
    }
   ],
   "source": [
    "len(X.columns)"
   ]
  },
  {
   "cell_type": "code",
   "execution_count": 27,
   "metadata": {},
   "outputs": [],
   "source": [
    "np.save('TuEyeQ_pred_values.npy', tuteye_pred)"
   ]
  },
  {
   "cell_type": "code",
   "execution_count": 28,
   "metadata": {},
   "outputs": [],
   "source": [
    "np.save('TuEyeQ_truey.npy', tueye_true_y)"
   ]
  },
  {
   "cell_type": "code",
   "execution_count": 29,
   "metadata": {},
   "outputs": [
    {
     "data": {
      "text/plain": [
       "2836"
      ]
     },
     "execution_count": 29,
     "metadata": {},
     "output_type": "execute_result"
    }
   ],
   "source": [
    "len(tuteye_pred)"
   ]
  },
  {
   "cell_type": "code",
   "execution_count": 30,
   "metadata": {},
   "outputs": [
    {
     "data": {
      "text/plain": [
       "2836"
      ]
     },
     "execution_count": 30,
     "metadata": {},
     "output_type": "execute_result"
    }
   ],
   "source": [
    "len(tueye_true_y)"
   ]
  },
  {
   "cell_type": "code",
   "execution_count": null,
   "metadata": {},
   "outputs": [],
   "source": []
  }
 ],
 "metadata": {
  "kernelspec": {
   "display_name": "Python 3 (ipykernel)",
   "language": "python",
   "name": "python3"
  },
  "language_info": {
   "codemirror_mode": {
    "name": "ipython",
    "version": 3
   },
   "file_extension": ".py",
   "mimetype": "text/x-python",
   "name": "python",
   "nbconvert_exporter": "python",
   "pygments_lexer": "ipython3",
   "version": "3.7.11"
  }
 },
 "nbformat": 4,
 "nbformat_minor": 4
}
