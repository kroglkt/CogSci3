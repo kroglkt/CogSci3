{
 "cells": [
  {
   "cell_type": "code",
   "execution_count": 1,
   "metadata": {},
   "outputs": [],
   "source": [
    "import pandas as pd\n",
    "import numpy as np\n",
    "import keras\n",
    "from tqdm.notebook import tqdm\n",
    "from IPython.display import display\n",
    "import sklearn\n",
    "from matplotlib import pyplot as plt\n",
    "from keras.layers import LSTM, Dropout, Dense, BatchNormalization, TimeDistributed, Input, Masking, Embedding\n",
    "from sklearn.metrics import roc_curve, confusion_matrix\n",
    "from sklearn.model_selection import train_test_split\n",
    "from sklearn.dummy import DummyClassifier\n",
    "from sklearn.ensemble import RandomForestClassifier\n",
    "#https://machinelearningmastery.com/how-to-develop-rnn-models-for-human-activity-recognition-time-series-classification/"
   ]
  },
  {
   "cell_type": "code",
   "execution_count": 2,
   "metadata": {},
   "outputs": [],
   "source": [
    "def plot_roc_cur(fper, tper, label=\"\", line=\"\", title=\"plot title\"):\n",
    "    plt.plot(fper, tper, line, label=label)\n",
    "    #plt.plot([0, 1], [0, 1], color='darkblue', linestyle='--')\n",
    "    plt.xlabel('False Positive Rate')\n",
    "    plt.ylabel('True Positive Rate')\n",
    "    plt.title(title)\n",
    "    plt.legend(loc='lower right')\n",
    "    \n",
    "def create_roc_curve(preds, targets, label=\"\", line=\"\", title=\"\"):\n",
    "    all_fpr, all_tpr = [], []\n",
    "    fpr, tpr, thresholds = roc_curve(targets, preds)\n",
    "    all_fpr.append(fpr)\n",
    "    all_tpr.append(tpr)\n",
    "    all_fpr = np.array(all_fpr)\n",
    "    all_tpr = np.array(tpr)\n",
    "    \n",
    "    plot_roc_cur(all_fpr[0], all_tpr, label=label, line=line, title=title) "
   ]
  },
  {
   "cell_type": "markdown",
   "metadata": {},
   "source": [
    "To do:\n",
    "\n",
    "- Load alle trials i stedte for data (all_readings = np.load('all_readings.npy', allow_pickle=True))\n",
    "- Ryd op i de trials.\n",
    "- Generér uniform trials (3D array med [batch, samples,features])\n",
    "    - Altså, cellen med #Make all trials same length - Save this cell\n",
    "    - batch er alle dine træningspunkter\n",
    "    - samples er dine time series (små udklip af eye tracking)\n",
    "    - features er... ja, features.\n",
    "- Få LSTM til at virke med din data - skidevære med metrics.\n",
    "- Når det virker kan du rode rundt med ordentlig klassifikation\n",
    "- Evt separer saccades og fixations?"
   ]
  },
  {
   "cell_type": "code",
   "execution_count": 88,
   "metadata": {},
   "outputs": [],
   "source": [
    "target = 'gender' #'age'\n",
    "even_gender = False\n",
    "\n",
    "sample_length = 8\n",
    "batch_size=10\n",
    "\n",
    "seed = 42\n",
    "\n",
    "epochs=100\n",
    "verbose=True\n",
    "\n",
    "\n",
    "np.random.seed(seed) "
   ]
  },
  {
   "cell_type": "code",
   "execution_count": 79,
   "metadata": {},
   "outputs": [],
   "source": [
    "data = np.load('all_readings.npy', allow_pickle=True)\n",
    "data = [i for i in data if len(i)>sample_length]\n",
    "\n",
    "if even_gender:\n",
    "    data = data[:-52]"
   ]
  },
  {
   "cell_type": "code",
   "execution_count": 80,
   "metadata": {},
   "outputs": [],
   "source": [
    "def make_trials_uniform(trials):\n",
    "    uniform_X = []\n",
    "    uniform_y = []\n",
    "    show = True\n",
    "    for trial in tqdm(trials):\n",
    "        X, y = cleanup_reading(trial, show=show)\n",
    "        show=False\n",
    "        length = X.shape[0]\n",
    "        for i in range(sample_length, length-length%sample_length, sample_length):\n",
    "            uniform_X.append(X.iloc[i-sample_length:i])\n",
    "            uniform_y.append(y.values[0])\n",
    "    \n",
    "    return np.array(uniform_X), np.array(uniform_y)\n",
    "\n",
    "def experimental(trial):    \n",
    "    trial = trial[trial['eventType']==0]\n",
    "    trial = trial.drop('eventType', axis=1)\n",
    "    trial = trial.replace(0,np.nan).dropna(axis=1,how=\"all\")\n",
    "    return trial[['duration','meanPupilDiameter']]\n",
    "\n",
    "def cleanup_reading(trial, show=False):\n",
    "    trial = trial[trial.columns[1:]]\n",
    "    trial = trial[trial['eye']=='left']\n",
    "    trial = trial.drop('eye',1)\n",
    "    trial = trial.drop('eventIdxLeft',1)\n",
    "    trial = trial.drop('eventIdxRight',1)\n",
    "    \n",
    "    fixations = trial[trial['eventType']=='fixation']\n",
    "    saccades = trial[trial['eventType']=='saccade']\n",
    "    \n",
    "    fixations = fixations.reset_index()\n",
    "    fixations = fixations.drop(['startSaccadeX', 'startSaccadeY', 'endSaccadeX', 'endSaccadeY',\n",
    "                                'age', 'gender', 'index', 'eventType'], axis=1)\n",
    "    fixations = fixations.rename(columns={\"duration\": \"fix_duration\"})\n",
    "    \n",
    "    saccades = saccades.reset_index()\n",
    "    saccades = saccades.drop(['meanX', 'meanY', 'microsaccadeCount', 'microsaccadeAmplitude', 'meanPupilDiameter',\n",
    "                              'microsaccadePeakVelocity', 'index', 'eventType'], axis=1)\n",
    "    saccades = saccades.rename(columns={\"duration\": \"sac_duration\"})\n",
    "    \n",
    "    trial = pd.concat([fixations, saccades], axis=1)\n",
    "    feats = trial.columns\n",
    "    trial = trial.reset_index()\n",
    "    trial = trial.fillna(0)\n",
    "    \n",
    "    if show:\n",
    "        print(\"Your features\")\n",
    "        display(trial.head())\n",
    "        \n",
    "    return trial[feats[:-2]], trial[feats[-2:]]"
   ]
  },
  {
   "cell_type": "code",
   "execution_count": 81,
   "metadata": {
    "scrolled": true
   },
   "outputs": [
    {
     "data": {
      "application/vnd.jupyter.widget-view+json": {
       "model_id": "076da104d53248baad1b2761dfacdf50",
       "version_major": 2,
       "version_minor": 0
      },
      "text/plain": [
       "  0%|          | 0/5604 [00:00<?, ?it/s]"
      ]
     },
     "metadata": {},
     "output_type": "display_data"
    },
    {
     "name": "stdout",
     "output_type": "stream",
     "text": [
      "Your features\n"
     ]
    },
    {
     "data": {
      "text/html": [
       "<div>\n",
       "<style scoped>\n",
       "    .dataframe tbody tr th:only-of-type {\n",
       "        vertical-align: middle;\n",
       "    }\n",
       "\n",
       "    .dataframe tbody tr th {\n",
       "        vertical-align: top;\n",
       "    }\n",
       "\n",
       "    .dataframe thead th {\n",
       "        text-align: right;\n",
       "    }\n",
       "</style>\n",
       "<table border=\"1\" class=\"dataframe\">\n",
       "  <thead>\n",
       "    <tr style=\"text-align: right;\">\n",
       "      <th></th>\n",
       "      <th>index</th>\n",
       "      <th>fix_duration</th>\n",
       "      <th>meanPupilDiameter</th>\n",
       "      <th>meanX</th>\n",
       "      <th>meanY</th>\n",
       "      <th>microsaccadeCount</th>\n",
       "      <th>microsaccadeAmplitude</th>\n",
       "      <th>microsaccadePeakVelocity</th>\n",
       "      <th>sac_duration</th>\n",
       "      <th>startSaccadeX</th>\n",
       "      <th>startSaccadeY</th>\n",
       "      <th>endSaccadeX</th>\n",
       "      <th>endSaccadeY</th>\n",
       "      <th>gender</th>\n",
       "      <th>age</th>\n",
       "    </tr>\n",
       "  </thead>\n",
       "  <tbody>\n",
       "    <tr>\n",
       "      <th>0</th>\n",
       "      <td>0</td>\n",
       "      <td>184</td>\n",
       "      <td>3.972576</td>\n",
       "      <td>424.644213</td>\n",
       "      <td>354.011191</td>\n",
       "      <td>1.0</td>\n",
       "      <td>8.331842</td>\n",
       "      <td>21.142133</td>\n",
       "      <td>24</td>\n",
       "      <td>617.138</td>\n",
       "      <td>359.275</td>\n",
       "      <td>425.413</td>\n",
       "      <td>366.586</td>\n",
       "      <td>2.0</td>\n",
       "      <td>19.0</td>\n",
       "    </tr>\n",
       "    <tr>\n",
       "      <th>1</th>\n",
       "      <td>1</td>\n",
       "      <td>239</td>\n",
       "      <td>4.007568</td>\n",
       "      <td>475.469623</td>\n",
       "      <td>388.937262</td>\n",
       "      <td>0.0</td>\n",
       "      <td>0.000000</td>\n",
       "      <td>0.000000</td>\n",
       "      <td>8</td>\n",
       "      <td>430.143</td>\n",
       "      <td>389.097</td>\n",
       "      <td>470.964</td>\n",
       "      <td>389.097</td>\n",
       "      <td>2.0</td>\n",
       "      <td>19.0</td>\n",
       "    </tr>\n",
       "    <tr>\n",
       "      <th>2</th>\n",
       "      <td>2</td>\n",
       "      <td>460</td>\n",
       "      <td>3.971196</td>\n",
       "      <td>527.820621</td>\n",
       "      <td>386.600733</td>\n",
       "      <td>1.0</td>\n",
       "      <td>10.866820</td>\n",
       "      <td>30.656857</td>\n",
       "      <td>16</td>\n",
       "      <td>474.449</td>\n",
       "      <td>386.908</td>\n",
       "      <td>528.482</td>\n",
       "      <td>371.122</td>\n",
       "      <td>2.0</td>\n",
       "      <td>19.0</td>\n",
       "    </tr>\n",
       "    <tr>\n",
       "      <th>3</th>\n",
       "      <td>3</td>\n",
       "      <td>128</td>\n",
       "      <td>3.905687</td>\n",
       "      <td>854.527970</td>\n",
       "      <td>534.765970</td>\n",
       "      <td>0.0</td>\n",
       "      <td>0.000000</td>\n",
       "      <td>0.000000</td>\n",
       "      <td>40</td>\n",
       "      <td>525.930</td>\n",
       "      <td>381.571</td>\n",
       "      <td>837.258</td>\n",
       "      <td>507.402</td>\n",
       "      <td>2.0</td>\n",
       "      <td>19.0</td>\n",
       "    </tr>\n",
       "    <tr>\n",
       "      <th>4</th>\n",
       "      <td>4</td>\n",
       "      <td>208</td>\n",
       "      <td>3.900606</td>\n",
       "      <td>949.051208</td>\n",
       "      <td>515.684377</td>\n",
       "      <td>0.0</td>\n",
       "      <td>0.000000</td>\n",
       "      <td>0.000000</td>\n",
       "      <td>20</td>\n",
       "      <td>861.851</td>\n",
       "      <td>551.706</td>\n",
       "      <td>939.399</td>\n",
       "      <td>523.784</td>\n",
       "      <td>2.0</td>\n",
       "      <td>19.0</td>\n",
       "    </tr>\n",
       "  </tbody>\n",
       "</table>\n",
       "</div>"
      ],
      "text/plain": [
       "   index  fix_duration  meanPupilDiameter       meanX       meanY  \\\n",
       "0      0           184           3.972576  424.644213  354.011191   \n",
       "1      1           239           4.007568  475.469623  388.937262   \n",
       "2      2           460           3.971196  527.820621  386.600733   \n",
       "3      3           128           3.905687  854.527970  534.765970   \n",
       "4      4           208           3.900606  949.051208  515.684377   \n",
       "\n",
       "   microsaccadeCount  microsaccadeAmplitude  microsaccadePeakVelocity  \\\n",
       "0                1.0               8.331842                 21.142133   \n",
       "1                0.0               0.000000                  0.000000   \n",
       "2                1.0              10.866820                 30.656857   \n",
       "3                0.0               0.000000                  0.000000   \n",
       "4                0.0               0.000000                  0.000000   \n",
       "\n",
       "   sac_duration  startSaccadeX  startSaccadeY  endSaccadeX  endSaccadeY  \\\n",
       "0            24        617.138        359.275      425.413      366.586   \n",
       "1             8        430.143        389.097      470.964      389.097   \n",
       "2            16        474.449        386.908      528.482      371.122   \n",
       "3            40        525.930        381.571      837.258      507.402   \n",
       "4            20        861.851        551.706      939.399      523.784   \n",
       "\n",
       "   gender   age  \n",
       "0     2.0  19.0  \n",
       "1     2.0  19.0  \n",
       "2     2.0  19.0  \n",
       "3     2.0  19.0  \n",
       "4     2.0  19.0  "
      ]
     },
     "metadata": {},
     "output_type": "display_data"
    },
    {
     "name": "stdout",
     "output_type": "stream",
     "text": [
      "X shape: (7048, 8, 12), y shape: (7048, 1)\n"
     ]
    }
   ],
   "source": [
    "np.random.shuffle(data)\n",
    "X,y = make_trials_uniform(data)\n",
    "X,y = sklearn.utils.shuffle(X, y, random_state=seed)\n",
    "y = y-1\n",
    "\n",
    "if target == 'gender':\n",
    "    y = y[:,0] #Only tage gender\n",
    "else:\n",
    "    y = y[:,1]\n",
    "\n",
    "y = y.reshape(-1, 1)\n",
    "print(f'X shape: {X.shape}, y shape: {y.shape}')\n",
    "\n",
    "X_train, X_test, y_train, y_test = train_test_split(X,y,random_state=seed)"
   ]
  },
  {
   "cell_type": "code",
   "execution_count": 89,
   "metadata": {},
   "outputs": [
    {
     "name": "stdout",
     "output_type": "stream",
     "text": [
      "Model: \"sequential_106\"\n",
      "_________________________________________________________________\n",
      "Layer (type)                 Output Shape              Param #   \n",
      "=================================================================\n",
      "batch_normalization_106 (Bat (None, 8, 12)             48        \n",
      "_________________________________________________________________\n",
      "lstm_170 (LSTM)              (None, 8, 46)             10856     \n",
      "_________________________________________________________________\n",
      "lstm_171 (LSTM)              (None, 8, 600)            1552800   \n",
      "_________________________________________________________________\n",
      "dense_212 (Dense)            (None, 8, 720)            432720    \n",
      "_________________________________________________________________\n",
      "dropout_106 (Dropout)        (None, 8, 720)            0         \n",
      "_________________________________________________________________\n",
      "dense_213 (Dense)            (None, 8, 1)              721       \n",
      "=================================================================\n",
      "Total params: 1,997,145\n",
      "Trainable params: 1,997,121\n",
      "Non-trainable params: 24\n",
      "_________________________________________________________________\n"
     ]
    }
   ],
   "source": [
    "model = keras.Sequential()\n",
    "model.add(Input(shape=(X_train[0].shape)))\n",
    "model.add(BatchNormalization())\n",
    "model.add(LSTM(46, return_sequences=True))\n",
    "model.add(LSTM(600, return_sequences=True))\n",
    "model.add(Dense(720, activation='relu'))\n",
    "model.add(Dropout(0.5))\n",
    "model.add(Dense(1, activation=\"sigmoid\"))\n",
    "\n",
    "model.compile(loss=\"binary_crossentropy\"\n",
    "              , metrics=[keras.metrics.binary_accuracy]\n",
    "              , optimizer=\"adam\")\n",
    "\n",
    "\n",
    "model.summary()"
   ]
  },
  {
   "cell_type": "code",
   "execution_count": 90,
   "metadata": {},
   "outputs": [
    {
     "name": "stdout",
     "output_type": "stream",
     "text": [
      "Epoch 1/100\n",
      "476/476 [==============================] - 25s 53ms/step - loss: 0.6794 - binary_accuracy: 0.5778 - val_loss: 0.6606 - val_binary_accuracy: 0.6144\n",
      "Epoch 2/100\n",
      "476/476 [==============================] - 25s 52ms/step - loss: 0.6660 - binary_accuracy: 0.6014 - val_loss: 0.6524 - val_binary_accuracy: 0.6328\n",
      "Epoch 3/100\n",
      "476/476 [==============================] - 26s 54ms/step - loss: 0.6614 - binary_accuracy: 0.6086 - val_loss: 0.6631 - val_binary_accuracy: 0.6191\n",
      "Epoch 4/100\n",
      "476/476 [==============================] - 28s 58ms/step - loss: 0.6611 - binary_accuracy: 0.6127 - val_loss: 0.6528 - val_binary_accuracy: 0.6274\n",
      "Epoch 5/100\n",
      "476/476 [==============================] - 26s 55ms/step - loss: 0.6536 - binary_accuracy: 0.6200 - val_loss: 0.6571 - val_binary_accuracy: 0.6203\n",
      "Epoch 6/100\n",
      "476/476 [==============================] - 26s 54ms/step - loss: 0.6533 - binary_accuracy: 0.6198 - val_loss: 0.6569 - val_binary_accuracy: 0.6160\n",
      "Epoch 7/100\n",
      "476/476 [==============================] - 25s 53ms/step - loss: 0.6539 - binary_accuracy: 0.6221 - val_loss: 0.6592 - val_binary_accuracy: 0.6167\n",
      "Epoch 8/100\n",
      "476/476 [==============================] - 26s 54ms/step - loss: 0.6517 - binary_accuracy: 0.6195 - val_loss: 0.6506 - val_binary_accuracy: 0.6373\n",
      "Epoch 9/100\n",
      "476/476 [==============================] - 25s 52ms/step - loss: 0.6484 - binary_accuracy: 0.6264 - val_loss: 0.6403 - val_binary_accuracy: 0.6453\n",
      "Epoch 10/100\n",
      "476/476 [==============================] - 26s 54ms/step - loss: 0.6450 - binary_accuracy: 0.6257 - val_loss: 0.6377 - val_binary_accuracy: 0.6411\n",
      "Epoch 11/100\n",
      "476/476 [==============================] - 27s 56ms/step - loss: 0.6405 - binary_accuracy: 0.6352 - val_loss: 0.6283 - val_binary_accuracy: 0.6460\n",
      "Epoch 12/100\n",
      "476/476 [==============================] - 26s 54ms/step - loss: 0.6404 - binary_accuracy: 0.6282 - val_loss: 0.6384 - val_binary_accuracy: 0.6437\n",
      "Epoch 13/100\n",
      "476/476 [==============================] - 26s 55ms/step - loss: 0.6357 - binary_accuracy: 0.6321 - val_loss: 0.6478 - val_binary_accuracy: 0.6229\n",
      "Epoch 14/100\n",
      "476/476 [==============================] - 27s 57ms/step - loss: 0.6308 - binary_accuracy: 0.6383 - val_loss: 0.6400 - val_binary_accuracy: 0.6484\n",
      "Epoch 15/100\n",
      "476/476 [==============================] - 27s 57ms/step - loss: 0.6325 - binary_accuracy: 0.6390 - val_loss: 0.6308 - val_binary_accuracy: 0.6529\n",
      "Epoch 16/100\n",
      "476/476 [==============================] - 25s 53ms/step - loss: 0.6319 - binary_accuracy: 0.6424 - val_loss: 0.6408 - val_binary_accuracy: 0.6408\n",
      "Epoch 17/100\n",
      "476/476 [==============================] - 25s 53ms/step - loss: 0.6235 - binary_accuracy: 0.6454 - val_loss: 0.6285 - val_binary_accuracy: 0.6489\n",
      "Epoch 18/100\n",
      "476/476 [==============================] - 26s 55ms/step - loss: 0.6255 - binary_accuracy: 0.6445 - val_loss: 0.6252 - val_binary_accuracy: 0.6519\n",
      "Epoch 19/100\n",
      "476/476 [==============================] - 26s 54ms/step - loss: 0.6232 - binary_accuracy: 0.6446 - val_loss: 0.6298 - val_binary_accuracy: 0.6486\n",
      "Epoch 20/100\n",
      "476/476 [==============================] - 25s 53ms/step - loss: 0.6203 - binary_accuracy: 0.6510 - val_loss: 0.6229 - val_binary_accuracy: 0.6557\n",
      "Epoch 21/100\n",
      "476/476 [==============================] - 25s 53ms/step - loss: 0.6171 - binary_accuracy: 0.6514 - val_loss: 0.6463 - val_binary_accuracy: 0.6212\n",
      "Epoch 22/100\n",
      "476/476 [==============================] - 26s 54ms/step - loss: 0.6133 - binary_accuracy: 0.6551 - val_loss: 0.6248 - val_binary_accuracy: 0.6489\n",
      "Epoch 23/100\n",
      "476/476 [==============================] - 26s 54ms/step - loss: 0.6090 - binary_accuracy: 0.6613 - val_loss: 0.6173 - val_binary_accuracy: 0.6680\n",
      "Epoch 24/100\n",
      "476/476 [==============================] - 26s 54ms/step - loss: 0.6047 - binary_accuracy: 0.6660 - val_loss: 0.6358 - val_binary_accuracy: 0.6380\n",
      "Epoch 25/100\n",
      "476/476 [==============================] - 25s 53ms/step - loss: 0.6032 - binary_accuracy: 0.6608 - val_loss: 0.6292 - val_binary_accuracy: 0.6664\n",
      "Epoch 26/100\n",
      "476/476 [==============================] - 26s 54ms/step - loss: 0.5976 - binary_accuracy: 0.6702 - val_loss: 0.6287 - val_binary_accuracy: 0.6550\n",
      "Epoch 27/100\n",
      "476/476 [==============================] - 26s 55ms/step - loss: 0.5930 - binary_accuracy: 0.6754 - val_loss: 0.6303 - val_binary_accuracy: 0.6512\n",
      "Epoch 28/100\n",
      "476/476 [==============================] - 26s 54ms/step - loss: 0.5944 - binary_accuracy: 0.6709 - val_loss: 0.6327 - val_binary_accuracy: 0.6512\n",
      "Epoch 29/100\n",
      "476/476 [==============================] - 27s 56ms/step - loss: 0.5877 - binary_accuracy: 0.6741 - val_loss: 0.6230 - val_binary_accuracy: 0.6638\n",
      "Epoch 30/100\n",
      "476/476 [==============================] - 26s 55ms/step - loss: 0.5778 - binary_accuracy: 0.6880 - val_loss: 0.6334 - val_binary_accuracy: 0.6534\n",
      "Epoch 31/100\n",
      "476/476 [==============================] - 25s 53ms/step - loss: 0.5807 - binary_accuracy: 0.6864 - val_loss: 0.6344 - val_binary_accuracy: 0.6545\n",
      "Epoch 32/100\n",
      "476/476 [==============================] - 28s 58ms/step - loss: 0.5779 - binary_accuracy: 0.6871 - val_loss: 0.6349 - val_binary_accuracy: 0.6569\n",
      "Epoch 33/100\n",
      "476/476 [==============================] - 27s 57ms/step - loss: 0.5644 - binary_accuracy: 0.6977 - val_loss: 0.6421 - val_binary_accuracy: 0.6526\n"
     ]
    }
   ],
   "source": [
    "callback = keras.callbacks.EarlyStopping(monitor='val_loss', patience=10)\n",
    "history = model.fit(X_train, y_train, validation_split=0.1, epochs=epochs, \n",
    "                         batch_size=batch_size, callbacks=[callback])"
   ]
  },
  {
   "cell_type": "code",
   "execution_count": 92,
   "metadata": {},
   "outputs": [
    {
     "data": {
      "image/png": "[encoded data removed]",
      "text/plain": [
       "<Figure size 576x432 with 1 Axes>"
      ]
     },
     "metadata": {
      "needs_background": "light"
     },
     "output_type": "display_data"
    }
   ],
   "source": [
    "fig=plt.figure(figsize=(8,6))\n",
    "plt.plot(history.history['loss'], label=\"loss\");\n",
    "plt.plot(history.history['binary_accuracy'], label=\"acc\");\n",
    "plt.plot(history.history['val_loss'], '--', label=\"val loss\");\n",
    "plt.plot(history.history['val_binary_accuracy'], '--', label=\"val acc\");\n",
    "plt.legend();"
   ]
  },
  {
   "cell_type": "code",
   "execution_count": 98,
   "metadata": {
    "scrolled": true
   },
   "outputs": [
    {
     "data": {
      "image/png": "[encoded data removed]",
      "text/plain": [
       "<Figure size 432x288 with 1 Axes>"
      ]
     },
     "metadata": {
      "needs_background": "light"
     },
     "output_type": "display_data"
    }
   ],
   "source": [
    "dummy = DummyClassifier()\n",
    "dummy.fit(X_train, y_train)\n",
    "\n",
    "create_roc_curve(model.predict(X_test).mean(axis=1), y_test, label=\"LSTM\")\n",
    "create_roc_curve(dummy.predict(X_test), y_test, label=\"Baseline\", title=\"ROC Curve - TüEyeQ\")"
   ]
  },
  {
   "cell_type": "code",
   "execution_count": 18,
   "metadata": {},
   "outputs": [
    {
     "name": "stdout",
     "output_type": "stream",
     "text": [
      "56/56 [==============================] - 0s 2ms/step - loss: 0.6578 - accuracy: 0.6320\n"
     ]
    },
    {
     "data": {
      "text/plain": [
       "[0.6578251123428345, 0.6319523453712463]"
      ]
     },
     "execution_count": 18,
     "metadata": {},
     "output_type": "execute_result"
    }
   ],
   "source": [
    "model.evaluate(X_test, y_test)"
   ]
  },
  {
   "cell_type": "code",
   "execution_count": null,
   "metadata": {},
   "outputs": [],
   "source": [
    "best_acc"
   ]
  },
  {
   "cell_type": "code",
   "execution_count": 36,
   "metadata": {},
   "outputs": [],
   "source": [
    "accuracies = [i[1].history['val_accuracy'][-1] for i in models]"
   ]
  },
  {
   "cell_type": "code",
   "execution_count": 43,
   "metadata": {
    "collapsed": true
   },
   "outputs": [
    {
     "name": "stdout",
     "output_type": "stream",
     "text": [
      "56/56 [==============================] - 3s 55ms/step - loss: 0.6514 - accuracy: 0.6210\n",
      "56/56 [==============================] - 2s 36ms/step - loss: 0.6799 - accuracy: 0.6094\n",
      "56/56 [==============================] - 0s 4ms/step - loss: 0.6977 - accuracy: 0.6202\n",
      "56/56 [==============================] - 0s 4ms/step - loss: 0.7122 - accuracy: 0.6261\n",
      "56/56 [==============================] - 3s 48ms/step - loss: 0.7659 - accuracy: 0.6158\n",
      "56/56 [==============================] - 1s 12ms/step - loss: 0.7342 - accuracy: 0.6018\n",
      "56/56 [==============================] - 3s 51ms/step - loss: 0.7847 - accuracy: 0.6031\n",
      "56/56 [==============================] - 3s 46ms/step - loss: 0.6801 - accuracy: 0.6113\n",
      "56/56 [==============================] - 1s 23ms/step - loss: 0.7666 - accuracy: 0.6033\n",
      "56/56 [==============================] - 1s 15ms/step - loss: 0.7599 - accuracy: 0.6000\n",
      "56/56 [==============================] - 2s 42ms/step - loss: 0.7597 - accuracy: 0.6091\n",
      "56/56 [==============================] - 2s 39ms/step - loss: 0.7734 - accuracy: 0.6100\n",
      "56/56 [==============================] - 1s 18ms/step - loss: 0.7520 - accuracy: 0.5986\n",
      "56/56 [==============================] - 3s 62ms/step - loss: 0.7936 - accuracy: 0.5892\n",
      "56/56 [==============================] - 2s 31ms/step - loss: 0.7901 - accuracy: 0.6033\n",
      "56/56 [==============================] - 0s 1ms/step - loss: 0.6395 - accuracy: 0.6311\n",
      "56/56 [==============================] - 1s 9ms/step - loss: 0.7101 - accuracy: 0.6054\n",
      "56/56 [==============================] - 2s 35ms/step - loss: 0.7229 - accuracy: 0.6180\n",
      "56/56 [==============================] - 1s 26ms/step - loss: 0.7301 - accuracy: 0.6093\n",
      "56/56 [==============================] - ETA: 0s - loss: 0.8296 - accuracy: 0.59 - 1s 19ms/step - loss: 0.8297 - accuracy: 0.5994\n",
      "56/56 [==============================] - 1s 17ms/step - loss: 0.6980 - accuracy: 0.6022\n",
      "56/56 [==============================] - 0s 2ms/step - loss: 0.6513 - accuracy: 0.6229\n",
      "56/56 [==============================] - 0s 1ms/step - loss: 0.6330 - accuracy: 0.6285\n",
      "56/56 [==============================] - 0s 4ms/step - loss: 0.6531 - accuracy: 0.6244\n",
      "56/56 [==============================] - 2s 34ms/step - loss: 0.8401 - accuracy: 0.6037\n",
      "56/56 [==============================] - 2s 28ms/step - loss: 0.8534 - accuracy: 0.5989\n",
      "56/56 [==============================] - 3s 51ms/step - loss: 0.8169 - accuracy: 0.5938\n",
      "56/56 [==============================] - 1s 15ms/step - loss: 0.8332 - accuracy: 0.5953\n",
      "56/56 [==============================] - 2s 40ms/step - loss: 0.7941 - accuracy: 0.6029\n",
      "56/56 [==============================] - 1s 26ms/step - loss: 0.6485 - accuracy: 0.6387\n",
      "56/56 [==============================] - 0s 2ms/step - loss: 0.7155 - accuracy: 0.6104\n",
      "56/56 [==============================] - 0s 8ms/step - loss: 0.7702 - accuracy: 0.6004\n",
      "56/56 [==============================] - 1s 20ms/step - loss: 0.6974 - accuracy: 0.6133\n",
      "56/56 [==============================] - 0s 8ms/step - loss: 0.7201 - accuracy: 0.6100\n",
      "56/56 [==============================] - 2s 33ms/step - loss: 0.6601 - accuracy: 0.6143\n",
      "56/56 [==============================] - 3s 47ms/step - loss: 0.8099 - accuracy: 0.5935\n",
      "56/56 [==============================] - 2s 34ms/step - loss: 0.7094 - accuracy: 0.5994\n",
      "56/56 [==============================] - 1s 22ms/step - loss: 0.7458 - accuracy: 0.6058\n",
      "56/56 [==============================] - 1s 23ms/step - loss: 0.7407 - accuracy: 0.6166\n",
      "56/56 [==============================] - 1s 12ms/step - loss: 0.6679 - accuracy: 0.6036\n",
      "56/56 [==============================] - 0s 8ms/step - loss: 0.7202 - accuracy: 0.6062\n",
      "56/56 [==============================] - 1s 20ms/step - loss: 0.7203 - accuracy: 0.6105\n",
      "56/56 [==============================] - 1s 17ms/step - loss: 0.6675 - accuracy: 0.6149 0s - loss: 0.6692 - accuracy: \n",
      "56/56 [==============================] - 2s 31ms/step - loss: 0.7026 - accuracy: 0.6091 0s - loss: 0.718\n",
      "56/56 [==============================] - 1s 10ms/step - loss: 0.6942 - accuracy: 0.6078\n",
      "56/56 [==============================] - 2s 38ms/step - loss: 0.8554 - accuracy: 0.5923\n",
      "56/56 [==============================] - 1s 20ms/step - loss: 0.6984 - accuracy: 0.6093\n",
      "56/56 [==============================] - 1s 12ms/step - loss: 0.7929 - accuracy: 0.5990\n",
      "56/56 [==============================] - 1s 21ms/step - loss: 0.7847 - accuracy: 0.6063\n",
      "56/56 [==============================] - 1s 11ms/step - loss: 0.6562 - accuracy: 0.6161\n",
      "56/56 [==============================] - 2s 31ms/step - loss: 0.6805 - accuracy: 0.6234\n",
      "56/56 [==============================] - 2s 43ms/step - loss: 0.7318 - accuracy: 0.6070\n",
      "56/56 [==============================] - 0s 4ms/step - loss: 0.6712 - accuracy: 0.6220\n",
      "56/56 [==============================] - 1s 22ms/step - loss: 0.6832 - accuracy: 0.6189\n",
      "56/56 [==============================] - 0s 2ms/step - loss: 0.6654 - accuracy: 0.6197\n",
      "56/56 [==============================] - 0s 6ms/step - loss: 0.7073 - accuracy: 0.6097\n",
      "56/56 [==============================] - 1s 16ms/step - loss: 0.7561 - accuracy: 0.6044\n",
      "56/56 [==============================] - 4s 67ms/step - loss: 0.8286 - accuracy: 0.5935\n",
      "56/56 [==============================] - 0s 1ms/step - loss: 0.6513 - accuracy: 0.6237\n",
      "56/56 [==============================] - 1s 20ms/step - loss: 0.6907 - accuracy: 0.6102\n",
      "56/56 [==============================] - 3s 47ms/step - loss: 0.6711 - accuracy: 0.6129\n",
      "56/56 [==============================] - 1s 24ms/step - loss: 0.6649 - accuracy: 0.6228\n",
      "56/56 [==============================] - 1s 21ms/step - loss: 0.7216 - accuracy: 0.6049\n",
      "56/56 [==============================] - 1s 16ms/step - loss: 0.7654 - accuracy: 0.5979\n",
      "56/56 [==============================] - 1s 21ms/step - loss: 0.6491 - accuracy: 0.6237\n",
      "56/56 [==============================] - 0s 2ms/step - loss: 0.6573 - accuracy: 0.6246\n",
      "56/56 [==============================] - 4s 66ms/step - loss: 0.8366 - accuracy: 0.5934\n",
      "56/56 [==============================] - 1s 9ms/step - loss: 0.7548 - accuracy: 0.6080\n",
      "56/56 [==============================] - 1s 9ms/step - loss: 0.7049 - accuracy: 0.6167\n",
      "56/56 [==============================] - 1s 15ms/step - loss: 0.6640 - accuracy: 0.6100\n",
      "56/56 [==============================] - 2s 28ms/step - loss: 0.7860 - accuracy: 0.5968\n",
      "56/56 [==============================] - 1s 25ms/step - loss: 0.7215 - accuracy: 0.6093\n",
      "56/56 [==============================] - 1s 19ms/step - loss: 0.7153 - accuracy: 0.6076\n",
      "56/56 [==============================] - 1s 20ms/step - loss: 0.8825 - accuracy: 0.5922\n",
      "56/56 [==============================] - 1s 26ms/step - loss: 0.7550 - accuracy: 0.6179\n",
      "56/56 [==============================] - 2s 30ms/step - loss: 0.7264 - accuracy: 0.6142\n",
      "56/56 [==============================] - 2s 29ms/step - loss: 0.6838 - accuracy: 0.6087\n",
      "56/56 [==============================] - 1s 9ms/step - loss: 0.7474 - accuracy: 0.6033\n",
      "56/56 [==============================] - 2s 41ms/step - loss: 0.7514 - accuracy: 0.6090\n",
      "56/56 [==============================] - 0s 1ms/step - loss: 0.6564 - accuracy: 0.6275\n",
      "56/56 [==============================] - 0s 3ms/step - loss: 0.6640 - accuracy: 0.6268\n",
      "56/56 [==============================] - 2s 34ms/step - loss: 0.8045 - accuracy: 0.6014\n",
      "56/56 [==============================] - 2s 37ms/step - loss: 0.6576 - accuracy: 0.6239\n",
      "56/56 [==============================] - 3s 49ms/step - loss: 0.6630 - accuracy: 0.6212\n",
      "56/56 [==============================] - 4s 76ms/step - loss: 0.8134 - accuracy: 0.6062\n",
      "56/56 [==============================] - 0s 8ms/step - loss: 0.7465 - accuracy: 0.6110\n",
      "56/56 [==============================] - 0s 2ms/step - loss: 0.7065 - accuracy: 0.6093\n",
      "56/56 [==============================] - 1s 22ms/step - loss: 0.7867 - accuracy: 0.5988\n",
      "56/56 [==============================] - 3s 57ms/step - loss: 0.7808 - accuracy: 0.6051\n",
      "56/56 [==============================] - 0s 4ms/step - loss: 0.7815 - accuracy: 0.6254\n",
      "56/56 [==============================] - 1s 25ms/step - loss: 0.6377 - accuracy: 0.6369\n",
      "56/56 [==============================] - 1s 12ms/step - loss: 0.7802 - accuracy: 0.6071\n"
     ]
    },
    {
     "name": "stdout",
     "output_type": "stream",
     "text": [
      "56/56 [==============================] - 1s 15ms/step - loss: 0.7495 - accuracy: 0.6057\n",
      "56/56 [==============================] - 1s 16ms/step - loss: 0.7480 - accuracy: 0.6008\n",
      "56/56 [==============================] - 0s 1ms/step - loss: 0.6863 - accuracy: 0.6273\n",
      "56/56 [==============================] - 0s 7ms/step - loss: 0.8074 - accuracy: 0.6061\n",
      "56/56 [==============================] - 2s 31ms/step - loss: 0.7496 - accuracy: 0.6095\n",
      "56/56 [==============================] - 1s 24ms/step - loss: 0.8941 - accuracy: 0.5992\n",
      "56/56 [==============================] - 1s 17ms/step - loss: 0.7184 - accuracy: 0.6151\n",
      "56/56 [==============================] - 1s 26ms/step - loss: 0.6764 - accuracy: 0.6265\n"
     ]
    }
   ],
   "source": [
    "best = 0\n",
    "best_ind = 0\n",
    "best_model = None\n",
    "for ind, model in enumerate(models):\n",
    "    model = model[0]\n",
    "    acc = model.evaluate(X_test, y_test)\n",
    "    if acc[1] > best:\n",
    "        best = acc[1]\n",
    "        best_ind = ind\n",
    "        best_model = model\n"
   ]
  },
  {
   "cell_type": "code",
   "execution_count": 45,
   "metadata": {},
   "outputs": [
    {
     "name": "stdout",
     "output_type": "stream",
     "text": [
      "Model: \"sequential_32\"\n",
      "_________________________________________________________________\n",
      "Layer (type)                 Output Shape              Param #   \n",
      "=================================================================\n",
      "batch_normalization_32 (Batc (None, 8, 12)             48        \n",
      "_________________________________________________________________\n",
      "lstm_49 (LSTM)               (None, 8, 46)             10856     \n",
      "_________________________________________________________________\n",
      "lstm_50 (LSTM)               (None, 8, 600)            1552800   \n",
      "_________________________________________________________________\n",
      "dense_64 (Dense)             (None, 8, 720)            432720    \n",
      "_________________________________________________________________\n",
      "dropout_32 (Dropout)         (None, 8, 720)            0         \n",
      "_________________________________________________________________\n",
      "dense_65 (Dense)             (None, 8, 1)              721       \n",
      "=================================================================\n",
      "Total params: 1,997,145\n",
      "Trainable params: 1,997,121\n",
      "Non-trainable params: 24\n",
      "_________________________________________________________________\n"
     ]
    }
   ],
   "source": [
    "best_model.summary() # Final architecture"
   ]
  },
  {
   "cell_type": "code",
   "execution_count": 75,
   "metadata": {},
   "outputs": [
    {
     "name": "stdout",
     "output_type": "stream",
     "text": [
      "Model: \"sequential_98\"\n",
      "_________________________________________________________________\n",
      "Layer (type)                 Output Shape              Param #   \n",
      "=================================================================\n",
      "batch_normalization_98 (Batc (None, 8, 12)             48        \n",
      "_________________________________________________________________\n",
      "lstm_156 (LSTM)              (None, 8, 245)            252840    \n",
      "_________________________________________________________________\n",
      "lstm_157 (LSTM)              (None, 8, 109)            154780    \n",
      "_________________________________________________________________\n",
      "dense_196 (Dense)            (None, 8, 799)            87890     \n",
      "_________________________________________________________________\n",
      "dropout_98 (Dropout)         (None, 8, 799)            0         \n",
      "_________________________________________________________________\n",
      "dense_197 (Dense)            (None, 8, 1)              800       \n",
      "=================================================================\n",
      "Total params: 496,358\n",
      "Trainable params: 496,334\n",
      "Non-trainable params: 24\n",
      "_________________________________________________________________\n"
     ]
    }
   ],
   "source": [
    "models[95][0].summary()"
   ]
  },
  {
   "cell_type": "code",
   "execution_count": 116,
   "metadata": {},
   "outputs": [
    {
     "data": {
      "image/png": "[encoded data removed]",
      "text/plain": [
       "<Figure size 864x360 with 2 Axes>"
      ]
     },
     "metadata": {
      "needs_background": "light"
     },
     "output_type": "display_data"
    }
   ],
   "source": [
    "fig = plt.figure(figsize=(12,5))\n",
    "hist = models[29][1].history\n",
    "plt.subplot(1,2,1)\n",
    "plt.title(\"Training Accuracy\")\n",
    "plt.plot(history.history['binary_accuracy'], label=\"Accuracy\")\n",
    "plt.plot(history.history['val_binary_accuracy'], '--', label=\"Validation Accuracy\")\n",
    "plt.xlabel(\"Epochs\")\n",
    "plt.ylabel(\"Accuracy\")\n",
    "plt.legend()\n",
    "\n",
    "plt.subplot(1,2,2)\n",
    "plt.title(\"Training Loss\")\n",
    "plt.plot(history.history['loss'], label=\"Loss\")\n",
    "plt.plot(history.history['val_loss'], '--', label=\"Validation Loss\")\n",
    "plt.xlabel(\"Epochs\")\n",
    "plt.ylabel(\"Loss\")\n",
    "plt.legend();"
   ]
  },
  {
   "cell_type": "code",
   "execution_count": 117,
   "metadata": {},
   "outputs": [
    {
     "name": "stdout",
     "output_type": "stream",
     "text": [
      "56/56 [==============================] - 4s 76ms/step - loss: 0.6547 - binary_accuracy: 0.6283\n"
     ]
    },
    {
     "data": {
      "text/plain": [
       "[0.6547134518623352, 0.6283342838287354]"
      ]
     },
     "execution_count": 117,
     "metadata": {},
     "output_type": "execute_result"
    }
   ],
   "source": [
    "model.evaluate(X_test,y_test)"
   ]
  },
  {
   "cell_type": "code",
   "execution_count": 103,
   "metadata": {},
   "outputs": [],
   "source": [
    "np.save('LSTM_tueyeq_pred', (model.predict(X_test).mean(axis=1), y_test))"
   ]
  },
  {
   "cell_type": "code",
   "execution_count": 115,
   "metadata": {},
   "outputs": [],
   "source": [
    "#np.save('doves_turk', np.concatenate())"
   ]
  },
  {
   "cell_type": "code",
   "execution_count": 113,
   "metadata": {},
   "outputs": [
    {
     "data": {
      "text/plain": [
       "(582, 1)"
      ]
     },
     "execution_count": 113,
     "metadata": {},
     "output_type": "execute_result"
    }
   ],
   "source": []
  },
  {
   "cell_type": "code",
   "execution_count": null,
   "metadata": {},
   "outputs": [],
   "source": []
  }
 ],
 "metadata": {
  "kernelspec": {
   "display_name": "Python 3 (ipykernel)",
   "language": "python",
   "name": "python3"
  },
  "language_info": {
   "codemirror_mode": {
    "name": "ipython",
    "version": 3
   },
   "file_extension": ".py",
   "mimetype": "text/x-python",
   "name": "python",
   "nbconvert_exporter": "python",
   "pygments_lexer": "ipython3",
   "version": "3.7.11"
  }
 },
 "nbformat": 4,
 "nbformat_minor": 4
}
