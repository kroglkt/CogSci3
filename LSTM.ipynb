{
 "cells": [
  {
   "cell_type": "code",
   "execution_count": 1,
   "metadata": {},
   "outputs": [],
   "source": [
    "import pandas as pd\n",
    "import numpy as np\n",
    "import keras\n",
    "from tqdm.notebook import tqdm\n",
    "from IPython.display import display\n",
    "import sklearn\n",
    "from matplotlib import pyplot as plt\n",
    "from keras.layers import LSTM, Dropout, Dense, BatchNormalization, TimeDistributed, Input, Masking, Embedding\n",
    "from sklearn.metrics import roc_curve, confusion_matrix\n",
    "from sklearn.model_selection import train_test_split\n",
    "from sklearn.dummy import DummyClassifier\n",
    "from sklearn.ensemble import RandomForestClassifier\n",
    "#https://machinelearningmastery.com/how-to-develop-rnn-models-for-human-activity-recognition-time-series-classification/"
   ]
  },
  {
   "cell_type": "code",
   "execution_count": 2,
   "metadata": {},
   "outputs": [],
   "source": [
    "def plot_roc_cur(fper, tper, label=\"\", line=\"\", title=\"plot title\"):\n",
    "    plt.plot(fper, tper, line, label=label)\n",
    "    #plt.plot([0, 1], [0, 1], color='darkblue', linestyle='--')\n",
    "    plt.xlabel('False Positive Rate')\n",
    "    plt.ylabel('True Positive Rate')\n",
    "    plt.title(title)\n",
    "    plt.legend(loc='lower right')\n",
    "    \n",
    "def create_roc_curve(preds, targets, label=\"\", line=\"\", title=\"\"):\n",
    "    all_fpr, all_tpr = [], []\n",
    "    fpr, tpr, thresholds = roc_curve(targets, preds)\n",
    "    all_fpr.append(fpr)\n",
    "    all_tpr.append(tpr)\n",
    "    all_fpr = np.array(all_fpr)\n",
    "    all_tpr = np.array(tpr)\n",
    "    \n",
    "    plot_roc_cur(all_fpr[0], all_tpr, label=label, line=line, title=title) "
   ]
  },
  {
   "cell_type": "markdown",
   "metadata": {},
   "source": [
    "To do:\n",
    "\n",
    "- Load alle trials i stedte for data (all_readings = np.load('all_readings.npy', allow_pickle=True))\n",
    "- Ryd op i de trials.\n",
    "- Generér uniform trials (3D array med [batch, samples,features])\n",
    "    - Altså, cellen med #Make all trials same length - Save this cell\n",
    "    - batch er alle dine træningspunkter\n",
    "    - samples er dine time series (små udklip af eye tracking)\n",
    "    - features er... ja, features.\n",
    "- Få LSTM til at virke med din data - skidevære med metrics.\n",
    "- Når det virker kan du rode rundt med ordentlig klassifikation\n",
    "- Evt separer saccades og fixations?"
   ]
  },
  {
   "cell_type": "code",
   "execution_count": 70,
   "metadata": {},
   "outputs": [],
   "source": [
    "target = 'gender' #'age'\n",
    "even_gender = False\n",
    "\n",
    "sample_length = 6\n",
    "seed = 42\n",
    "\n",
    "epochs=100\n",
    "verbose=True\n",
    "batch_size=32\n",
    "\n",
    "np.random.seed(seed) "
   ]
  },
  {
   "cell_type": "code",
   "execution_count": 71,
   "metadata": {},
   "outputs": [],
   "source": [
    "data = np.load('all_readings.npy', allow_pickle=True)\n",
    "data = [i for i in data if len(i)>sample_length]\n",
    "\n",
    "if even_gender:\n",
    "    data = data[:-52]"
   ]
  },
  {
   "cell_type": "code",
   "execution_count": 168,
   "metadata": {},
   "outputs": [],
   "source": [
    "def make_trials_uniform(trials):\n",
    "    uniform_X = []\n",
    "    uniform_y = []\n",
    "    show = True\n",
    "    for trial in tqdm(trials):\n",
    "        X, y = cleanup_reading(trial, show=show)\n",
    "        show=False\n",
    "        length = X.shape[0]\n",
    "        for i in range(sample_length, length-length%sample_length, sample_length):\n",
    "            uniform_X.append(X.iloc[i-sample_length:i])\n",
    "            uniform_y.append(y.values[0])\n",
    "    \n",
    "    return np.array(uniform_X), np.array(uniform_y)\n",
    "\n",
    "def experimental(trial):    \n",
    "    trial = trial[trial['eventType']==0]\n",
    "    trial = trial.drop('eventType', axis=1)\n",
    "    trial = trial.replace(0,np.nan).dropna(axis=1,how=\"all\")\n",
    "    return trial[['duration','meanPupilDiameter']]\n",
    "\n",
    "def cleanup_reading(trial, show=False):\n",
    "    trial = trial[trial.columns[1:]]\n",
    "    trial = trial[trial['eye']=='left']\n",
    "    trial = trial.drop('eye',1)\n",
    "    trial = trial.drop('eventIdxLeft',1)\n",
    "    trial = trial.drop('eventIdxRight',1)\n",
    "    \n",
    "    fixations = trial[trial['eventType']=='fixation']\n",
    "    saccades = trial[trial['eventType']=='saccade']\n",
    "    \n",
    "    fixations = fixations.reset_index()\n",
    "    fixations = fixations.drop(['startSaccadeX', 'startSaccadeY', 'endSaccadeX', 'endSaccadeY',\n",
    "                                'age', 'gender', 'index', 'eventType'], axis=1)\n",
    "    fixations = fixations.rename(columns={\"duration\": \"fix_duration\"})\n",
    "    \n",
    "    saccades = saccades.reset_index()\n",
    "    saccades = saccades.drop(['meanX', 'meanY', 'microsaccadeCount', 'microsaccadeAmplitude', 'meanPupilDiameter',\n",
    "                              'microsaccadePeakVelocity', 'index', 'eventType'], axis=1)\n",
    "    saccades = saccades.rename(columns={\"duration\": \"sac_duration\"})\n",
    "    \n",
    "    trial = pd.concat([fixations, saccades], axis=1)\n",
    "    feats = trial.columns\n",
    "    trial = trial.reset_index()\n",
    "    trial = trial.fillna(0)\n",
    "    \n",
    "    if show:\n",
    "        print(\"Your features\")\n",
    "        display(trial.head())\n",
    "        \n",
    "    return trial[feats[:-2]], trial[feats[-2:]]"
   ]
  },
  {
   "cell_type": "code",
   "execution_count": 169,
   "metadata": {
    "scrolled": true
   },
   "outputs": [
    {
     "data": {
      "application/vnd.jupyter.widget-view+json": {
       "model_id": "e4edd416e7424ff2a989963363b70fe8",
       "version_major": 2,
       "version_minor": 0
      },
      "text/plain": [
       "  0%|          | 0/5640 [00:00<?, ?it/s]"
      ]
     },
     "metadata": {},
     "output_type": "display_data"
    },
    {
     "name": "stdout",
     "output_type": "stream",
     "text": [
      "Your features\n"
     ]
    },
    {
     "data": {
      "text/html": [
       "<div>\n",
       "<style scoped>\n",
       "    .dataframe tbody tr th:only-of-type {\n",
       "        vertical-align: middle;\n",
       "    }\n",
       "\n",
       "    .dataframe tbody tr th {\n",
       "        vertical-align: top;\n",
       "    }\n",
       "\n",
       "    .dataframe thead th {\n",
       "        text-align: right;\n",
       "    }\n",
       "</style>\n",
       "<table border=\"1\" class=\"dataframe\">\n",
       "  <thead>\n",
       "    <tr style=\"text-align: right;\">\n",
       "      <th></th>\n",
       "      <th>index</th>\n",
       "      <th>fix_duration</th>\n",
       "      <th>meanPupilDiameter</th>\n",
       "      <th>meanX</th>\n",
       "      <th>meanY</th>\n",
       "      <th>microsaccadeCount</th>\n",
       "      <th>microsaccadeAmplitude</th>\n",
       "      <th>microsaccadePeakVelocity</th>\n",
       "      <th>sac_duration</th>\n",
       "      <th>startSaccadeX</th>\n",
       "      <th>startSaccadeY</th>\n",
       "      <th>endSaccadeX</th>\n",
       "      <th>endSaccadeY</th>\n",
       "      <th>gender</th>\n",
       "      <th>age</th>\n",
       "    </tr>\n",
       "  </thead>\n",
       "  <tbody>\n",
       "    <tr>\n",
       "      <th>0</th>\n",
       "      <td>0</td>\n",
       "      <td>1364</td>\n",
       "      <td>2.990677</td>\n",
       "      <td>437.068865</td>\n",
       "      <td>416.939942</td>\n",
       "      <td>5.0</td>\n",
       "      <td>4.651910</td>\n",
       "      <td>12.246170</td>\n",
       "      <td>48</td>\n",
       "      <td>1220.951</td>\n",
       "      <td>267.297</td>\n",
       "      <td>435.795</td>\n",
       "      <td>450.376</td>\n",
       "      <td>2.0</td>\n",
       "      <td>21.0</td>\n",
       "    </tr>\n",
       "    <tr>\n",
       "      <th>1</th>\n",
       "      <td>1</td>\n",
       "      <td>92</td>\n",
       "      <td>3.012304</td>\n",
       "      <td>416.612708</td>\n",
       "      <td>419.662375</td>\n",
       "      <td>2.0</td>\n",
       "      <td>5.458174</td>\n",
       "      <td>11.416550</td>\n",
       "      <td>52</td>\n",
       "      <td>451.245</td>\n",
       "      <td>451.098</td>\n",
       "      <td>396.294</td>\n",
       "      <td>388.870</td>\n",
       "      <td>2.0</td>\n",
       "      <td>21.0</td>\n",
       "    </tr>\n",
       "    <tr>\n",
       "      <th>2</th>\n",
       "      <td>2</td>\n",
       "      <td>428</td>\n",
       "      <td>3.081453</td>\n",
       "      <td>383.712944</td>\n",
       "      <td>404.571019</td>\n",
       "      <td>0.0</td>\n",
       "      <td>0.000000</td>\n",
       "      <td>0.000000</td>\n",
       "      <td>44</td>\n",
       "      <td>430.789</td>\n",
       "      <td>437.898</td>\n",
       "      <td>377.493</td>\n",
       "      <td>387.403</td>\n",
       "      <td>2.0</td>\n",
       "      <td>21.0</td>\n",
       "    </tr>\n",
       "    <tr>\n",
       "      <th>3</th>\n",
       "      <td>3</td>\n",
       "      <td>1948</td>\n",
       "      <td>3.031311</td>\n",
       "      <td>392.155428</td>\n",
       "      <td>416.387105</td>\n",
       "      <td>3.0</td>\n",
       "      <td>6.021918</td>\n",
       "      <td>31.295109</td>\n",
       "      <td>40</td>\n",
       "      <td>388.347</td>\n",
       "      <td>421.217</td>\n",
       "      <td>370.911</td>\n",
       "      <td>394.196</td>\n",
       "      <td>2.0</td>\n",
       "      <td>21.0</td>\n",
       "    </tr>\n",
       "    <tr>\n",
       "      <th>4</th>\n",
       "      <td>4</td>\n",
       "      <td>3796</td>\n",
       "      <td>3.092714</td>\n",
       "      <td>408.292302</td>\n",
       "      <td>416.785833</td>\n",
       "      <td>7.0</td>\n",
       "      <td>6.097134</td>\n",
       "      <td>20.960145</td>\n",
       "      <td>8</td>\n",
       "      <td>408.901</td>\n",
       "      <td>411.094</td>\n",
       "      <td>428.479</td>\n",
       "      <td>386.091</td>\n",
       "      <td>2.0</td>\n",
       "      <td>21.0</td>\n",
       "    </tr>\n",
       "  </tbody>\n",
       "</table>\n",
       "</div>"
      ],
      "text/plain": [
       "   index  fix_duration  meanPupilDiameter       meanX       meanY  \\\n",
       "0      0          1364           2.990677  437.068865  416.939942   \n",
       "1      1            92           3.012304  416.612708  419.662375   \n",
       "2      2           428           3.081453  383.712944  404.571019   \n",
       "3      3          1948           3.031311  392.155428  416.387105   \n",
       "4      4          3796           3.092714  408.292302  416.785833   \n",
       "\n",
       "   microsaccadeCount  microsaccadeAmplitude  microsaccadePeakVelocity  \\\n",
       "0                5.0               4.651910                 12.246170   \n",
       "1                2.0               5.458174                 11.416550   \n",
       "2                0.0               0.000000                  0.000000   \n",
       "3                3.0               6.021918                 31.295109   \n",
       "4                7.0               6.097134                 20.960145   \n",
       "\n",
       "   sac_duration  startSaccadeX  startSaccadeY  endSaccadeX  endSaccadeY  \\\n",
       "0            48       1220.951        267.297      435.795      450.376   \n",
       "1            52        451.245        451.098      396.294      388.870   \n",
       "2            44        430.789        437.898      377.493      387.403   \n",
       "3            40        388.347        421.217      370.911      394.196   \n",
       "4             8        408.901        411.094      428.479      386.091   \n",
       "\n",
       "   gender   age  \n",
       "0     2.0  21.0  \n",
       "1     2.0  21.0  \n",
       "2     2.0  21.0  \n",
       "3     2.0  21.0  \n",
       "4     2.0  21.0  "
      ]
     },
     "metadata": {},
     "output_type": "display_data"
    },
    {
     "name": "stdout",
     "output_type": "stream",
     "text": [
      "X shape: (11457, 6, 12), y shape: (11457, 1)\n"
     ]
    }
   ],
   "source": [
    "np.random.shuffle(data)\n",
    "X,y = make_trials_uniform(data)\n",
    "X,y = sklearn.utils.shuffle(X, y, random_state=seed)\n",
    "y = y-1\n",
    "\n",
    "if target == 'gender':\n",
    "    y = y[:,0] #Only tage gender\n",
    "else:\n",
    "    y = y[:,1]\n",
    "\n",
    "y = y.reshape(-1, 1)\n",
    "print(f'X shape: {X.shape}, y shape: {y.shape}')\n",
    "\n",
    "X_train, X_test, y_train, y_test = train_test_split(X,y,random_state=seed)"
   ]
  },
  {
   "cell_type": "code",
   "execution_count": 170,
   "metadata": {},
   "outputs": [],
   "source": [
    "model = keras.Sequential()\n",
    "model.add(Input(shape=(X_train[0].shape)))\n",
    "model.add(BatchNormalization())\n",
    "model.add(LSTM(100, return_sequences=True))\n",
    "#model.add(LSTM(100, return_sequences=True))\n",
    "model.add(Dense(100, activation='relu'))\n",
    "model.add(Dropout(0.5))\n",
    "model.add(Dense(1, activation=\"sigmoid\"))\n",
    "model.compile(loss=\"binary_crossentropy\"\n",
    "              , metrics=[keras.metrics.binary_accuracy]\n",
    "              , optimizer=\"adam\")\n",
    "\n",
    "model.compile(\n",
    "    optimizer='adam', \n",
    "    loss='binary_crossentropy', \n",
    "    metrics=['accuracy']\n",
    ")"
   ]
  },
  {
   "cell_type": "code",
   "execution_count": 171,
   "metadata": {
    "scrolled": true
   },
   "outputs": [
    {
     "name": "stdout",
     "output_type": "stream",
     "text": [
      "Epoch 1/50\n",
      "215/215 [==============================] - 2s 7ms/step - loss: 0.6781 - accuracy: 0.5756 - val_loss: 0.6658 - val_accuracy: 0.6128\n",
      "Epoch 2/50\n",
      "215/215 [==============================] - 1s 6ms/step - loss: 0.6661 - accuracy: 0.6094 - val_loss: 0.6559 - val_accuracy: 0.6215\n",
      "Epoch 3/50\n",
      "215/215 [==============================] - 1s 6ms/step - loss: 0.6602 - accuracy: 0.6133 - val_loss: 0.6573 - val_accuracy: 0.6162\n",
      "Epoch 4/50\n",
      "215/215 [==============================] - 1s 6ms/step - loss: 0.6578 - accuracy: 0.6156 - val_loss: 0.6492 - val_accuracy: 0.6295\n",
      "Epoch 5/50\n",
      "215/215 [==============================] - 1s 6ms/step - loss: 0.6550 - accuracy: 0.6194 - val_loss: 0.6496 - val_accuracy: 0.6310\n",
      "Epoch 6/50\n",
      "215/215 [==============================] - 1s 6ms/step - loss: 0.6520 - accuracy: 0.6232 - val_loss: 0.6453 - val_accuracy: 0.6320\n",
      "Epoch 7/50\n",
      "215/215 [==============================] - 1s 6ms/step - loss: 0.6472 - accuracy: 0.6264 - val_loss: 0.6452 - val_accuracy: 0.6364\n",
      "Epoch 8/50\n",
      "215/215 [==============================] - 1s 5ms/step - loss: 0.6464 - accuracy: 0.6300 - val_loss: 0.6461 - val_accuracy: 0.6283\n",
      "Epoch 9/50\n",
      "215/215 [==============================] - 1s 5ms/step - loss: 0.6424 - accuracy: 0.6318 - val_loss: 0.6389 - val_accuracy: 0.6427\n",
      "Epoch 10/50\n",
      "215/215 [==============================] - 1s 5ms/step - loss: 0.6416 - accuracy: 0.6293 - val_loss: 0.6363 - val_accuracy: 0.6422\n",
      "Epoch 11/50\n",
      "215/215 [==============================] - 1s 5ms/step - loss: 0.6383 - accuracy: 0.6351 - val_loss: 0.6348 - val_accuracy: 0.6443\n",
      "Epoch 12/50\n",
      "215/215 [==============================] - 1s 5ms/step - loss: 0.6349 - accuracy: 0.6410 - val_loss: 0.6259 - val_accuracy: 0.6473\n",
      "Epoch 13/50\n",
      "215/215 [==============================] - 1s 5ms/step - loss: 0.6306 - accuracy: 0.6447 - val_loss: 0.6290 - val_accuracy: 0.6436\n",
      "Epoch 14/50\n",
      "215/215 [==============================] - 1s 5ms/step - loss: 0.6292 - accuracy: 0.6400 - val_loss: 0.6263 - val_accuracy: 0.6471\n",
      "Epoch 15/50\n",
      "215/215 [==============================] - 1s 5ms/step - loss: 0.6239 - accuracy: 0.6481 - val_loss: 0.6231 - val_accuracy: 0.6525\n",
      "Epoch 16/50\n",
      "215/215 [==============================] - 1s 5ms/step - loss: 0.6209 - accuracy: 0.6528 - val_loss: 0.6305 - val_accuracy: 0.6459\n",
      "Epoch 17/50\n",
      "215/215 [==============================] - 1s 5ms/step - loss: 0.6206 - accuracy: 0.6539 - val_loss: 0.6237 - val_accuracy: 0.6529\n",
      "Epoch 18/50\n",
      "215/215 [==============================] - 1s 5ms/step - loss: 0.6177 - accuracy: 0.6548 - val_loss: 0.6315 - val_accuracy: 0.6409\n",
      "Epoch 19/50\n",
      "215/215 [==============================] - 1s 5ms/step - loss: 0.6108 - accuracy: 0.6636 - val_loss: 0.6163 - val_accuracy: 0.6547\n",
      "Epoch 20/50\n",
      "215/215 [==============================] - 1s 5ms/step - loss: 0.6110 - accuracy: 0.6613 - val_loss: 0.6182 - val_accuracy: 0.6562\n",
      "Epoch 21/50\n",
      "215/215 [==============================] - 1s 5ms/step - loss: 0.6095 - accuracy: 0.6589 - val_loss: 0.6212 - val_accuracy: 0.6509\n",
      "Epoch 22/50\n",
      "215/215 [==============================] - 1s 5ms/step - loss: 0.6075 - accuracy: 0.6635 - val_loss: 0.6209 - val_accuracy: 0.6572\n",
      "Epoch 23/50\n",
      "215/215 [==============================] - 1s 5ms/step - loss: 0.6005 - accuracy: 0.6685 - val_loss: 0.6274 - val_accuracy: 0.6561\n",
      "Epoch 24/50\n",
      "215/215 [==============================] - 1s 5ms/step - loss: 0.6024 - accuracy: 0.6654 - val_loss: 0.6264 - val_accuracy: 0.6495\n",
      "Epoch 25/50\n",
      "215/215 [==============================] - 1s 5ms/step - loss: 0.5955 - accuracy: 0.6725 - val_loss: 0.6208 - val_accuracy: 0.6576\n",
      "Epoch 26/50\n",
      "215/215 [==============================] - 1s 5ms/step - loss: 0.5909 - accuracy: 0.6784 - val_loss: 0.6137 - val_accuracy: 0.6597\n",
      "Epoch 27/50\n",
      "215/215 [==============================] - 1s 5ms/step - loss: 0.5845 - accuracy: 0.6818 - val_loss: 0.6195 - val_accuracy: 0.6576\n",
      "Epoch 28/50\n",
      "215/215 [==============================] - 1s 5ms/step - loss: 0.5862 - accuracy: 0.6815 - val_loss: 0.6216 - val_accuracy: 0.6584\n",
      "Epoch 29/50\n",
      "215/215 [==============================] - 1s 5ms/step - loss: 0.5769 - accuracy: 0.6849 - val_loss: 0.6272 - val_accuracy: 0.6532\n",
      "Epoch 30/50\n",
      "215/215 [==============================] - 1s 5ms/step - loss: 0.5805 - accuracy: 0.6839 - val_loss: 0.6311 - val_accuracy: 0.6436\n",
      "Epoch 31/50\n",
      "215/215 [==============================] - 1s 5ms/step - loss: 0.5719 - accuracy: 0.6916 - val_loss: 0.6274 - val_accuracy: 0.6545\n",
      "Epoch 32/50\n",
      "215/215 [==============================] - 1s 5ms/step - loss: 0.5708 - accuracy: 0.6928 - val_loss: 0.6235 - val_accuracy: 0.6598\n",
      "Epoch 33/50\n",
      "215/215 [==============================] - 1s 5ms/step - loss: 0.5691 - accuracy: 0.6958 - val_loss: 0.6309 - val_accuracy: 0.6492\n",
      "Epoch 34/50\n",
      "215/215 [==============================] - 1s 5ms/step - loss: 0.5585 - accuracy: 0.6981 - val_loss: 0.6436 - val_accuracy: 0.6475\n",
      "Epoch 35/50\n",
      "215/215 [==============================] - 1s 5ms/step - loss: 0.5575 - accuracy: 0.7024 - val_loss: 0.6446 - val_accuracy: 0.6447\n",
      "Epoch 36/50\n",
      "215/215 [==============================] - 1s 5ms/step - loss: 0.5565 - accuracy: 0.7015 - val_loss: 0.6399 - val_accuracy: 0.6618\n"
     ]
    }
   ],
   "source": [
    "callback = keras.callbacks.EarlyStopping(monitor='val_loss', patience=10)\n",
    "history = model.fit(X_train, y_train, validation_split=0.2, epochs=epochs, \n",
    "                         batch_size=batch_size, callbacks=[callback])"
   ]
  },
  {
   "cell_type": "code",
   "execution_count": 172,
   "metadata": {},
   "outputs": [
    {
     "data": {
      "image/png": "[encoded data removed]",
      "text/plain": [
       "<Figure size 576x432 with 1 Axes>"
      ]
     },
     "metadata": {
      "needs_background": "light"
     },
     "output_type": "display_data"
    }
   ],
   "source": [
    "fig=plt.figure(figsize=(8,6))\n",
    "plt.plot(history.history['loss'], label=\"loss\");\n",
    "plt.plot(history.history['accuracy'], label=\"acc\");\n",
    "plt.plot(history.history['val_loss'], '--', label=\"val loss\");\n",
    "plt.plot(history.history['val_accuracy'], '--', label=\"val acc\");\n",
    "plt.legend();"
   ]
  },
  {
   "cell_type": "code",
   "execution_count": 173,
   "metadata": {
    "scrolled": true
   },
   "outputs": [
    {
     "data": {
      "image/png": "[encoded data removed]",
      "text/plain": [
       "<Figure size 432x288 with 1 Axes>"
      ]
     },
     "metadata": {
      "needs_background": "light"
     },
     "output_type": "display_data"
    }
   ],
   "source": [
    "dummy = DummyClassifier()\n",
    "dummy.fit(X_train, y_train)\n",
    "\n",
    "create_roc_curve(model.predict(X_test).mean(axis=1), y_test, label=\"LSTM\")\n",
    "create_roc_curve(dummy.predict(X_test), y_test, label=\"Dummy\")"
   ]
  },
  {
   "cell_type": "code",
   "execution_count": 175,
   "metadata": {},
   "outputs": [
    {
     "name": "stdout",
     "output_type": "stream",
     "text": [
      "90/90 [==============================] - 0s 2ms/step - loss: 0.6421 - accuracy: 0.6551\n"
     ]
    },
    {
     "data": {
      "text/plain": [
       "[0.6421040892601013, 0.655148446559906]"
      ]
     },
     "execution_count": 175,
     "metadata": {},
     "output_type": "execute_result"
    }
   ],
   "source": [
    "model.evaluate(X_test, y_test)"
   ]
  },
  {
   "cell_type": "code",
   "execution_count": null,
   "metadata": {},
   "outputs": [],
   "source": []
  }
 ],
 "metadata": {
  "kernelspec": {
   "display_name": "Python 3",
   "language": "python",
   "name": "python3"
  },
  "language_info": {
   "codemirror_mode": {
    "name": "ipython",
    "version": 3
   },
   "file_extension": ".py",
   "mimetype": "text/x-python",
   "name": "python",
   "nbconvert_exporter": "python",
   "pygments_lexer": "ipython3",
   "version": "3.7.4"
  }
 },
 "nbformat": 4,
 "nbformat_minor": 4
}
