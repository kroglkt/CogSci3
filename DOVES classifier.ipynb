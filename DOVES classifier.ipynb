{
 "cells": [
  {
   "cell_type": "code",
   "execution_count": 5,
   "id": "3d5ddce9",
   "metadata": {},
   "outputs": [],
   "source": [
    "import os\n",
    "import pandas as pd\n",
    "import numpy as np\n",
    "from sklearn.ensemble import RandomForestClassifier\n",
    "from sklearn.metrics import classification_report\n",
    "from sklearn.metrics import f1_score\n",
    "from sklearn.metrics import precision_score\n",
    "from sklearn.metrics import recall_score\n",
    "from sklearn.metrics import roc_curve, roc_auc_score\n",
    "from sklearn.metrics import plot_roc_curve\n",
    "from sklearn.metrics import accuracy_score\n",
    "from sklearn.model_selection import KFold\n",
    "from sklearn.dummy import DummyClassifier\n",
    "import h5py\n",
    "import mat4py\n",
    "import matplotlib.pyplot as plt\n",
    "import math\n",
    "from sklearn.feature_selection import RFE\n",
    "from sklearn.model_selection import RandomizedSearchCV\n",
    "import time\n",
    "\n",
    "# Ignoring warning messages in output\n",
    "import warnings\n",
    "warnings.filterwarnings('ignore')\n",
    "\n",
    "from eyepunisher import *"
   ]
  },
  {
   "cell_type": "code",
   "execution_count": 6,
   "id": "bf2ce909",
   "metadata": {},
   "outputs": [
    {
     "data": {
      "text/plain": [
       "'\\nx1 = 0\\nx2 = 60\\ny1 = 0\\ny2 = 0\\n\\ndist = get_dist([x1, y1], [x2, y2])\\n\\ndist_in_mm = dist * 0.417\\n\\ntheta = math.atan(dist_in_mm/1400)\\ntheta\\n'"
      ]
     },
     "execution_count": 6,
     "metadata": {},
     "output_type": "execute_result"
    }
   ],
   "source": [
    "# WORK IN PROGRESS \n",
    "# Trigonometry tricks\n",
    "\"\"\"\n",
    "x1 = 0\n",
    "x2 = 60\n",
    "y1 = 0\n",
    "y2 = 0\n",
    "\n",
    "dist = get_dist([x1, y1], [x2, y2])\n",
    "\n",
    "dist_in_mm = dist * 0.417\n",
    "\n",
    "theta = math.atan(dist_in_mm/1400)\n",
    "theta\n",
    "\"\"\""
   ]
  },
  {
   "cell_type": "code",
   "execution_count": 7,
   "id": "ad421d7c",
   "metadata": {},
   "outputs": [
    {
     "data": {
      "text/plain": [
       "2.596548342003499"
      ]
     },
     "execution_count": 7,
     "metadata": {},
     "output_type": "execute_result"
    }
   ],
   "source": [
    "# Example of currently emplyed method, delete later...\n",
    "\n",
    "p1 = [511.786549, 380.663875]\n",
    "p2 = [511.976476, 380.416866]\n",
    "\n",
    "dist = get_dist(p1, p2)\n",
    "\n",
    "def dist_angles_pr_sec(dist):\n",
    "    refresh_rate = 500\n",
    "    return (dist * 0.01666666666666666666666666666667) * refresh_rate\n",
    "\n",
    "dist_angles_pr_sec(dist)"
   ]
  },
  {
   "cell_type": "code",
   "execution_count": 8,
   "id": "002a1c72",
   "metadata": {
    "scrolled": true
   },
   "outputs": [
    {
     "name": "stdout",
     "output_type": "stream",
     "text": [
      "Converting ABT2.eye...\n",
      "Converting ACB2.eye...\n",
      "Converting AV2.eye...\n",
      "Converting BSQ2.eye...\n",
      "Converting BW2.eye...\n",
      "Converting CE2.eye...\n",
      "Converting CLM2.eye...\n",
      "Converting CMG2.eye...\n",
      "Converting CNG2.eye...\n",
      "Converting CS2.eye...\n",
      "Converting FMT2.eye...\n",
      "Converting GK2.eye...\n",
      "Converting HRS2.eye...\n",
      "Converting IVDL2.eye...\n",
      "Converting JLS2.eye...\n",
      "Converting JM2.eye...\n",
      "Converting JNK2.eye...\n",
      "Converting JSS2.eye...\n",
      "Converting KAC2.eye...\n",
      "Converting KW2.eye...\n",
      "Converting LKC2.eye...\n",
      "Converting LW2.eye...\n",
      "Converting MPF2.eye...\n",
      "Converting NSS2.eye...\n",
      "Converting RGR2.eye...\n",
      "Converting SCP2.eye...\n",
      "Converting TT2.eye...\n",
      "Converting UR2.eye...\n",
      "Converting YL2.eye...\n"
     ]
    }
   ],
   "source": [
    "# Get participant data from file and remove nan values\n",
    "path = \"Doves\"\n",
    "particip_data_doves = pd.read_excel(path+'/DOVES_Observer_Details.xls', header=2)\n",
    "particip_data_doves.dropna(subset = ['Age'], inplace=True)\n",
    "\n",
    "# Get list of filenames\n",
    "file_names = os.listdir(path+'/Fixations')\n",
    "del file_names[0]\n",
    "\n",
    "# Load fixation data from files\n",
    "data_doves = []\n",
    "for f in file_names:\n",
    "    data_doves.append(mat4py.loadmat(path+'/Fixations/'+f))\n",
    "\n",
    "# Load raw data from files\n",
    "rawdata_doves = punish_all_eyes(path+'/RawData', debug=False)\n",
    "\n",
    "# Generate a list of the order of participants. Used for selecting correct data from raw data dictionary\n",
    "subject_ordered_list = data_doves[0]['subj_names_list']\n",
    "for num, sub in enumerate(subject_ordered_list):\n",
    "    split = sub.split('.', 1)\n",
    "    subject_ordered_list[num] = split[0]"
   ]
  },
  {
   "cell_type": "markdown",
   "id": "c6945952",
   "metadata": {},
   "source": [
    "### Participant Data:"
   ]
  },
  {
   "cell_type": "code",
   "execution_count": 9,
   "id": "f3c63020",
   "metadata": {},
   "outputs": [
    {
     "name": "stdout",
     "output_type": "stream",
     "text": [
      "DOVES Max age: 45.0, min age: 16.0, mean age: 26.586206896551722\n",
      "DOVES Number of females: 18, number of males: 11\n"
     ]
    }
   ],
   "source": [
    "# Print statistics of participant data\n",
    "print(f\"DOVES Max age: {particip_data_doves.Age.max()}, min age: {particip_data_doves.Age.min()}, mean age: {particip_data_doves.Age.mean()}\")\n",
    "print(f\"DOVES Number of females: {particip_data_doves.Gender.value_counts()[0]}, number of males: {particip_data_doves.Gender.value_counts()[1]}\")"
   ]
  },
  {
   "cell_type": "markdown",
   "id": "e188bfe5",
   "metadata": {},
   "source": [
    "### Feature Selection"
   ]
  },
  {
   "cell_type": "code",
   "execution_count": 10,
   "id": "46a51b6f",
   "metadata": {},
   "outputs": [],
   "source": [
    "# Generate lists of ages and gender from dataframe\n",
    "gender_list = particip_data_doves.Gender.tolist()\n",
    "age_list = particip_data_doves.Age.tolist()"
   ]
  },
  {
   "cell_type": "code",
   "execution_count": 11,
   "id": "82d70255",
   "metadata": {},
   "outputs": [],
   "source": [
    "# Utility for getting distance bewteen two points\n",
    "def get_dist(p1, p2):\n",
    "    dist = math.sqrt(((p1[0]-p2[0])**2)+((p1[1]-p2[1])**2))\n",
    "    return dist\n",
    "\n",
    "# Utility for calculating centroid\n",
    "def get_centroid(arr):\n",
    "    length = arr.shape[0]\n",
    "    sum_x = np.sum(arr[:, 0])\n",
    "    sum_y = np.sum(arr[:, 1])\n",
    "    return [sum_x/length, sum_y/length]\n",
    "\n",
    "# Utility for calculating velocity in degrees/sec, takes dist in pixels\n",
    "def dist_angles_pr_sec(dist):\n",
    "    refresh_rate = 500\n",
    "    return (dist * 0.01666666666666666666666666666667) * refresh_rate"
   ]
  },
  {
   "cell_type": "code",
   "execution_count": 14,
   "id": "bd790070",
   "metadata": {
    "scrolled": true
   },
   "outputs": [],
   "source": [
    "# DOVES feature extraction from raw data\n",
    "# rawdata_doves[\"subject\"] is all data for 1 user, with each index being an image.\n",
    "\n",
    "# I-VT method for fixations and saccades\n",
    "# Lists of point belonging to fixations or saccades are generated\n",
    "raw_fixations = []\n",
    "raw_saccades = []\n",
    "raw_pupils = []\n",
    "for i in range(len(file_names)):\n",
    "    for j in range(len(subject_ordered_list)):\n",
    "        local_sacc = []\n",
    "        local_fix = []\n",
    "        local_ms = []\n",
    "        raw_pupils.append(rawdata_doves[subject_ordered_list[j]][i][:-1,2])\n",
    "        for k in range(len(rawdata_doves[subject_ordered_list[j]][i]) - 1):\n",
    "            #print(j, i, k)\n",
    "            p1 = [\n",
    "                rawdata_doves[subject_ordered_list[j]][i][k][0], \n",
    "                rawdata_doves[subject_ordered_list[j]][i][k][1],\n",
    "            ]\n",
    "            p2 = [\n",
    "                rawdata_doves[subject_ordered_list[j]][i][k+1][0], \n",
    "                rawdata_doves[subject_ordered_list[j]][i][k+1][1]\n",
    "            ]\n",
    "            my_dist = get_dist(p1, p2)\n",
    "            if my_dist > 2:\n",
    "                local_sacc.append(p1)\n",
    "                local_fix.append('-')\n",
    "                local_ms.append('-')\n",
    "            else:\n",
    "                local_fix.append(p1)\n",
    "                local_sacc.append('-')\n",
    "                local_ms.append('-')\n",
    "        \n",
    "        # Remove stand-alone fixations from fixation list and add to saccades\n",
    "        for ii in range(1, len(local_fix)-1):\n",
    "            if local_fix[ii] != '-' and local_fix[ii-1] == '-' and local_fix[ii+1] == '-':\n",
    "                local_sacc[ii] = local_fix[ii]\n",
    "                local_fix[ii] = '-'\n",
    "        \n",
    "        raw_fixations.append(local_fix)\n",
    "        raw_saccades.append(local_sacc)"
   ]
  },
  {
   "cell_type": "code",
   "execution_count": 15,
   "id": "c34c2c57",
   "metadata": {},
   "outputs": [],
   "source": [
    "# Raw data microsaccade extraction following > 3 degrees/s velocity and < 100 degrees/s velocity\n",
    "\n",
    "raw_microsaccades = []\n",
    "for entry in raw_fixations:\n",
    "    entry = [[3000, 3000] if item == '-' else item for item in entry]\n",
    "    local_ms = []\n",
    "    for i in range(len(entry)-1):\n",
    "        p1 = [entry[i][0], entry[i][1]]\n",
    "        p2 = [entry[i+1][0], entry[i+1][1]]\n",
    "        dist = get_dist(p1, p2)\n",
    "        if dist_angles_pr_sec(dist) > 3 and dist_angles_pr_sec(dist) < 100:\n",
    "            local_ms.append(p1)\n",
    "        else:\n",
    "            local_ms.append('-')\n",
    "    \n",
    "    raw_microsaccades.append(local_ms)\n",
    "    \n",
    "    # Sorter microsaccades fra der er under 20 ms (10 i træk da vi har 500hz)"
   ]
  },
  {
   "cell_type": "code",
   "execution_count": 16,
   "id": "3e46700c",
   "metadata": {},
   "outputs": [],
   "source": [
    "# Microsaccade refinement. Saccades are grouped and removed if under 10.\n",
    "\n",
    "prev = 'init'\n",
    "\n",
    "processed_microsaccades = []\n",
    "for entry in raw_microsaccades:\n",
    "    if entry[0] == '-':\n",
    "        prev = '-'\n",
    "    else:\n",
    "        prev = 'point'\n",
    "    \n",
    "    entry_ms_list = []\n",
    "    ind_ms_list = []\n",
    "    ind_time_list = []\n",
    "    for i in range(len(entry)):\n",
    "        if entry[i] != '-':\n",
    "            ind_ms_list.append(entry[i])\n",
    "            ind_time_list.append(i)\n",
    "            prev = 'point'\n",
    "        elif entry[i] == '-':\n",
    "            if prev == 'point':\n",
    "                if len(ind_ms_list) > 9:\n",
    "                    arr_ind_ms_list = np.array(ind_ms_list)\n",
    "                    entry_ms_list.append([\n",
    "                        ind_ms_list, ind_time_list[0], len(ind_time_list)\n",
    "                    ])\n",
    "                    ind_ms_list = []\n",
    "                    ind_time_list = []\n",
    "                    prev = '-'\n",
    "                else:\n",
    "                    ind_ms_list = []\n",
    "                    ind_time_list = []\n",
    "                    prev = '-'\n",
    "    processed_microsaccades.append(entry_ms_list)"
   ]
  },
  {
   "cell_type": "code",
   "execution_count": 17,
   "id": "64edd011",
   "metadata": {},
   "outputs": [],
   "source": [
    "# I-VT refinement. Fixations are grouped, and lists of format <x, y, t, d> are returned, with x, y being centroids,\n",
    "# t being the time of first point, and d is duration.\n",
    "\n",
    "prev = 'init'\n",
    "\n",
    "processed_fixations = []\n",
    "processed_pupils = []\n",
    "for ind, entry in enumerate(raw_fixations):\n",
    "    pupil_entry = raw_pupils[ind]\n",
    "    if entry[0] == '-':\n",
    "        prev = '-'\n",
    "    else:\n",
    "        prev = 'point'\n",
    "    \n",
    "    entry_fix_list = []\n",
    "    ind_fix_list = []\n",
    "    ind_time_list = []\n",
    "    temp_pupil_list = []\n",
    "    for i in range(len(entry)):\n",
    "        if entry[i] != '-':\n",
    "            ind_fix_list.append(entry[i])\n",
    "            ind_time_list.append(i)\n",
    "            temp_pupil_list.append(pupil_entry[i])\n",
    "            prev = 'point'\n",
    "        elif entry[i] == '-':\n",
    "            if prev == 'point':\n",
    "                arr_ind_fix_list = np.array(ind_fix_list)\n",
    "                centroid = get_centroid(arr_ind_fix_list)\n",
    "                entry_fix_list.append([\n",
    "                    centroid[0], centroid[1], ind_time_list[0], \n",
    "                    len(ind_time_list), np.mean(temp_pupil_list), ind_fix_list\n",
    "                ])\n",
    "                ind_fix_list = []\n",
    "                ind_time_list = []\n",
    "                prev = '-'\n",
    "    processed_fixations.append(entry_fix_list)\n",
    "    \n",
    "    #Processed_fixations : X, Y, Timestamp, Duration, mean pupil diameter"
   ]
  },
  {
   "cell_type": "code",
   "execution_count": 18,
   "id": "6bed58cf",
   "metadata": {},
   "outputs": [],
   "source": [
    "# Similair for saccades, but returns instead of centroid, a list of saccade points\n",
    "\n",
    "prev = 'init'\n",
    "\n",
    "processed_saccades = []\n",
    "for entry in raw_saccades:\n",
    "    if entry[0] == '-':\n",
    "        prev = '-'\n",
    "    else:\n",
    "        prev = 'point'\n",
    "    \n",
    "    entry_sacc_list = []\n",
    "    ind_sacc_list = []\n",
    "    ind_time_list = []\n",
    "    for i in range(len(entry)):\n",
    "        if entry[i] != '-':\n",
    "            ind_sacc_list.append(entry[i])\n",
    "            ind_time_list.append(i)\n",
    "            prev = 'point'\n",
    "        elif entry[i] == '-':\n",
    "            if prev == 'point':\n",
    "                entry_sacc_list.append([ind_sacc_list, ind_time_list[0], len(ind_time_list)])\n",
    "                ind_sacc_list = []\n",
    "                ind_time_list = []\n",
    "                prev = '-'\n",
    "    processed_saccades.append(entry_sacc_list)"
   ]
  },
  {
   "cell_type": "code",
   "execution_count": 19,
   "id": "6cfbb3a5",
   "metadata": {},
   "outputs": [
    {
     "name": "stdout",
     "output_type": "stream",
     "text": [
      "Missing features at index 1338\n",
      "Missing features at index 1494\n"
     ]
    },
    {
     "data": {
      "text/html": [
       "<div>\n",
       "<style scoped>\n",
       "    .dataframe tbody tr th:only-of-type {\n",
       "        vertical-align: middle;\n",
       "    }\n",
       "\n",
       "    .dataframe tbody tr th {\n",
       "        vertical-align: top;\n",
       "    }\n",
       "\n",
       "    .dataframe thead th {\n",
       "        text-align: right;\n",
       "    }\n",
       "</style>\n",
       "<table border=\"1\" class=\"dataframe\">\n",
       "  <thead>\n",
       "    <tr style=\"text-align: right;\">\n",
       "      <th></th>\n",
       "      <th>starttime</th>\n",
       "      <th>duration</th>\n",
       "      <th>meanPupilDiameter</th>\n",
       "      <th>eventType</th>\n",
       "      <th>meanX</th>\n",
       "      <th>meanY</th>\n",
       "    </tr>\n",
       "  </thead>\n",
       "  <tbody>\n",
       "    <tr>\n",
       "      <th>0</th>\n",
       "      <td>274.122368</td>\n",
       "      <td>316.548627</td>\n",
       "      <td>294.962129</td>\n",
       "      <td>fixation</td>\n",
       "      <td>511.194913</td>\n",
       "      <td>453.877694</td>\n",
       "    </tr>\n",
       "    <tr>\n",
       "      <th>1</th>\n",
       "      <td>377.674386</td>\n",
       "      <td>242.488026</td>\n",
       "      <td>441.094175</td>\n",
       "      <td>fixation</td>\n",
       "      <td>379.576964</td>\n",
       "      <td>425.332784</td>\n",
       "    </tr>\n",
       "    <tr>\n",
       "      <th>2</th>\n",
       "      <td>196</td>\n",
       "      <td>255</td>\n",
       "      <td>329</td>\n",
       "      <td>fixation</td>\n",
       "      <td>0</td>\n",
       "      <td>150</td>\n",
       "    </tr>\n",
       "    <tr>\n",
       "      <th>3</th>\n",
       "      <td>49</td>\n",
       "      <td>63</td>\n",
       "      <td>37</td>\n",
       "      <td>fixation</td>\n",
       "      <td>142</td>\n",
       "      <td>36</td>\n",
       "    </tr>\n",
       "    <tr>\n",
       "      <th>4</th>\n",
       "      <td>0.141475</td>\n",
       "      <td>0.311627</td>\n",
       "      <td>0.292885</td>\n",
       "      <td>fixation</td>\n",
       "      <td>0.14938</td>\n",
       "      <td>0.134456</td>\n",
       "    </tr>\n",
       "  </tbody>\n",
       "</table>\n",
       "</div>"
      ],
      "text/plain": [
       "    starttime    duration meanPupilDiameter eventType       meanX       meanY\n",
       "0  274.122368  316.548627        294.962129  fixation  511.194913  453.877694\n",
       "1  377.674386  242.488026        441.094175  fixation  379.576964  425.332784\n",
       "2         196         255               329  fixation           0         150\n",
       "3          49          63                37  fixation         142          36\n",
       "4    0.141475    0.311627          0.292885  fixation     0.14938    0.134456"
      ]
     },
     "execution_count": 19,
     "metadata": {},
     "output_type": "execute_result"
    }
   ],
   "source": [
    "features = pd.DataFrame(columns=['starttime','duration', 'meanPupilDiameter', 'eventType', 'meanX', 'meanY'])\n",
    "\n",
    "for i, fix in enumerate(processed_fixations):\n",
    "    #Processed_fixations : X, Y, Timestamp, Duration, mean pupil diameter\n",
    "    try:\n",
    "        feats = pd.DataFrame({\n",
    "            'starttime': fix[2],\n",
    "            'duration': fix[3],\n",
    "            'meanPupilDiameter': fix[4],\n",
    "            'eventType': 'fixation',\n",
    "            'meanX': fix[0],\n",
    "            'meanY': fix[1]\n",
    "        })\n",
    "\n",
    "        features = pd.concat([features, feats], ignore_index = True, axis = 0)\n",
    "    except:\n",
    "        print(\"Missing features at index\", i)\n",
    "\n",
    "features.head()\n",
    "#To do here:\n",
    "#Sort each entry after start time\n",
    "#Reverse whole dataframe row-wise (concat adds to top, we don't want that.)"
   ]
  },
  {
   "cell_type": "code",
   "execution_count": 20,
   "id": "9f69ddc3",
   "metadata": {},
   "outputs": [
    {
     "data": {
      "text/plain": [
       "[<matplotlib.lines.Line2D at 0x1e2ebd91f08>]"
      ]
     },
     "execution_count": 20,
     "metadata": {},
     "output_type": "execute_result"
    },
    {
     "data": {
      "image/png": "[encoded data removed]",
      "text/plain": [
       "<Figure size 432x288 with 1 Axes>"
      ]
     },
     "metadata": {
      "needs_background": "light"
     },
     "output_type": "display_data"
    }
   ],
   "source": [
    "X = data_doves[0]['fix_data'][2][0]\n",
    "Y = data_doves[0]['fix_data'][2][1]\n",
    "\n",
    "plt.plot(X, Y)"
   ]
  },
  {
   "cell_type": "code",
   "execution_count": 21,
   "id": "1f80b2b0",
   "metadata": {},
   "outputs": [
    {
     "data": {
      "text/plain": [
       "[<matplotlib.lines.Line2D at 0x1e2acc712c8>]"
      ]
     },
     "execution_count": 21,
     "metadata": {},
     "output_type": "execute_result"
    },
    {
     "data": {
      "image/png": "[encoded data removed]",
      "text/plain": [
       "<Figure size 432x288 with 1 Axes>"
      ]
     },
     "metadata": {
      "needs_background": "light"
     },
     "output_type": "display_data"
    }
   ],
   "source": [
    "X = np.array(processed_fixations[2])[:,:1]\n",
    "Y = np.array(processed_fixations[2])[:,1:2]\n",
    "\n",
    "plt.plot(X, Y)"
   ]
  },
  {
   "cell_type": "code",
   "execution_count": 70,
   "id": "180b0b3c",
   "metadata": {},
   "outputs": [],
   "source": [
    "# Feature extraction like below, but from new data WOOHOO\n",
    "\n",
    "# -+Features to extract+-\n",
    "# Fixations\n",
    "mean_fixdur = []\n",
    "sd_fixdur = []\n",
    "max_fixdur = []\n",
    "min_fixdur = []\n",
    "total_fixdur = []\n",
    "\n",
    "n_fix = []\n",
    "n_sacc = []\n",
    "\n",
    "# Scanpath\n",
    "mean_sp_len = []\n",
    "sd_sp_len = []\n",
    "max_sp_len = []\n",
    "min_sp_len = []\n",
    "total_sp_len = []\n",
    "\n",
    "# Pupil diameter\n",
    "mean_pd = []\n",
    "sd_pd = []\n",
    "max_pd = []\n",
    "min_pd = []\n",
    "total_pd = []\n",
    "\n",
    "# Microsaccades - new method\n",
    "total_amount_ms = []\n",
    "mean_ms_len = []\n",
    "sd_ms_len = []\n",
    "total_ms_len = []\n",
    "\n",
    "# Microsaccades2 - old method\n",
    "mean_ms_len2 = []\n",
    "sd_ms_len2 = []\n",
    "total_ms_len2 = []\n",
    "\n",
    "# Meta\n",
    "n_fix_by_n_sacc = []\n",
    "\n",
    "for item in processed_fixations:\n",
    "    np_item = np.array(item)\n",
    "    mean_fixdur.append(np.mean(np_item[:,3:4]))\n",
    "    sd_fixdur.append(np.std(np_item[:,3:4]))\n",
    "    max_fixdur.append(int(max(np_item[:,3:4])))\n",
    "    min_fixdur.append(int(min(np_item[:,3:4])))\n",
    "    total_fixdur.append(int(sum(np_item[:,3:4])))\n",
    "    \n",
    "    n_fix.append(len(np_item))\n",
    "    \n",
    "    sp_dists = []\n",
    "    for i in range(len(np_item)-1):\n",
    "        p1 = [np_item[i][0], np_item[i][1]]\n",
    "        p2 = [np_item[i+1][0], np_item[i+1][1]]\n",
    "        sp_dists.append(get_dist(p1, p2))\n",
    "    if len(sp_dists) > 0:\n",
    "        mean_sp_len.append(np.mean(sp_dists))\n",
    "        sd_sp_len.append(np.std(sp_dists))\n",
    "        max_sp_len.append(max(sp_dists))\n",
    "        min_sp_len.append(min(sp_dists))\n",
    "        total_sp_len.append(sum(sp_dists))\n",
    "    else:\n",
    "        mean_sp_len.append(0)\n",
    "        sd_sp_len.append(0)\n",
    "        max_sp_len.append(0)\n",
    "        min_sp_len.append(0)\n",
    "        total_sp_len.append(0)\n",
    "        \n",
    "    ms_dists2 = []\n",
    "    for alt in np_item[:,5:6]:\n",
    "        for i in range(len(alt[0])-1):\n",
    "            p1 = [alt[0][i][0], alt[0][i][1]]\n",
    "            p2 = [alt[0][i+1][0], alt[0][i+1][1]]\n",
    "            ms_dists2.append(get_dist(p1, p2))\n",
    "    if len(ms_dists2) > 0:\n",
    "        mean_ms_len2.append(np.mean(ms_dists2))\n",
    "        sd_ms_len2.append(np.std(ms_dists2))\n",
    "        total_ms_len2.append(sum(ms_dists2))\n",
    "    else:\n",
    "        mean_ms_len2.append(0)\n",
    "        sd_ms_len2.append(0)\n",
    "        total_ms_len2.append(0)\n",
    "        \n",
    "    mean_pd.append(np.mean(np_item[:,4:5]))\n",
    "    sd_pd.append(np.std(np_item[:,4:5]))\n",
    "    max_pd.append(max(np_item[:,4:5]))\n",
    "    min_pd.append(min(np_item[:,4:5]))\n",
    "    total_pd.append(sum(np_item[:,4:5]))\n",
    "\n",
    "for item in processed_saccades:\n",
    "    n_sacc.append(len(item))\n",
    "    \n",
    "for item in processed_microsaccades:\n",
    "    ms_dists = []\n",
    "    total_amount_ms.append(len(item))\n",
    "    for ms in item:\n",
    "        for i in range(len(ms[0])-1):\n",
    "            p1 = [ms[0][i][0], ms[0][i][1]]\n",
    "            p1 = [ms[0][i+1][0], ms[0][i+1][1]]\n",
    "            ms_dists.append(get_dist(p1, p2))\n",
    "    if len(ms_dists) > 0:\n",
    "        mean_ms_len.append(np.mean(ms_dists))\n",
    "        sd_ms_len.append(np.std(ms_dists))\n",
    "        total_ms_len.append(sum(ms_dists))\n",
    "    else:\n",
    "        mean_ms_len.append(0)\n",
    "        sd_ms_len.append(0)\n",
    "        total_ms_len.append(0)\n",
    "        \n",
    "for i in range(len(n_fix)):\n",
    "    n_fix_by_n_sacc.append(n_fix[i]/n_sacc[i])\n",
    "\n",
    "    \n",
    "# Create a feature vector and append it to X\n",
    "X = []\n",
    "for i in range(len(mean_fixdur)):\n",
    "    X.append([\n",
    "        mean_fixdur[i], sd_fixdur[i], max_fixdur[i],\n",
    "        min_fixdur[i], total_fixdur[i], n_fix[i],\n",
    "        mean_sp_len[i], sd_sp_len[i], max_sp_len[i], \n",
    "        min_sp_len[i], total_sp_len[i], mean_pd[i], \n",
    "        sd_pd[i], max_pd[i], min_pd[i], \n",
    "        total_pd[i], mean_ms_len[i], sd_ms_len[i],\n",
    "        total_ms_len[i], total_amount_ms[i], n_fix_by_n_sacc[i]\n",
    "    ])"
   ]
  },
  {
   "cell_type": "raw",
   "id": "768334f3",
   "metadata": {},
   "source": [
    "# DOVES feature extraction from fixation data\n",
    "# data_doves['fix_data'] is all data for 1(!) image, with each index being data for each participant.\n",
    "\n",
    "# Features to extract\n",
    "mean_fixdur = []\n",
    "sd_fixdur = []\n",
    "max_fixdur = []\n",
    "min_fixdur = []\n",
    "\n",
    "n_fix = []\n",
    "\n",
    "mean_saccade_len = []\n",
    "sd_saccade_len = []\n",
    "max_saccade_len = []\n",
    "min_saccade_len = []\n",
    "total_saccade_len = []\n",
    "\n",
    "fixations_X = []\n",
    "fixations_Y = []\n",
    "\n",
    "# Loop through fixation data, appending data to the designated lists\n",
    "for img_entry in data_doves:\n",
    "    for entry in img_entry['fix_data']:\n",
    "        mean_fixdur.append(np.mean(entry[2]))\n",
    "        sd_fixdur.append(np.std(entry[2]))\n",
    "        max_fixdur.append(max(entry[2]))\n",
    "        min_fixdur.append(min(entry[2]))\n",
    "        \n",
    "        n_fix.append(len(entry[0]))\n",
    "        \n",
    "        xfix = entry[0]\n",
    "        yfix = entry[1]\n",
    "        if len(entry[0]) < 22:\n",
    "            fixations_X.append(xfix.extend([0]*(22-len(xfix))))\n",
    "            fixations_Y.append(yfix.extend([0]*(22-len(yfix))))\n",
    "        else:\n",
    "            fixations_X.append(xfix)\n",
    "            fixations_Y.append(yfix)\n",
    "        \n",
    "        saccade_dists = []\n",
    "        for i in range(len(entry[0])-1):\n",
    "            p1 = [entry[0][i], entry[1][i]]\n",
    "            p2 = [entry[0][i+1], entry[1][i+1]]\n",
    "            saccade_dists.append(get_dist(p1, p2))\n",
    "        if len(saccade_dists) > 0:\n",
    "            mean_saccade_len.append(np.mean(saccade_dists))\n",
    "            sd_saccade_len.append(np.std(saccade_dists))\n",
    "            max_saccade_len.append(max(saccade_dists))\n",
    "            min_saccade_len.append(min(saccade_dists))\n",
    "            total_saccade_len.append(sum(saccade_dists))\n",
    "        else:\n",
    "            mean_saccade_len.append(0)\n",
    "            sd_saccade_len.append(0)\n",
    "            max_saccade_len.append(0)\n",
    "            min_saccade_len.append(0)\n",
    "            total_saccade_len.append(0)\n",
    "\n",
    "# Create a feature vector and append it to X\n",
    "X = []\n",
    "for i in range(len(mean_fixdur)):\n",
    "    X.append([\n",
    "        mean_fixdur[i], sd_fixdur[i], max_fixdur[i],\n",
    "        min_fixdur[i], n_fix[i], mean_saccade_len[i],\n",
    "        sd_saccade_len[i], max_saccade_len[i], min_saccade_len[i],\n",
    "        total_saccade_len[i]\n",
    "    ])\n",
    "    X[i].extend(fixations_X[i])\n",
    "    X[i].extend(fixations_Y[i])"
   ]
  },
  {
   "cell_type": "code",
   "execution_count": 71,
   "id": "e7702a10",
   "metadata": {},
   "outputs": [],
   "source": [
    "# Y definition\n",
    "\n",
    "# Gender Y\n",
    "Y = []\n",
    "\n",
    "for img_entry in data_doves:\n",
    "    for i in range(len(img_entry['fix_data'])):\n",
    "        Y.append(gender_list[i])\n",
    "        \n",
    "for i in range(len(Y)):\n",
    "    if Y[i] == 'M':\n",
    "        Y[i] = 0\n",
    "    elif Y[i] == 'F':\n",
    "        Y[i] = 1\n",
    "        \n",
    "\n",
    "# Age Y\n",
    "alt_Y = []\n",
    "\n",
    "for img_entry in data_doves:\n",
    "    for i in range(len(img_entry['fix_data'])):\n",
    "        alt_Y.append(age_list[i])\n",
    "        \n",
    "for i in range(len(alt_Y)):\n",
    "    if alt_Y[i] >= 27:\n",
    "        alt_Y[i] = 0\n",
    "    elif alt_Y[i] < 27:\n",
    "        alt_Y[i] = 1"
   ]
  },
  {
   "cell_type": "code",
   "execution_count": 72,
   "id": "467a21e6",
   "metadata": {},
   "outputs": [],
   "source": [
    "# Remove nan's from the X values and replace them with 0\n",
    "for i in range(len(X)):\n",
    "    for j in range(len(X[i])):\n",
    "        if math.isnan(X[i][j]):\n",
    "            X[i][j] = 0"
   ]
  },
  {
   "cell_type": "code",
   "execution_count": 73,
   "id": "7b9a7f6c",
   "metadata": {},
   "outputs": [
    {
     "data": {
      "text/plain": [
       "0.2714474764031886"
      ]
     },
     "execution_count": 73,
     "metadata": {},
     "output_type": "execute_result"
    }
   ],
   "source": [
    "mean_pd[0]"
   ]
  },
  {
   "cell_type": "markdown",
   "id": "e5cc5d6c",
   "metadata": {},
   "source": [
    "### Classification"
   ]
  },
  {
   "cell_type": "code",
   "execution_count": 74,
   "id": "5f4eee26",
   "metadata": {},
   "outputs": [
    {
     "data": {
      "image/png": "[encoded data removed]",
      "text/plain": [
       "<Figure size 432x288 with 1 Axes>"
      ]
     },
     "metadata": {
      "needs_background": "light"
     },
     "output_type": "display_data"
    }
   ],
   "source": [
    "# Random Forest\n",
    "\n",
    "X = np.array(X)\n",
    "y = np.array(Y)\n",
    "\n",
    "model = RandomForestClassifier(\n",
    "    n_estimators=1000, criterion='entropy', min_samples_split=5,\n",
    "    min_samples_leaf=1, random_state=42, max_features='sqrt'\n",
    ")\n",
    "\n",
    "acc_score = []\n",
    "f1 = []\n",
    "recall = []\n",
    "precision = []\n",
    "\n",
    "k = 5\n",
    "kf = KFold(n_splits=k, shuffle=False)\n",
    "for train_index, test_index in kf.split(X):\n",
    "    X_train, X_test = X[train_index], X[test_index]\n",
    "    y_train, y_test = y[train_index], y[test_index]\n",
    "    \n",
    "    model.fit(X_train,y_train)\n",
    "    pred_values = model.predict(X_test)\n",
    "    \n",
    "    acc_score.append(accuracy_score(y_test, pred_values))\n",
    "    f1.append(f1_score(y_test, pred_values))\n",
    "    precision.append(precision_score(y_test, pred_values))\n",
    "    recall.append(recall_score(y_test, pred_values))\n",
    "\n",
    "ax = plt.gca()\n",
    "rfc_disp = plot_roc_curve(model, X_test, y_test, ax=ax, alpha=0.8)\n",
    "    \n",
    "rfc_avg_acc_score = sum(acc_score)/k\n",
    "rfc_avg_f1_score = sum(f1)/k\n",
    "rfc_avg_recall = sum(recall)/k\n",
    "rfc_avg_precision = sum(precision)/k"
   ]
  },
  {
   "cell_type": "code",
   "execution_count": 75,
   "id": "b83d964d",
   "metadata": {},
   "outputs": [
    {
     "name": "stdout",
     "output_type": "stream",
     "text": [
      "\n",
      "Random forest classifier results:\n",
      "Avg. acc. = 0.8644619468510253\n",
      "Avg. F1 = 0.8148760546194787\n",
      "Avg. recall = 0.7874295164029677\n",
      "Avg. precision = 0.8445567821527644\n",
      "\n",
      "Dummy classifier results:\n",
      "Avg. acc. = 0.6206878445786296\n",
      "Avg. F1 = 0.0\n",
      "Avg. recall = 0.0\n",
      "Avg. precision = 0.0\n",
      "\n"
     ]
    },
    {
     "data": {
      "image/png": "[encoded data removed]",
      "text/plain": [
       "<Figure size 432x288 with 1 Axes>"
      ]
     },
     "metadata": {
      "needs_background": "light"
     },
     "output_type": "display_data"
    }
   ],
   "source": [
    "# Dummy Classifier\n",
    "\n",
    "X = np.array(X)\n",
    "y = np.array(Y)\n",
    "\n",
    "model = DummyClassifier(strategy=\"most_frequent\")\n",
    "\n",
    "acc_score = []\n",
    "f1 = []\n",
    "recall = []\n",
    "precision = []\n",
    "\n",
    "k = 5\n",
    "kf = KFold(n_splits=k, shuffle=False)\n",
    "for train_index, test_index in kf.split(X):\n",
    "    X_train, X_test = X[train_index], X[test_index]\n",
    "    y_train, y_test = y[train_index], y[test_index]\n",
    "    \n",
    "    model.fit(X_train,y_train)\n",
    "    pred_values = model.predict(X_test)\n",
    "    \n",
    "    acc_score.append(accuracy_score(y_test, pred_values))\n",
    "    f1.append(f1_score(y_test, pred_values))\n",
    "    precision.append(precision_score(y_test, pred_values))\n",
    "    recall.append(recall_score(y_test, pred_values))\n",
    "\n",
    "ax = plt.gca()\n",
    "d_disp = plot_roc_curve(model, X_test, y_test, ax=ax, alpha=0.8)\n",
    "rfc_disp.plot(ax=ax, alpha=0.8)\n",
    "    \n",
    "d_avg_acc_score = sum(acc_score)/k\n",
    "d_avg_f1_score = sum(f1)/k\n",
    "d_avg_recall = sum(recall)/k\n",
    "d_avg_precision = sum(precision)/k\n",
    "\n",
    "print(f\"\"\"\n",
    "Random forest classifier results:\n",
    "Avg. acc. = {rfc_avg_acc_score}\n",
    "Avg. F1 = {rfc_avg_f1_score}\n",
    "Avg. recall = {rfc_avg_recall}\n",
    "Avg. precision = {rfc_avg_precision}\n",
    "\n",
    "Dummy classifier results:\n",
    "Avg. acc. = {d_avg_acc_score}\n",
    "Avg. F1 = {d_avg_f1_score}\n",
    "Avg. recall = {d_avg_recall}\n",
    "Avg. precision = {d_avg_precision}\n",
    "\"\"\")\n"
   ]
  },
  {
   "cell_type": "code",
   "execution_count": 76,
   "id": "65cd7902",
   "metadata": {},
   "outputs": [
    {
     "data": {
      "text/plain": [
       "<function pandas.core.reshape.concat.concat(objs: 'Iterable[NDFrame] | Mapping[Hashable, NDFrame]', axis=0, join='outer', ignore_index: 'bool' = False, keys=None, levels=None, names=None, verify_integrity: 'bool' = False, sort: 'bool' = False, copy: 'bool' = True) -> 'FrameOrSeriesUnion'>"
      ]
     },
     "execution_count": 76,
     "metadata": {},
     "output_type": "execute_result"
    }
   ],
   "source": [
    "features = pd.DataFrame(columns=['starttime','duration', 'meanPupilDiameter', 'eventType', 'meanX', 'meanY'])\n",
    "pd.concat\n"
   ]
  },
  {
   "cell_type": "code",
   "execution_count": 77,
   "id": "837f7de2",
   "metadata": {},
   "outputs": [
    {
     "data": {
      "text/html": [
       "<div>\n",
       "<style scoped>\n",
       "    .dataframe tbody tr th:only-of-type {\n",
       "        vertical-align: middle;\n",
       "    }\n",
       "\n",
       "    .dataframe tbody tr th {\n",
       "        vertical-align: top;\n",
       "    }\n",
       "\n",
       "    .dataframe thead th {\n",
       "        text-align: right;\n",
       "    }\n",
       "</style>\n",
       "<table border=\"1\" class=\"dataframe\">\n",
       "  <thead>\n",
       "    <tr style=\"text-align: right;\">\n",
       "      <th></th>\n",
       "      <th>0</th>\n",
       "      <th>1</th>\n",
       "    </tr>\n",
       "  </thead>\n",
       "  <tbody>\n",
       "    <tr>\n",
       "      <th>row3</th>\n",
       "      <td>1</td>\n",
       "      <td>2</td>\n",
       "    </tr>\n",
       "    <tr>\n",
       "      <th>row1</th>\n",
       "      <td>3</td>\n",
       "      <td>4</td>\n",
       "    </tr>\n",
       "    <tr>\n",
       "      <th>row2</th>\n",
       "      <td>5</td>\n",
       "      <td>6</td>\n",
       "    </tr>\n",
       "  </tbody>\n",
       "</table>\n",
       "</div>"
      ],
      "text/plain": [
       "      0  1\n",
       "row3  1  2\n",
       "row1  3  4\n",
       "row2  5  6"
      ]
     },
     "execution_count": 77,
     "metadata": {},
     "output_type": "execute_result"
    }
   ],
   "source": [
    "a_row = pd.Series([1, 2])\n",
    "\n",
    "df = pd.DataFrame([[3, 4], [5, 6]], index = [\"row1\", \"row2\"])\n",
    "\n",
    "\n",
    "row_df = pd.DataFrame([a_row], index = [\"row3\"])\n",
    "\n",
    "df = pd.concat([row_df, df])\n",
    "\n",
    "\n",
    "df"
   ]
  },
  {
   "cell_type": "code",
   "execution_count": null,
   "id": "6aebae96",
   "metadata": {},
   "outputs": [],
   "source": []
  },
  {
   "cell_type": "code",
   "execution_count": null,
   "id": "511e99ac",
   "metadata": {},
   "outputs": [],
   "source": []
  },
  {
   "cell_type": "code",
   "execution_count": null,
   "id": "7649064e",
   "metadata": {},
   "outputs": [],
   "source": []
  },
  {
   "cell_type": "code",
   "execution_count": null,
   "id": "34231b31",
   "metadata": {},
   "outputs": [],
   "source": []
  },
  {
   "cell_type": "code",
   "execution_count": null,
   "id": "6aa8a783",
   "metadata": {},
   "outputs": [],
   "source": []
  }
 ],
 "metadata": {
  "kernelspec": {
   "display_name": "Python 3 (ipykernel)",
   "language": "python",
   "name": "python3"
  },
  "language_info": {
   "codemirror_mode": {
    "name": "ipython",
    "version": 3
   },
   "file_extension": ".py",
   "mimetype": "text/x-python",
   "name": "python",
   "nbconvert_exporter": "python",
   "pygments_lexer": "ipython3",
   "version": "3.7.11"
  }
 },
 "nbformat": 4,
 "nbformat_minor": 5
}
